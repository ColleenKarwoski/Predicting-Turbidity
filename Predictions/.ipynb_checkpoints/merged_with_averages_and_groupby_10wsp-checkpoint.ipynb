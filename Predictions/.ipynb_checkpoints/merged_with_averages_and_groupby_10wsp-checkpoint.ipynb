{
 "cells": [
  {
   "cell_type": "code",
   "execution_count": 1,
   "metadata": {},
   "outputs": [],
   "source": [
    "#import libraries \n",
    "import pandas as pd\n",
    "import numpy as np"
   ]
  },
  {
   "cell_type": "code",
   "execution_count": 2,
   "metadata": {},
   "outputs": [
    {
     "name": "stderr",
     "output_type": "stream",
     "text": [
      "C:\\Users\\katel\\AppData\\Local\\Temp\\ipykernel_34116\\327485008.py:5: FutureWarning: The error_bad_lines argument has been deprecated and will be removed in a future version. Use on_bad_lines in the future.\n",
      "\n",
      "\n",
      "  merged_df = pd.read_csv(merged_data, error_bad_lines=False)\n",
      "Skipping line 8643: expected 65 fields, saw 66\n",
      "\n",
      "Skipping line 17382: expected 65 fields, saw 66\n",
      "\n",
      "Skipping line 26216: expected 65 fields, saw 66\n",
      "\n",
      "Skipping line 35049: expected 65 fields, saw 66\n",
      "\n",
      "Skipping line 43689: expected 65 fields, saw 66\n",
      "\n",
      "Skipping line 52429: expected 65 fields, saw 66\n",
      "\n",
      "Skipping line 61264: expected 65 fields, saw 66\n",
      "\n",
      "Skipping line 70096: expected 65 fields, saw 66\n",
      "\n",
      "Skipping line 78832: expected 65 fields, saw 66\n",
      "\n",
      "Skipping line 87568: expected 65 fields, saw 66\n",
      "\n",
      "Skipping line 96404: expected 65 fields, saw 66\n",
      "\n",
      "Skipping line 105236: expected 65 fields, saw 66\n",
      "\n",
      "Skipping line 113876: expected 65 fields, saw 66\n",
      "\n",
      "Skipping line 122615: expected 65 fields, saw 66\n",
      "\n",
      "Skipping line 131451: expected 65 fields, saw 66\n",
      "\n",
      "Skipping line 140286: expected 65 fields, saw 66\n",
      "\n",
      "Skipping line 148926: expected 65 fields, saw 66\n",
      "\n",
      "Skipping line 157663: expected 65 fields, saw 66\n",
      "\n",
      "Skipping line 166498: expected 65 fields, saw 66\n",
      "\n",
      "C:\\Users\\katel\\AppData\\Local\\Temp\\ipykernel_34116\\327485008.py:5: DtypeWarning: Columns (3,17,24,25,27,29,31,33,35,37,39,41,43,45,47,51,53,55,57,59,61,63) have mixed types. Specify dtype option on import or set low_memory=False.\n",
      "  merged_df = pd.read_csv(merged_data, error_bad_lines=False)\n"
     ]
    },
    {
     "data": {
      "text/plain": [
       "175310"
      ]
     },
     "execution_count": 2,
     "metadata": {},
     "output_type": "execute_result"
    }
   ],
   "source": [
    "# The path to our CSV file\n",
    "merged_data = \"../Bakers_Island_Data/221315.csv\"\n",
    "\n",
    "# Read our Crowdfunding data into pandas\n",
    "merged_df = pd.read_csv(merged_data, error_bad_lines=False)\n",
    "merged_df.head()\n",
    "len(merged_df)"
   ]
  },
  {
   "cell_type": "code",
   "execution_count": 3,
   "metadata": {},
   "outputs": [
    {
     "data": {
      "text/plain": [
       "Index(['DateTimeStamp', 'LKSPOMET_Station_Code', 'LKSPOMET_isSWMP',\n",
       "       'LKSPOMET_F_Record', 'LKSPOMET_ATemp', 'LKSPOMET_F_ATemp',\n",
       "       'LKSPOMET_RH', 'LKSPOMET_F_RH', 'LKSPOMET_BP', 'LKSPOMET_F_BP',\n",
       "       'LKSPOMET_WSpd', 'LKSPOMET_F_WSpd', 'LKSPOMET_MaxWSpd', 'LKSPOMET_Wdir',\n",
       "       'LKSPOMET_F_Wdir', 'LKSPOMET_SDWDir', 'LKSPOMET_F_SDWDir',\n",
       "       'LKSPOMET_TotPAR', 'LKSPOMET_F_TotPAR', 'LKSPOMET_TotPrcp',\n",
       "       'LKSPOMET_F_TotPrcp', 'LKSPOMET_TotSoRad', 'LKSPOMET_F_TotSoRad',\n",
       "       'LKSBAWQ_Station_Code', 'LKSBAWQ_isSWMP', 'LKSBAWQ_F_Record',\n",
       "       'LKSBAWQ_Temp', 'LKSBAWQ_F_Temp', 'LKSBAWQ_SpCond', 'LKSBAWQ_F_SpCond',\n",
       "       'LKSBAWQ_Sal', 'LKSBAWQ_F_Sal', 'LKSBAWQ_DO_pct', 'LKSBAWQ_F_DO_pct',\n",
       "       'LKSBAWQ_DO_mgl', 'LKSBAWQ_F_DO_mgl', 'LKSBAWQ_Depth',\n",
       "       'LKSBAWQ_F_Depth', 'LKSBAWQ_cDepth', 'LKSBAWQ_F_cDepth', 'LKSBAWQ_pH',\n",
       "       'LKSBAWQ_F_pH', 'LKSBAWQ_Turb', 'LKSBAWQ_F_Turb', 'LKSBAWQ_ChlFluor',\n",
       "       'LKSBAWQ_F_ChlFluor', 'LKSBANUT_Station_Code', 'LKSBANUT_isSWMP',\n",
       "       'LKSBANUT_DateTimeStamp', 'LKSBANUT_CollMethd', 'LKSBANUT_REP',\n",
       "       'LKSBANUT_F_Record', 'LKSBANUT_PO4F', 'LKSBANUT_F_PO4F',\n",
       "       'LKSBANUT_NH4F', 'LKSBANUT_F_NH4F', 'LKSBANUT_NO2F', 'LKSBANUT_F_NO2F',\n",
       "       'LKSBANUT_NO3F', 'LKSBANUT_F_NO3F', 'LKSBANUT_NO23F',\n",
       "       'LKSBANUT_F_NO23F', 'LKSBANUT_CHLA_N', 'LKSBANUT_F_CHLA_N',\n",
       "       'Unnamed: 64'],\n",
       "      dtype='object')"
      ]
     },
     "execution_count": 3,
     "metadata": {},
     "output_type": "execute_result"
    }
   ],
   "source": [
    "# Get a list of all of our columns for easy reference\n",
    "merged_df.columns"
   ]
  },
  {
   "cell_type": "code",
   "execution_count": 4,
   "metadata": {},
   "outputs": [
    {
     "data": {
      "text/html": [
       "<div>\n",
       "<style scoped>\n",
       "    .dataframe tbody tr th:only-of-type {\n",
       "        vertical-align: middle;\n",
       "    }\n",
       "\n",
       "    .dataframe tbody tr th {\n",
       "        vertical-align: top;\n",
       "    }\n",
       "\n",
       "    .dataframe thead th {\n",
       "        text-align: right;\n",
       "    }\n",
       "</style>\n",
       "<table border=\"1\" class=\"dataframe\">\n",
       "  <thead>\n",
       "    <tr style=\"text-align: right;\">\n",
       "      <th></th>\n",
       "      <th>DateTimeStamp</th>\n",
       "      <th>LKSPOMET_ATemp</th>\n",
       "      <th>LKSPOMET_F_ATemp</th>\n",
       "      <th>LKSBAWQ_Temp</th>\n",
       "      <th>LKSBAWQ_F_Temp</th>\n",
       "      <th>LKSPOMET_WSpd</th>\n",
       "      <th>LKSPOMET_F_WSpd</th>\n",
       "      <th>LKSBAWQ_Depth</th>\n",
       "      <th>LKSBAWQ_F_Depth</th>\n",
       "      <th>LKSBAWQ_pH</th>\n",
       "      <th>LKSBAWQ_F_pH</th>\n",
       "      <th>LKSPOMET_TotPrcp</th>\n",
       "      <th>LKSPOMET_F_TotPrcp</th>\n",
       "      <th>LKSBAWQ_Turb</th>\n",
       "      <th>LKSBAWQ_F_Turb</th>\n",
       "    </tr>\n",
       "  </thead>\n",
       "  <tbody>\n",
       "    <tr>\n",
       "      <th>0</th>\n",
       "      <td>01/01/2018 0:00</td>\n",
       "      <td>-24.5</td>\n",
       "      <td>&lt;0&gt;</td>\n",
       "      <td>NaN</td>\n",
       "      <td>&lt;-2&gt; [GIC]</td>\n",
       "      <td>0.9</td>\n",
       "      <td>&lt;1&gt; [GSM]</td>\n",
       "      <td>NaN</td>\n",
       "      <td>&lt;-2&gt; [GIC]</td>\n",
       "      <td>NaN</td>\n",
       "      <td>&lt;-2&gt; [GIC]</td>\n",
       "      <td>0.0</td>\n",
       "      <td>&lt;-3&gt; (CSM)</td>\n",
       "      <td>NaN</td>\n",
       "      <td>&lt;-2&gt; [GIC]</td>\n",
       "    </tr>\n",
       "    <tr>\n",
       "      <th>1</th>\n",
       "      <td>01/01/2018 0:15</td>\n",
       "      <td>-24.7</td>\n",
       "      <td>&lt;0&gt;</td>\n",
       "      <td>NaN</td>\n",
       "      <td>&lt;-2&gt; [GIC]</td>\n",
       "      <td>1.4</td>\n",
       "      <td>&lt;1&gt; [GSM]</td>\n",
       "      <td>NaN</td>\n",
       "      <td>&lt;-2&gt; [GIC]</td>\n",
       "      <td>NaN</td>\n",
       "      <td>&lt;-2&gt; [GIC]</td>\n",
       "      <td>0.0</td>\n",
       "      <td>&lt;-3&gt; (CSM)</td>\n",
       "      <td>NaN</td>\n",
       "      <td>&lt;-2&gt; [GIC]</td>\n",
       "    </tr>\n",
       "    <tr>\n",
       "      <th>2</th>\n",
       "      <td>01/01/2018 0:30</td>\n",
       "      <td>-24.8</td>\n",
       "      <td>&lt;0&gt;</td>\n",
       "      <td>NaN</td>\n",
       "      <td>&lt;-2&gt; [GIC]</td>\n",
       "      <td>1.7</td>\n",
       "      <td>&lt;1&gt; [GSM]</td>\n",
       "      <td>NaN</td>\n",
       "      <td>&lt;-2&gt; [GIC]</td>\n",
       "      <td>NaN</td>\n",
       "      <td>&lt;-2&gt; [GIC]</td>\n",
       "      <td>0.0</td>\n",
       "      <td>&lt;-3&gt; (CSM)</td>\n",
       "      <td>NaN</td>\n",
       "      <td>&lt;-2&gt; [GIC]</td>\n",
       "    </tr>\n",
       "    <tr>\n",
       "      <th>3</th>\n",
       "      <td>01/01/2018 0:45</td>\n",
       "      <td>-25.0</td>\n",
       "      <td>&lt;0&gt;</td>\n",
       "      <td>NaN</td>\n",
       "      <td>&lt;-2&gt; [GIC]</td>\n",
       "      <td>1.4</td>\n",
       "      <td>&lt;1&gt; [GSM]</td>\n",
       "      <td>NaN</td>\n",
       "      <td>&lt;-2&gt; [GIC]</td>\n",
       "      <td>NaN</td>\n",
       "      <td>&lt;-2&gt; [GIC]</td>\n",
       "      <td>0.0</td>\n",
       "      <td>&lt;-3&gt; (CSM)</td>\n",
       "      <td>NaN</td>\n",
       "      <td>&lt;-2&gt; [GIC]</td>\n",
       "    </tr>\n",
       "    <tr>\n",
       "      <th>4</th>\n",
       "      <td>01/01/2018 1:00</td>\n",
       "      <td>-25.2</td>\n",
       "      <td>&lt;0&gt;</td>\n",
       "      <td>NaN</td>\n",
       "      <td>&lt;-2&gt; [GIC]</td>\n",
       "      <td>1.6</td>\n",
       "      <td>&lt;1&gt; [GSM]</td>\n",
       "      <td>NaN</td>\n",
       "      <td>&lt;-2&gt; [GIC]</td>\n",
       "      <td>NaN</td>\n",
       "      <td>&lt;-2&gt; [GIC]</td>\n",
       "      <td>0.0</td>\n",
       "      <td>&lt;-3&gt; (CSM)</td>\n",
       "      <td>NaN</td>\n",
       "      <td>&lt;-2&gt; [GIC]</td>\n",
       "    </tr>\n",
       "  </tbody>\n",
       "</table>\n",
       "</div>"
      ],
      "text/plain": [
       "     DateTimeStamp  LKSPOMET_ATemp LKSPOMET_F_ATemp  LKSBAWQ_Temp  \\\n",
       "0  01/01/2018 0:00           -24.5             <0>            NaN   \n",
       "1  01/01/2018 0:15           -24.7             <0>            NaN   \n",
       "2  01/01/2018 0:30           -24.8             <0>            NaN   \n",
       "3  01/01/2018 0:45           -25.0             <0>            NaN   \n",
       "4  01/01/2018 1:00           -25.2             <0>            NaN   \n",
       "\n",
       "  LKSBAWQ_F_Temp  LKSPOMET_WSpd LKSPOMET_F_WSpd  LKSBAWQ_Depth  \\\n",
       "0     <-2> [GIC]            0.9       <1> [GSM]            NaN   \n",
       "1     <-2> [GIC]            1.4       <1> [GSM]            NaN   \n",
       "2     <-2> [GIC]            1.7       <1> [GSM]            NaN   \n",
       "3     <-2> [GIC]            1.4       <1> [GSM]            NaN   \n",
       "4     <-2> [GIC]            1.6       <1> [GSM]            NaN   \n",
       "\n",
       "  LKSBAWQ_F_Depth  LKSBAWQ_pH LKSBAWQ_F_pH  LKSPOMET_TotPrcp  \\\n",
       "0      <-2> [GIC]         NaN   <-2> [GIC]               0.0   \n",
       "1      <-2> [GIC]         NaN   <-2> [GIC]               0.0   \n",
       "2      <-2> [GIC]         NaN   <-2> [GIC]               0.0   \n",
       "3      <-2> [GIC]         NaN   <-2> [GIC]               0.0   \n",
       "4      <-2> [GIC]         NaN   <-2> [GIC]               0.0   \n",
       "\n",
       "  LKSPOMET_F_TotPrcp  LKSBAWQ_Turb LKSBAWQ_F_Turb  \n",
       "0         <-3> (CSM)           NaN     <-2> [GIC]  \n",
       "1         <-3> (CSM)           NaN     <-2> [GIC]  \n",
       "2         <-3> (CSM)           NaN     <-2> [GIC]  \n",
       "3         <-3> (CSM)           NaN     <-2> [GIC]  \n",
       "4         <-3> (CSM)           NaN     <-2> [GIC]  "
      ]
     },
     "execution_count": 4,
     "metadata": {},
     "output_type": "execute_result"
    }
   ],
   "source": [
    "#Create data frame of prioritized data elements for analysis (water temp, water salinitiy, water depth, water pH, and total precipitation)\n",
    "new_df = merged_df[['DateTimeStamp',\n",
    "                    'LKSPOMET_ATemp', 'LKSPOMET_F_ATemp', \n",
    "                    'LKSBAWQ_Temp', 'LKSBAWQ_F_Temp',\n",
    "                    'LKSPOMET_WSpd', 'LKSPOMET_F_WSpd',\n",
    "                   'LKSBAWQ_Depth','LKSBAWQ_F_Depth', \n",
    "                    'LKSBAWQ_pH','LKSBAWQ_F_pH', \n",
    "                   'LKSPOMET_TotPrcp','LKSPOMET_F_TotPrcp',\n",
    "                    'LKSBAWQ_Turb', 'LKSBAWQ_F_Turb'\n",
    "                   ]]\n",
    "new_df.head()"
   ]
  },
  {
   "cell_type": "code",
   "execution_count": 5,
   "metadata": {},
   "outputs": [],
   "source": [
    "# Check air temperature column values \n",
    "\n",
    "#metTemp_Values = new_df['LKSPOMET_F_ATemp'].values.tolist()\n",
    "#print(metTemp_Values)"
   ]
  },
  {
   "cell_type": "code",
   "execution_count": 6,
   "metadata": {},
   "outputs": [
    {
     "data": {
      "text/plain": [
       "159772"
      ]
     },
     "execution_count": 6,
     "metadata": {},
     "output_type": "execute_result"
    }
   ],
   "source": [
    "#Exclude data that was flagged (0=Passed Initial QAQC Checks,  5=Corrected Data)\n",
    "quality_codes = ['<0> ', '<0> [GMT]','<5> '];\n",
    "filtered_mettemp_df = new_df[new_df['LKSPOMET_F_ATemp'].isin(quality_codes)]\n",
    "#filtered_mettemp_df.head()\n",
    "len(filtered_mettemp_df)"
   ]
  },
  {
   "cell_type": "code",
   "execution_count": 7,
   "metadata": {},
   "outputs": [
    {
     "data": {
      "text/plain": [
       "90441"
      ]
     },
     "execution_count": 7,
     "metadata": {},
     "output_type": "execute_result"
    }
   ],
   "source": [
    "#Exclude data that was flagged (0=Passed Initial QAQC Checks,  5=Corrected Data)\n",
    "quality_codes = ['<0> ', '<0> [GMT]','<5> '];\n",
    "wqtemp_df = filtered_mettemp_df[filtered_mettemp_df['LKSBAWQ_F_Temp'].isin(quality_codes)]\n",
    "#wqtemp_df.head()\n",
    "len(wqtemp_df)"
   ]
  },
  {
   "cell_type": "code",
   "execution_count": 8,
   "metadata": {},
   "outputs": [
    {
     "data": {
      "text/plain": [
       "90437"
      ]
     },
     "execution_count": 8,
     "metadata": {},
     "output_type": "execute_result"
    }
   ],
   "source": [
    "#Exclude data that was flagged (0=Passed Initial QAQC Checks,  5=Corrected Data) LKSBAWQ_F_Depth\n",
    "quality_codes = ['<0> ', '<0> [GMT]','<5> '];\n",
    "ws_df = wqtemp_df[wqtemp_df['LKSPOMET_F_WSpd'].isin(quality_codes)]\n",
    "#depth_df.head()\n",
    "len(ws_df)"
   ]
  },
  {
   "cell_type": "code",
   "execution_count": 9,
   "metadata": {},
   "outputs": [
    {
     "data": {
      "text/plain": [
       "84519"
      ]
     },
     "execution_count": 9,
     "metadata": {},
     "output_type": "execute_result"
    }
   ],
   "source": [
    "#Exclude data that was flagged (0=Passed Initial QAQC Checks,  5=Corrected Data) LKSBAWQ_F_Depth\n",
    "quality_codes = ['<0> ', '<0> [GMT]','<5> '];\n",
    "depth_df = ws_df[ws_df['LKSBAWQ_F_Depth'].isin(quality_codes)]\n",
    "#depth_df.head()\n",
    "len(depth_df)"
   ]
  },
  {
   "cell_type": "code",
   "execution_count": 10,
   "metadata": {},
   "outputs": [
    {
     "data": {
      "text/plain": [
       "80664"
      ]
     },
     "execution_count": 10,
     "metadata": {},
     "output_type": "execute_result"
    }
   ],
   "source": [
    "#Exclude data that was flagged (0=Passed Initial QAQC Checks,  5=Corrected Data) LKSBAWQ_F_pH\n",
    "quality_codes = ['<0> ', '<0> [GMT]','<5> '];\n",
    "pH_df = depth_df[depth_df['LKSBAWQ_F_pH'].isin(quality_codes)]\n",
    "#pH_df.head()\n",
    "len(pH_df)"
   ]
  },
  {
   "cell_type": "code",
   "execution_count": 11,
   "metadata": {},
   "outputs": [
    {
     "data": {
      "text/plain": [
       "63958"
      ]
     },
     "execution_count": 11,
     "metadata": {},
     "output_type": "execute_result"
    }
   ],
   "source": [
    "#Exclude data that was flagged (0=Passed Initial QAQC Checks,  5=Corrected Data) LKSPOMET_F_TotPrcp\n",
    "quality_codes = ['<0> ', '<0> [GMT]','<5> '];\n",
    "precip_df = pH_df[pH_df['LKSPOMET_F_TotPrcp'].isin(quality_codes)]\n",
    "#precip_df.head()\n",
    "len(precip_df)"
   ]
  },
  {
   "cell_type": "code",
   "execution_count": 12,
   "metadata": {},
   "outputs": [
    {
     "data": {
      "text/plain": [
       "59228"
      ]
     },
     "execution_count": 12,
     "metadata": {},
     "output_type": "execute_result"
    }
   ],
   "source": [
    "#Exclude data that was flagged (0=Passed Initial QAQC Checks,  5=Corrected Data) LKSBAWQ_F_Turb\n",
    "quality_codes = ['<0> ', '<0> [GMT]','<5> '];\n",
    "turbidity_df = precip_df[precip_df['LKSBAWQ_F_Turb'].isin(quality_codes)]\n",
    "#turbidity_df.head()\n",
    "len(turbidity_df)"
   ]
  },
  {
   "cell_type": "code",
   "execution_count": 13,
   "metadata": {},
   "outputs": [
    {
     "data": {
      "text/html": [
       "<div>\n",
       "<style scoped>\n",
       "    .dataframe tbody tr th:only-of-type {\n",
       "        vertical-align: middle;\n",
       "    }\n",
       "\n",
       "    .dataframe tbody tr th {\n",
       "        vertical-align: top;\n",
       "    }\n",
       "\n",
       "    .dataframe thead th {\n",
       "        text-align: right;\n",
       "    }\n",
       "</style>\n",
       "<table border=\"1\" class=\"dataframe\">\n",
       "  <thead>\n",
       "    <tr style=\"text-align: right;\">\n",
       "      <th></th>\n",
       "      <th>DateTimeStamp</th>\n",
       "      <th>LKSPOMET_ATemp</th>\n",
       "      <th>LKSPOMET_F_ATemp</th>\n",
       "      <th>LKSBAWQ_Temp</th>\n",
       "      <th>LKSBAWQ_F_Temp</th>\n",
       "      <th>LKSPOMET_WSpd</th>\n",
       "      <th>LKSPOMET_F_WSpd</th>\n",
       "      <th>LKSBAWQ_Depth</th>\n",
       "      <th>LKSBAWQ_F_Depth</th>\n",
       "      <th>LKSBAWQ_pH</th>\n",
       "      <th>LKSBAWQ_F_pH</th>\n",
       "      <th>LKSPOMET_TotPrcp</th>\n",
       "      <th>LKSPOMET_F_TotPrcp</th>\n",
       "      <th>LKSBAWQ_Turb</th>\n",
       "      <th>LKSBAWQ_F_Turb</th>\n",
       "    </tr>\n",
       "  </thead>\n",
       "  <tbody>\n",
       "    <tr>\n",
       "      <th>14458</th>\n",
       "      <td>05/31/2018 14:00</td>\n",
       "      <td>24.4</td>\n",
       "      <td>&lt;0&gt;</td>\n",
       "      <td>17.4</td>\n",
       "      <td>&lt;0&gt;</td>\n",
       "      <td>4.0</td>\n",
       "      <td>&lt;0&gt;</td>\n",
       "      <td>1.58</td>\n",
       "      <td>&lt;0&gt;</td>\n",
       "      <td>7.8</td>\n",
       "      <td>&lt;0&gt;</td>\n",
       "      <td>0.0</td>\n",
       "      <td>&lt;0&gt;</td>\n",
       "      <td>15.0</td>\n",
       "      <td>&lt;0&gt;</td>\n",
       "    </tr>\n",
       "    <tr>\n",
       "      <th>14459</th>\n",
       "      <td>05/31/2018 14:15</td>\n",
       "      <td>24.4</td>\n",
       "      <td>&lt;0&gt;</td>\n",
       "      <td>17.6</td>\n",
       "      <td>&lt;0&gt;</td>\n",
       "      <td>4.6</td>\n",
       "      <td>&lt;0&gt;</td>\n",
       "      <td>1.58</td>\n",
       "      <td>&lt;0&gt;</td>\n",
       "      <td>7.8</td>\n",
       "      <td>&lt;0&gt;</td>\n",
       "      <td>0.0</td>\n",
       "      <td>&lt;0&gt;</td>\n",
       "      <td>14.0</td>\n",
       "      <td>&lt;0&gt;</td>\n",
       "    </tr>\n",
       "    <tr>\n",
       "      <th>14460</th>\n",
       "      <td>05/31/2018 14:30</td>\n",
       "      <td>24.3</td>\n",
       "      <td>&lt;0&gt;</td>\n",
       "      <td>17.4</td>\n",
       "      <td>&lt;0&gt;</td>\n",
       "      <td>4.3</td>\n",
       "      <td>&lt;0&gt;</td>\n",
       "      <td>1.58</td>\n",
       "      <td>&lt;0&gt;</td>\n",
       "      <td>7.8</td>\n",
       "      <td>&lt;0&gt;</td>\n",
       "      <td>0.0</td>\n",
       "      <td>&lt;0&gt;</td>\n",
       "      <td>15.0</td>\n",
       "      <td>&lt;0&gt;</td>\n",
       "    </tr>\n",
       "    <tr>\n",
       "      <th>14461</th>\n",
       "      <td>05/31/2018 14:45</td>\n",
       "      <td>24.7</td>\n",
       "      <td>&lt;0&gt;</td>\n",
       "      <td>17.7</td>\n",
       "      <td>&lt;0&gt;</td>\n",
       "      <td>3.4</td>\n",
       "      <td>&lt;0&gt;</td>\n",
       "      <td>1.57</td>\n",
       "      <td>&lt;0&gt;</td>\n",
       "      <td>7.9</td>\n",
       "      <td>&lt;0&gt;</td>\n",
       "      <td>0.0</td>\n",
       "      <td>&lt;0&gt;</td>\n",
       "      <td>14.0</td>\n",
       "      <td>&lt;0&gt;</td>\n",
       "    </tr>\n",
       "    <tr>\n",
       "      <th>14462</th>\n",
       "      <td>05/31/2018 15:00</td>\n",
       "      <td>24.4</td>\n",
       "      <td>&lt;0&gt;</td>\n",
       "      <td>17.6</td>\n",
       "      <td>&lt;0&gt;</td>\n",
       "      <td>4.6</td>\n",
       "      <td>&lt;0&gt;</td>\n",
       "      <td>1.59</td>\n",
       "      <td>&lt;0&gt;</td>\n",
       "      <td>7.8</td>\n",
       "      <td>&lt;0&gt;</td>\n",
       "      <td>0.0</td>\n",
       "      <td>&lt;0&gt;</td>\n",
       "      <td>13.0</td>\n",
       "      <td>&lt;0&gt;</td>\n",
       "    </tr>\n",
       "  </tbody>\n",
       "</table>\n",
       "</div>"
      ],
      "text/plain": [
       "          DateTimeStamp  LKSPOMET_ATemp LKSPOMET_F_ATemp  LKSBAWQ_Temp  \\\n",
       "14458  05/31/2018 14:00            24.4             <0>           17.4   \n",
       "14459  05/31/2018 14:15            24.4             <0>           17.6   \n",
       "14460  05/31/2018 14:30            24.3             <0>           17.4   \n",
       "14461  05/31/2018 14:45            24.7             <0>           17.7   \n",
       "14462  05/31/2018 15:00            24.4             <0>           17.6   \n",
       "\n",
       "      LKSBAWQ_F_Temp  LKSPOMET_WSpd LKSPOMET_F_WSpd  LKSBAWQ_Depth  \\\n",
       "14458           <0>             4.0            <0>            1.58   \n",
       "14459           <0>             4.6            <0>            1.58   \n",
       "14460           <0>             4.3            <0>            1.58   \n",
       "14461           <0>             3.4            <0>            1.57   \n",
       "14462           <0>             4.6            <0>            1.59   \n",
       "\n",
       "      LKSBAWQ_F_Depth  LKSBAWQ_pH LKSBAWQ_F_pH  LKSPOMET_TotPrcp  \\\n",
       "14458            <0>          7.8         <0>                0.0   \n",
       "14459            <0>          7.8         <0>                0.0   \n",
       "14460            <0>          7.8         <0>                0.0   \n",
       "14461            <0>          7.9         <0>                0.0   \n",
       "14462            <0>          7.8         <0>                0.0   \n",
       "\n",
       "      LKSPOMET_F_TotPrcp  LKSBAWQ_Turb LKSBAWQ_F_Turb  \n",
       "14458               <0>           15.0           <0>   \n",
       "14459               <0>           14.0           <0>   \n",
       "14460               <0>           15.0           <0>   \n",
       "14461               <0>           14.0           <0>   \n",
       "14462               <0>           13.0           <0>   "
      ]
     },
     "execution_count": 13,
     "metadata": {},
     "output_type": "execute_result"
    }
   ],
   "source": [
    "#Check dataframe\n",
    "turbidity_df.head()"
   ]
  },
  {
   "cell_type": "code",
   "execution_count": 14,
   "metadata": {
    "scrolled": true
   },
   "outputs": [
    {
     "name": "stderr",
     "output_type": "stream",
     "text": [
      "C:\\Users\\katel\\AppData\\Local\\Temp\\ipykernel_34116\\3236543836.py:2: SettingWithCopyWarning: \n",
      "A value is trying to be set on a copy of a slice from a DataFrame.\n",
      "Try using .loc[row_indexer,col_indexer] = value instead\n",
      "\n",
      "See the caveats in the documentation: https://pandas.pydata.org/pandas-docs/stable/user_guide/indexing.html#returning-a-view-versus-a-copy\n",
      "  turbidity_df[['Date','Time']] = turbidity_df.DateTimeStamp.str.split(\" \", expand = True)\n",
      "C:\\Users\\katel\\AppData\\Local\\Temp\\ipykernel_34116\\3236543836.py:2: SettingWithCopyWarning: \n",
      "A value is trying to be set on a copy of a slice from a DataFrame.\n",
      "Try using .loc[row_indexer,col_indexer] = value instead\n",
      "\n",
      "See the caveats in the documentation: https://pandas.pydata.org/pandas-docs/stable/user_guide/indexing.html#returning-a-view-versus-a-copy\n",
      "  turbidity_df[['Date','Time']] = turbidity_df.DateTimeStamp.str.split(\" \", expand = True)\n"
     ]
    },
    {
     "data": {
      "text/html": [
       "<div>\n",
       "<style scoped>\n",
       "    .dataframe tbody tr th:only-of-type {\n",
       "        vertical-align: middle;\n",
       "    }\n",
       "\n",
       "    .dataframe tbody tr th {\n",
       "        vertical-align: top;\n",
       "    }\n",
       "\n",
       "    .dataframe thead th {\n",
       "        text-align: right;\n",
       "    }\n",
       "</style>\n",
       "<table border=\"1\" class=\"dataframe\">\n",
       "  <thead>\n",
       "    <tr style=\"text-align: right;\">\n",
       "      <th></th>\n",
       "      <th>DateTimeStamp</th>\n",
       "      <th>LKSPOMET_ATemp</th>\n",
       "      <th>LKSPOMET_F_ATemp</th>\n",
       "      <th>LKSBAWQ_Temp</th>\n",
       "      <th>LKSBAWQ_F_Temp</th>\n",
       "      <th>LKSPOMET_WSpd</th>\n",
       "      <th>LKSPOMET_F_WSpd</th>\n",
       "      <th>LKSBAWQ_Depth</th>\n",
       "      <th>LKSBAWQ_F_Depth</th>\n",
       "      <th>LKSBAWQ_pH</th>\n",
       "      <th>LKSBAWQ_F_pH</th>\n",
       "      <th>LKSPOMET_TotPrcp</th>\n",
       "      <th>LKSPOMET_F_TotPrcp</th>\n",
       "      <th>LKSBAWQ_Turb</th>\n",
       "      <th>LKSBAWQ_F_Turb</th>\n",
       "      <th>Date</th>\n",
       "      <th>Time</th>\n",
       "    </tr>\n",
       "  </thead>\n",
       "  <tbody>\n",
       "    <tr>\n",
       "      <th>14458</th>\n",
       "      <td>05/31/2018 14:00</td>\n",
       "      <td>24.4</td>\n",
       "      <td>&lt;0&gt;</td>\n",
       "      <td>17.4</td>\n",
       "      <td>&lt;0&gt;</td>\n",
       "      <td>4.0</td>\n",
       "      <td>&lt;0&gt;</td>\n",
       "      <td>1.58</td>\n",
       "      <td>&lt;0&gt;</td>\n",
       "      <td>7.8</td>\n",
       "      <td>&lt;0&gt;</td>\n",
       "      <td>0.0</td>\n",
       "      <td>&lt;0&gt;</td>\n",
       "      <td>15.0</td>\n",
       "      <td>&lt;0&gt;</td>\n",
       "      <td>05/31/2018</td>\n",
       "      <td>14:00</td>\n",
       "    </tr>\n",
       "    <tr>\n",
       "      <th>14459</th>\n",
       "      <td>05/31/2018 14:15</td>\n",
       "      <td>24.4</td>\n",
       "      <td>&lt;0&gt;</td>\n",
       "      <td>17.6</td>\n",
       "      <td>&lt;0&gt;</td>\n",
       "      <td>4.6</td>\n",
       "      <td>&lt;0&gt;</td>\n",
       "      <td>1.58</td>\n",
       "      <td>&lt;0&gt;</td>\n",
       "      <td>7.8</td>\n",
       "      <td>&lt;0&gt;</td>\n",
       "      <td>0.0</td>\n",
       "      <td>&lt;0&gt;</td>\n",
       "      <td>14.0</td>\n",
       "      <td>&lt;0&gt;</td>\n",
       "      <td>05/31/2018</td>\n",
       "      <td>14:15</td>\n",
       "    </tr>\n",
       "    <tr>\n",
       "      <th>14460</th>\n",
       "      <td>05/31/2018 14:30</td>\n",
       "      <td>24.3</td>\n",
       "      <td>&lt;0&gt;</td>\n",
       "      <td>17.4</td>\n",
       "      <td>&lt;0&gt;</td>\n",
       "      <td>4.3</td>\n",
       "      <td>&lt;0&gt;</td>\n",
       "      <td>1.58</td>\n",
       "      <td>&lt;0&gt;</td>\n",
       "      <td>7.8</td>\n",
       "      <td>&lt;0&gt;</td>\n",
       "      <td>0.0</td>\n",
       "      <td>&lt;0&gt;</td>\n",
       "      <td>15.0</td>\n",
       "      <td>&lt;0&gt;</td>\n",
       "      <td>05/31/2018</td>\n",
       "      <td>14:30</td>\n",
       "    </tr>\n",
       "    <tr>\n",
       "      <th>14461</th>\n",
       "      <td>05/31/2018 14:45</td>\n",
       "      <td>24.7</td>\n",
       "      <td>&lt;0&gt;</td>\n",
       "      <td>17.7</td>\n",
       "      <td>&lt;0&gt;</td>\n",
       "      <td>3.4</td>\n",
       "      <td>&lt;0&gt;</td>\n",
       "      <td>1.57</td>\n",
       "      <td>&lt;0&gt;</td>\n",
       "      <td>7.9</td>\n",
       "      <td>&lt;0&gt;</td>\n",
       "      <td>0.0</td>\n",
       "      <td>&lt;0&gt;</td>\n",
       "      <td>14.0</td>\n",
       "      <td>&lt;0&gt;</td>\n",
       "      <td>05/31/2018</td>\n",
       "      <td>14:45</td>\n",
       "    </tr>\n",
       "    <tr>\n",
       "      <th>14462</th>\n",
       "      <td>05/31/2018 15:00</td>\n",
       "      <td>24.4</td>\n",
       "      <td>&lt;0&gt;</td>\n",
       "      <td>17.6</td>\n",
       "      <td>&lt;0&gt;</td>\n",
       "      <td>4.6</td>\n",
       "      <td>&lt;0&gt;</td>\n",
       "      <td>1.59</td>\n",
       "      <td>&lt;0&gt;</td>\n",
       "      <td>7.8</td>\n",
       "      <td>&lt;0&gt;</td>\n",
       "      <td>0.0</td>\n",
       "      <td>&lt;0&gt;</td>\n",
       "      <td>13.0</td>\n",
       "      <td>&lt;0&gt;</td>\n",
       "      <td>05/31/2018</td>\n",
       "      <td>15:00</td>\n",
       "    </tr>\n",
       "  </tbody>\n",
       "</table>\n",
       "</div>"
      ],
      "text/plain": [
       "          DateTimeStamp  LKSPOMET_ATemp LKSPOMET_F_ATemp  LKSBAWQ_Temp  \\\n",
       "14458  05/31/2018 14:00            24.4             <0>           17.4   \n",
       "14459  05/31/2018 14:15            24.4             <0>           17.6   \n",
       "14460  05/31/2018 14:30            24.3             <0>           17.4   \n",
       "14461  05/31/2018 14:45            24.7             <0>           17.7   \n",
       "14462  05/31/2018 15:00            24.4             <0>           17.6   \n",
       "\n",
       "      LKSBAWQ_F_Temp  LKSPOMET_WSpd LKSPOMET_F_WSpd  LKSBAWQ_Depth  \\\n",
       "14458           <0>             4.0            <0>            1.58   \n",
       "14459           <0>             4.6            <0>            1.58   \n",
       "14460           <0>             4.3            <0>            1.58   \n",
       "14461           <0>             3.4            <0>            1.57   \n",
       "14462           <0>             4.6            <0>            1.59   \n",
       "\n",
       "      LKSBAWQ_F_Depth  LKSBAWQ_pH LKSBAWQ_F_pH  LKSPOMET_TotPrcp  \\\n",
       "14458            <0>          7.8         <0>                0.0   \n",
       "14459            <0>          7.8         <0>                0.0   \n",
       "14460            <0>          7.8         <0>                0.0   \n",
       "14461            <0>          7.9         <0>                0.0   \n",
       "14462            <0>          7.8         <0>                0.0   \n",
       "\n",
       "      LKSPOMET_F_TotPrcp  LKSBAWQ_Turb LKSBAWQ_F_Turb        Date   Time  \n",
       "14458               <0>           15.0           <0>   05/31/2018  14:00  \n",
       "14459               <0>           14.0           <0>   05/31/2018  14:15  \n",
       "14460               <0>           15.0           <0>   05/31/2018  14:30  \n",
       "14461               <0>           14.0           <0>   05/31/2018  14:45  \n",
       "14462               <0>           13.0           <0>   05/31/2018  15:00  "
      ]
     },
     "execution_count": 14,
     "metadata": {},
     "output_type": "execute_result"
    }
   ],
   "source": [
    "#Split date and time into separate columns\n",
    "turbidity_df[['Date','Time']] = turbidity_df.DateTimeStamp.str.split(\" \", expand = True)\n",
    "turbidity_df.head()"
   ]
  },
  {
   "cell_type": "code",
   "execution_count": 15,
   "metadata": {},
   "outputs": [
    {
     "ename": "KeyError",
     "evalue": "\"['LKSBAWQ_Sal', 'LKSBAWQ_F_Sal'] not in index\"",
     "output_type": "error",
     "traceback": [
      "\u001b[1;31m---------------------------------------------------------------------------\u001b[0m",
      "\u001b[1;31mKeyError\u001b[0m                                  Traceback (most recent call last)",
      "Cell \u001b[1;32mIn[15], line 2\u001b[0m\n\u001b[0;32m      1\u001b[0m \u001b[38;5;66;03m#Define new data frame dropping the combined DTS\u001b[39;00m\n\u001b[1;32m----> 2\u001b[0m new_turbidity_df \u001b[38;5;241m=\u001b[39m \u001b[43mturbidity_df\u001b[49m\u001b[43m[\u001b[49m\u001b[43m[\u001b[49m\u001b[38;5;124;43m'\u001b[39;49m\u001b[38;5;124;43mDate\u001b[39;49m\u001b[38;5;124;43m'\u001b[39;49m\u001b[43m,\u001b[49m\u001b[43m \u001b[49m\u001b[38;5;124;43m'\u001b[39;49m\u001b[38;5;124;43mTime\u001b[39;49m\u001b[38;5;124;43m'\u001b[39;49m\u001b[43m,\u001b[49m\n\u001b[0;32m      3\u001b[0m \u001b[43m                    \u001b[49m\u001b[38;5;124;43m'\u001b[39;49m\u001b[38;5;124;43mLKSPOMET_ATemp\u001b[39;49m\u001b[38;5;124;43m'\u001b[39;49m\u001b[43m,\u001b[49m\u001b[43m \u001b[49m\u001b[38;5;124;43m'\u001b[39;49m\u001b[38;5;124;43mLKSPOMET_F_ATemp\u001b[39;49m\u001b[38;5;124;43m'\u001b[39;49m\u001b[43m,\u001b[49m\u001b[43m \u001b[49m\n\u001b[0;32m      4\u001b[0m \u001b[43m                    \u001b[49m\u001b[38;5;124;43m'\u001b[39;49m\u001b[38;5;124;43mLKSPOMET_TotPrcp\u001b[39;49m\u001b[38;5;124;43m'\u001b[39;49m\u001b[43m,\u001b[49m\u001b[38;5;124;43m'\u001b[39;49m\u001b[38;5;124;43mLKSPOMET_F_TotPrcp\u001b[39;49m\u001b[38;5;124;43m'\u001b[39;49m\u001b[43m,\u001b[49m\n\u001b[0;32m      5\u001b[0m \u001b[43m                    \u001b[49m\u001b[38;5;124;43m'\u001b[39;49m\u001b[38;5;124;43mLKSBAWQ_Temp\u001b[39;49m\u001b[38;5;124;43m'\u001b[39;49m\u001b[43m,\u001b[49m\u001b[43m \u001b[49m\u001b[38;5;124;43m'\u001b[39;49m\u001b[38;5;124;43mLKSBAWQ_F_Temp\u001b[39;49m\u001b[38;5;124;43m'\u001b[39;49m\u001b[43m,\u001b[49m\n\u001b[0;32m      6\u001b[0m \u001b[43m                    \u001b[49m\u001b[38;5;124;43m'\u001b[39;49m\u001b[38;5;124;43mLKSBAWQ_Sal\u001b[39;49m\u001b[38;5;124;43m'\u001b[39;49m\u001b[43m,\u001b[49m\u001b[43m \u001b[49m\u001b[38;5;124;43m'\u001b[39;49m\u001b[38;5;124;43mLKSBAWQ_F_Sal\u001b[39;49m\u001b[38;5;124;43m'\u001b[39;49m\u001b[43m,\u001b[49m\n\u001b[0;32m      7\u001b[0m \u001b[43m                   \u001b[49m\u001b[38;5;124;43m'\u001b[39;49m\u001b[38;5;124;43mLKSBAWQ_Depth\u001b[39;49m\u001b[38;5;124;43m'\u001b[39;49m\u001b[43m,\u001b[49m\u001b[38;5;124;43m'\u001b[39;49m\u001b[38;5;124;43mLKSBAWQ_F_Depth\u001b[39;49m\u001b[38;5;124;43m'\u001b[39;49m\u001b[43m,\u001b[49m\u001b[43m \u001b[49m\n\u001b[0;32m      8\u001b[0m \u001b[43m                    \u001b[49m\u001b[38;5;124;43m'\u001b[39;49m\u001b[38;5;124;43mLKSBAWQ_pH\u001b[39;49m\u001b[38;5;124;43m'\u001b[39;49m\u001b[43m,\u001b[49m\u001b[38;5;124;43m'\u001b[39;49m\u001b[38;5;124;43mLKSBAWQ_F_pH\u001b[39;49m\u001b[38;5;124;43m'\u001b[39;49m\u001b[43m,\u001b[49m\u001b[43m \u001b[49m\n\u001b[0;32m      9\u001b[0m \u001b[43m                    \u001b[49m\u001b[38;5;124;43m'\u001b[39;49m\u001b[38;5;124;43mLKSBAWQ_Turb\u001b[39;49m\u001b[38;5;124;43m'\u001b[39;49m\u001b[43m,\u001b[49m\u001b[43m \u001b[49m\u001b[38;5;124;43m'\u001b[39;49m\u001b[38;5;124;43mLKSBAWQ_F_Turb\u001b[39;49m\u001b[38;5;124;43m'\u001b[39;49m\n\u001b[0;32m     10\u001b[0m \u001b[43m                   \u001b[49m\u001b[43m]\u001b[49m\u001b[43m]\u001b[49m\n\u001b[0;32m     11\u001b[0m new_turbidity_df\u001b[38;5;241m.\u001b[39mhead()\n",
      "File \u001b[1;32m~\\anaconda3\\envs\\dev\\lib\\site-packages\\pandas\\core\\frame.py:3813\u001b[0m, in \u001b[0;36mDataFrame.__getitem__\u001b[1;34m(self, key)\u001b[0m\n\u001b[0;32m   3811\u001b[0m     \u001b[38;5;28;01mif\u001b[39;00m is_iterator(key):\n\u001b[0;32m   3812\u001b[0m         key \u001b[38;5;241m=\u001b[39m \u001b[38;5;28mlist\u001b[39m(key)\n\u001b[1;32m-> 3813\u001b[0m     indexer \u001b[38;5;241m=\u001b[39m \u001b[38;5;28;43mself\u001b[39;49m\u001b[38;5;241;43m.\u001b[39;49m\u001b[43mcolumns\u001b[49m\u001b[38;5;241;43m.\u001b[39;49m\u001b[43m_get_indexer_strict\u001b[49m\u001b[43m(\u001b[49m\u001b[43mkey\u001b[49m\u001b[43m,\u001b[49m\u001b[43m \u001b[49m\u001b[38;5;124;43m\"\u001b[39;49m\u001b[38;5;124;43mcolumns\u001b[39;49m\u001b[38;5;124;43m\"\u001b[39;49m\u001b[43m)\u001b[49m[\u001b[38;5;241m1\u001b[39m]\n\u001b[0;32m   3815\u001b[0m \u001b[38;5;66;03m# take() does not accept boolean indexers\u001b[39;00m\n\u001b[0;32m   3816\u001b[0m \u001b[38;5;28;01mif\u001b[39;00m \u001b[38;5;28mgetattr\u001b[39m(indexer, \u001b[38;5;124m\"\u001b[39m\u001b[38;5;124mdtype\u001b[39m\u001b[38;5;124m\"\u001b[39m, \u001b[38;5;28;01mNone\u001b[39;00m) \u001b[38;5;241m==\u001b[39m \u001b[38;5;28mbool\u001b[39m:\n",
      "File \u001b[1;32m~\\anaconda3\\envs\\dev\\lib\\site-packages\\pandas\\core\\indexes\\base.py:6070\u001b[0m, in \u001b[0;36mIndex._get_indexer_strict\u001b[1;34m(self, key, axis_name)\u001b[0m\n\u001b[0;32m   6067\u001b[0m \u001b[38;5;28;01melse\u001b[39;00m:\n\u001b[0;32m   6068\u001b[0m     keyarr, indexer, new_indexer \u001b[38;5;241m=\u001b[39m \u001b[38;5;28mself\u001b[39m\u001b[38;5;241m.\u001b[39m_reindex_non_unique(keyarr)\n\u001b[1;32m-> 6070\u001b[0m \u001b[38;5;28;43mself\u001b[39;49m\u001b[38;5;241;43m.\u001b[39;49m\u001b[43m_raise_if_missing\u001b[49m\u001b[43m(\u001b[49m\u001b[43mkeyarr\u001b[49m\u001b[43m,\u001b[49m\u001b[43m \u001b[49m\u001b[43mindexer\u001b[49m\u001b[43m,\u001b[49m\u001b[43m \u001b[49m\u001b[43maxis_name\u001b[49m\u001b[43m)\u001b[49m\n\u001b[0;32m   6072\u001b[0m keyarr \u001b[38;5;241m=\u001b[39m \u001b[38;5;28mself\u001b[39m\u001b[38;5;241m.\u001b[39mtake(indexer)\n\u001b[0;32m   6073\u001b[0m \u001b[38;5;28;01mif\u001b[39;00m \u001b[38;5;28misinstance\u001b[39m(key, Index):\n\u001b[0;32m   6074\u001b[0m     \u001b[38;5;66;03m# GH 42790 - Preserve name from an Index\u001b[39;00m\n",
      "File \u001b[1;32m~\\anaconda3\\envs\\dev\\lib\\site-packages\\pandas\\core\\indexes\\base.py:6133\u001b[0m, in \u001b[0;36mIndex._raise_if_missing\u001b[1;34m(self, key, indexer, axis_name)\u001b[0m\n\u001b[0;32m   6130\u001b[0m     \u001b[38;5;28;01mraise\u001b[39;00m \u001b[38;5;167;01mKeyError\u001b[39;00m(\u001b[38;5;124mf\u001b[39m\u001b[38;5;124m\"\u001b[39m\u001b[38;5;124mNone of [\u001b[39m\u001b[38;5;132;01m{\u001b[39;00mkey\u001b[38;5;132;01m}\u001b[39;00m\u001b[38;5;124m] are in the [\u001b[39m\u001b[38;5;132;01m{\u001b[39;00maxis_name\u001b[38;5;132;01m}\u001b[39;00m\u001b[38;5;124m]\u001b[39m\u001b[38;5;124m\"\u001b[39m)\n\u001b[0;32m   6132\u001b[0m not_found \u001b[38;5;241m=\u001b[39m \u001b[38;5;28mlist\u001b[39m(ensure_index(key)[missing_mask\u001b[38;5;241m.\u001b[39mnonzero()[\u001b[38;5;241m0\u001b[39m]]\u001b[38;5;241m.\u001b[39munique())\n\u001b[1;32m-> 6133\u001b[0m \u001b[38;5;28;01mraise\u001b[39;00m \u001b[38;5;167;01mKeyError\u001b[39;00m(\u001b[38;5;124mf\u001b[39m\u001b[38;5;124m\"\u001b[39m\u001b[38;5;132;01m{\u001b[39;00mnot_found\u001b[38;5;132;01m}\u001b[39;00m\u001b[38;5;124m not in index\u001b[39m\u001b[38;5;124m\"\u001b[39m)\n",
      "\u001b[1;31mKeyError\u001b[0m: \"['LKSBAWQ_Sal', 'LKSBAWQ_F_Sal'] not in index\""
     ]
    }
   ],
   "source": [
    "#Define new data frame dropping the combined DTS\n",
    "new_turbidity_df = turbidity_df[['Date', 'Time',\n",
    "                    'LKSPOMET_ATemp', 'LKSPOMET_F_ATemp', \n",
    "                    'LKSPOMET_TotPrcp','LKSPOMET_F_TotPrcp',\n",
    "                    'LKSBAWQ_Temp', 'LKSBAWQ_F_Temp',\n",
    "                    'LKSBAWQ_Sal', 'LKSBAWQ_F_Sal',\n",
    "                   'LKSBAWQ_Depth','LKSBAWQ_F_Depth', \n",
    "                    'LKSBAWQ_pH','LKSBAWQ_F_pH', \n",
    "                    'LKSBAWQ_Turb', 'LKSBAWQ_F_Turb'\n",
    "                   ]]\n",
    "new_turbidity_df.head()"
   ]
  },
  {
   "cell_type": "code",
   "execution_count": null,
   "metadata": {},
   "outputs": [],
   "source": [
    "average_measurement_df = new_turbidity_df.groupby('Date').mean()\n",
    "average_measurement_df.head()"
   ]
  },
  {
   "cell_type": "code",
   "execution_count": null,
   "metadata": {},
   "outputs": [],
   "source": [
    "#Add ranges for turbidity \n",
    "conditions = [\n",
    "    average_measurement_df['LKSBAWQ_Turb'] < 11,\n",
    "    average_measurement_df['LKSBAWQ_Turb'] < 21,\n",
    "    average_measurement_df['LKSBAWQ_Turb'] < 31,\n",
    "    average_measurement_df['LKSBAWQ_Turb'] < 41,\n",
    "    average_measurement_df['LKSBAWQ_Turb'] < 51,\n",
    "    average_measurement_df['LKSBAWQ_Turb'] < 61,\n",
    "    average_measurement_df['LKSBAWQ_Turb'] < 71,\n",
    "    average_measurement_df['LKSBAWQ_Turb'] < 81,\n",
    "    average_measurement_df['LKSBAWQ_Turb'] < 91,\n",
    "    average_measurement_df['LKSBAWQ_Turb'] < 101\n",
    "]\n",
    "\n",
    "outputs = [\"</=10\",\"</=20\",\"</=30\",\"</=40\",\n",
    "          \"</=50\",\"</=60\",\"</=70\",\"</=80\",\"</=90\", \"</=100\"]\n",
    "\n",
    "\n",
    "\n",
    "average_measurement_df['Turbidity_Range'] = np.select(conditions, outputs)\n",
    "average_measurement_df.head()"
   ]
  },
  {
   "cell_type": "code",
   "execution_count": null,
   "metadata": {},
   "outputs": [],
   "source": [
    "#Export cleaned filtered data to new csv\n",
    "average_measurement_df.to_csv('5_turbidity.csv')"
   ]
  },
  {
   "cell_type": "code",
   "execution_count": null,
   "metadata": {},
   "outputs": [],
   "source": []
  }
 ],
 "metadata": {
  "kernelspec": {
   "display_name": "Python 3 (ipykernel)",
   "language": "python",
   "name": "python3"
  },
  "language_info": {
   "codemirror_mode": {
    "name": "ipython",
    "version": 3
   },
   "file_extension": ".py",
   "mimetype": "text/x-python",
   "name": "python",
   "nbconvert_exporter": "python",
   "pygments_lexer": "ipython3",
   "version": "3.10.11"
  },
  "varInspector": {
   "cols": {
    "lenName": 16,
    "lenType": 16,
    "lenVar": 40
   },
   "kernels_config": {
    "python": {
     "delete_cmd_postfix": "",
     "delete_cmd_prefix": "del ",
     "library": "var_list.py",
     "varRefreshCmd": "print(var_dic_list())"
    },
    "r": {
     "delete_cmd_postfix": ") ",
     "delete_cmd_prefix": "rm(",
     "library": "var_list.r",
     "varRefreshCmd": "cat(var_dic_list()) "
    }
   },
   "types_to_exclude": [
    "module",
    "function",
    "builtin_function_or_method",
    "instance",
    "_Feature"
   ],
   "window_display": false
  }
 },
 "nbformat": 4,
 "nbformat_minor": 2
}
