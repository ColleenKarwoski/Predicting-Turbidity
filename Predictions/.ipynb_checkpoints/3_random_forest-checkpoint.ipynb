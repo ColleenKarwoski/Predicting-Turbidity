{
 "cells": [
  {
   "cell_type": "markdown",
   "metadata": {},
   "source": [
    "# Instructor Do: Random Forests"
   ]
  },
  {
   "cell_type": "code",
   "execution_count": 1,
   "metadata": {},
   "outputs": [],
   "source": [
    "# Initial imports\n",
    "import pandas as pd\n",
    "from pathlib import Path\n",
    "from sklearn.ensemble import RandomForestClassifier\n",
    "from sklearn.preprocessing import StandardScaler\n",
    "from sklearn.model_selection import train_test_split\n",
    "from sklearn.metrics import confusion_matrix, accuracy_score, classification_report\n",
    "%matplotlib inline\n"
   ]
  },
  {
   "cell_type": "markdown",
   "metadata": {},
   "source": [
    "## Loading and Preprocessing Loans Encoded Data"
   ]
  },
  {
   "cell_type": "code",
   "execution_count": 2,
   "metadata": {},
   "outputs": [
    {
     "data": {
      "text/html": [
       "<div>\n",
       "<style scoped>\n",
       "    .dataframe tbody tr th:only-of-type {\n",
       "        vertical-align: middle;\n",
       "    }\n",
       "\n",
       "    .dataframe tbody tr th {\n",
       "        vertical-align: top;\n",
       "    }\n",
       "\n",
       "    .dataframe thead th {\n",
       "        text-align: right;\n",
       "    }\n",
       "</style>\n",
       "<table border=\"1\" class=\"dataframe\">\n",
       "  <thead>\n",
       "    <tr style=\"text-align: right;\">\n",
       "      <th></th>\n",
       "      <th>Unnamed: 0</th>\n",
       "      <th>Date</th>\n",
       "      <th>LKSPOMET_ATemp</th>\n",
       "      <th>LKSBAWQ_ChlFluor</th>\n",
       "      <th>LKSBAWQ_Temp</th>\n",
       "      <th>LKSPOMET_WSpd</th>\n",
       "      <th>LKSBAWQ_Depth</th>\n",
       "      <th>LKSBAWQ_pH</th>\n",
       "      <th>LKSBAWQ_Turb</th>\n",
       "      <th>Turbidity_Range</th>\n",
       "      <th>Month</th>\n",
       "      <th>Day</th>\n",
       "      <th>Year</th>\n",
       "    </tr>\n",
       "  </thead>\n",
       "  <tbody>\n",
       "    <tr>\n",
       "      <th>0</th>\n",
       "      <td>0</td>\n",
       "      <td>06/01/2022</td>\n",
       "      <td>14.470833</td>\n",
       "      <td>9.479167</td>\n",
       "      <td>14.061458</td>\n",
       "      <td>1.895833</td>\n",
       "      <td>1.229271</td>\n",
       "      <td>7.500000</td>\n",
       "      <td>13.218750</td>\n",
       "      <td>&lt;/=20</td>\n",
       "      <td>6</td>\n",
       "      <td>1</td>\n",
       "      <td>2022</td>\n",
       "    </tr>\n",
       "    <tr>\n",
       "      <th>1</th>\n",
       "      <td>1</td>\n",
       "      <td>06/02/2022</td>\n",
       "      <td>15.936458</td>\n",
       "      <td>8.915625</td>\n",
       "      <td>14.568750</td>\n",
       "      <td>2.660417</td>\n",
       "      <td>1.188958</td>\n",
       "      <td>7.477083</td>\n",
       "      <td>11.458333</td>\n",
       "      <td>&lt;/=20</td>\n",
       "      <td>6</td>\n",
       "      <td>2</td>\n",
       "      <td>2022</td>\n",
       "    </tr>\n",
       "    <tr>\n",
       "      <th>2</th>\n",
       "      <td>2</td>\n",
       "      <td>06/03/2022</td>\n",
       "      <td>12.998958</td>\n",
       "      <td>8.331250</td>\n",
       "      <td>15.028125</td>\n",
       "      <td>3.745833</td>\n",
       "      <td>1.208750</td>\n",
       "      <td>7.522917</td>\n",
       "      <td>11.062500</td>\n",
       "      <td>&lt;/=20</td>\n",
       "      <td>6</td>\n",
       "      <td>3</td>\n",
       "      <td>2022</td>\n",
       "    </tr>\n",
       "    <tr>\n",
       "      <th>3</th>\n",
       "      <td>3</td>\n",
       "      <td>06/04/2022</td>\n",
       "      <td>16.417708</td>\n",
       "      <td>9.055208</td>\n",
       "      <td>15.969792</td>\n",
       "      <td>1.981250</td>\n",
       "      <td>1.231667</td>\n",
       "      <td>7.500000</td>\n",
       "      <td>10.197917</td>\n",
       "      <td>&lt;/=10</td>\n",
       "      <td>6</td>\n",
       "      <td>4</td>\n",
       "      <td>2022</td>\n",
       "    </tr>\n",
       "    <tr>\n",
       "      <th>4</th>\n",
       "      <td>4</td>\n",
       "      <td>06/05/2022</td>\n",
       "      <td>9.801042</td>\n",
       "      <td>9.984375</td>\n",
       "      <td>16.790625</td>\n",
       "      <td>1.476042</td>\n",
       "      <td>1.223125</td>\n",
       "      <td>7.493750</td>\n",
       "      <td>9.395833</td>\n",
       "      <td>&lt;/=10</td>\n",
       "      <td>6</td>\n",
       "      <td>5</td>\n",
       "      <td>2022</td>\n",
       "    </tr>\n",
       "  </tbody>\n",
       "</table>\n",
       "</div>"
      ],
      "text/plain": [
       "   Unnamed: 0        Date  LKSPOMET_ATemp  LKSBAWQ_ChlFluor  LKSBAWQ_Temp  \\\n",
       "0           0  06/01/2022       14.470833          9.479167     14.061458   \n",
       "1           1  06/02/2022       15.936458          8.915625     14.568750   \n",
       "2           2  06/03/2022       12.998958          8.331250     15.028125   \n",
       "3           3  06/04/2022       16.417708          9.055208     15.969792   \n",
       "4           4  06/05/2022        9.801042          9.984375     16.790625   \n",
       "\n",
       "   LKSPOMET_WSpd  LKSBAWQ_Depth  LKSBAWQ_pH  LKSBAWQ_Turb Turbidity_Range  \\\n",
       "0       1.895833       1.229271    7.500000     13.218750           </=20   \n",
       "1       2.660417       1.188958    7.477083     11.458333           </=20   \n",
       "2       3.745833       1.208750    7.522917     11.062500           </=20   \n",
       "3       1.981250       1.231667    7.500000     10.197917           </=10   \n",
       "4       1.476042       1.223125    7.493750      9.395833           </=10   \n",
       "\n",
       "   Month  Day  Year  \n",
       "0      6    1  2022  \n",
       "1      6    2  2022  \n",
       "2      6    3  2022  \n",
       "3      6    4  2022  \n",
       "4      6    5  2022  "
      ]
     },
     "execution_count": 2,
     "metadata": {},
     "output_type": "execute_result"
    }
   ],
   "source": [
    "# Loading data\n",
    "df_old = pd.read_csv(\"3_summer_turbidity.csv\")\n",
    "df_old.head()"
   ]
  },
  {
   "cell_type": "code",
   "execution_count": 3,
   "metadata": {},
   "outputs": [
    {
     "data": {
      "text/html": [
       "<div>\n",
       "<style scoped>\n",
       "    .dataframe tbody tr th:only-of-type {\n",
       "        vertical-align: middle;\n",
       "    }\n",
       "\n",
       "    .dataframe tbody tr th {\n",
       "        vertical-align: top;\n",
       "    }\n",
       "\n",
       "    .dataframe thead th {\n",
       "        text-align: right;\n",
       "    }\n",
       "</style>\n",
       "<table border=\"1\" class=\"dataframe\">\n",
       "  <thead>\n",
       "    <tr style=\"text-align: right;\">\n",
       "      <th></th>\n",
       "      <th>Month</th>\n",
       "      <th>LKSPOMET_ATemp</th>\n",
       "      <th>LKSBAWQ_ChlFluor</th>\n",
       "      <th>LKSBAWQ_Temp</th>\n",
       "      <th>LKSPOMET_WSpd</th>\n",
       "      <th>LKSBAWQ_Depth</th>\n",
       "      <th>LKSBAWQ_pH</th>\n",
       "      <th>Turbidity_Range</th>\n",
       "    </tr>\n",
       "  </thead>\n",
       "  <tbody>\n",
       "    <tr>\n",
       "      <th>0</th>\n",
       "      <td>6</td>\n",
       "      <td>14.470833</td>\n",
       "      <td>9.479167</td>\n",
       "      <td>14.061458</td>\n",
       "      <td>1.895833</td>\n",
       "      <td>1.229271</td>\n",
       "      <td>7.500000</td>\n",
       "      <td>&lt;/=20</td>\n",
       "    </tr>\n",
       "    <tr>\n",
       "      <th>1</th>\n",
       "      <td>6</td>\n",
       "      <td>15.936458</td>\n",
       "      <td>8.915625</td>\n",
       "      <td>14.568750</td>\n",
       "      <td>2.660417</td>\n",
       "      <td>1.188958</td>\n",
       "      <td>7.477083</td>\n",
       "      <td>&lt;/=20</td>\n",
       "    </tr>\n",
       "    <tr>\n",
       "      <th>2</th>\n",
       "      <td>6</td>\n",
       "      <td>12.998958</td>\n",
       "      <td>8.331250</td>\n",
       "      <td>15.028125</td>\n",
       "      <td>3.745833</td>\n",
       "      <td>1.208750</td>\n",
       "      <td>7.522917</td>\n",
       "      <td>&lt;/=20</td>\n",
       "    </tr>\n",
       "    <tr>\n",
       "      <th>3</th>\n",
       "      <td>6</td>\n",
       "      <td>16.417708</td>\n",
       "      <td>9.055208</td>\n",
       "      <td>15.969792</td>\n",
       "      <td>1.981250</td>\n",
       "      <td>1.231667</td>\n",
       "      <td>7.500000</td>\n",
       "      <td>&lt;/=10</td>\n",
       "    </tr>\n",
       "    <tr>\n",
       "      <th>4</th>\n",
       "      <td>6</td>\n",
       "      <td>9.801042</td>\n",
       "      <td>9.984375</td>\n",
       "      <td>16.790625</td>\n",
       "      <td>1.476042</td>\n",
       "      <td>1.223125</td>\n",
       "      <td>7.493750</td>\n",
       "      <td>&lt;/=10</td>\n",
       "    </tr>\n",
       "    <tr>\n",
       "      <th>...</th>\n",
       "      <td>...</td>\n",
       "      <td>...</td>\n",
       "      <td>...</td>\n",
       "      <td>...</td>\n",
       "      <td>...</td>\n",
       "      <td>...</td>\n",
       "      <td>...</td>\n",
       "      <td>...</td>\n",
       "    </tr>\n",
       "    <tr>\n",
       "      <th>95</th>\n",
       "      <td>7</td>\n",
       "      <td>20.105319</td>\n",
       "      <td>11.703191</td>\n",
       "      <td>20.542553</td>\n",
       "      <td>1.888298</td>\n",
       "      <td>1.264362</td>\n",
       "      <td>7.651064</td>\n",
       "      <td>&lt;/=10</td>\n",
       "    </tr>\n",
       "    <tr>\n",
       "      <th>96</th>\n",
       "      <td>7</td>\n",
       "      <td>19.385417</td>\n",
       "      <td>16.098958</td>\n",
       "      <td>23.468750</td>\n",
       "      <td>0.998958</td>\n",
       "      <td>1.380208</td>\n",
       "      <td>8.315625</td>\n",
       "      <td>&lt;/=10</td>\n",
       "    </tr>\n",
       "    <tr>\n",
       "      <th>97</th>\n",
       "      <td>7</td>\n",
       "      <td>17.477083</td>\n",
       "      <td>9.151042</td>\n",
       "      <td>20.442708</td>\n",
       "      <td>2.838542</td>\n",
       "      <td>1.285313</td>\n",
       "      <td>7.660417</td>\n",
       "      <td>&lt;/=10</td>\n",
       "    </tr>\n",
       "    <tr>\n",
       "      <th>98</th>\n",
       "      <td>7</td>\n",
       "      <td>20.420833</td>\n",
       "      <td>17.806250</td>\n",
       "      <td>23.337500</td>\n",
       "      <td>1.109375</td>\n",
       "      <td>1.403229</td>\n",
       "      <td>8.241667</td>\n",
       "      <td>&lt;/=10</td>\n",
       "    </tr>\n",
       "    <tr>\n",
       "      <th>99</th>\n",
       "      <td>7</td>\n",
       "      <td>18.556250</td>\n",
       "      <td>10.325000</td>\n",
       "      <td>20.798958</td>\n",
       "      <td>1.627083</td>\n",
       "      <td>1.351979</td>\n",
       "      <td>7.704167</td>\n",
       "      <td>&lt;/=10</td>\n",
       "    </tr>\n",
       "  </tbody>\n",
       "</table>\n",
       "<p>100 rows × 8 columns</p>\n",
       "</div>"
      ],
      "text/plain": [
       "    Month  LKSPOMET_ATemp  LKSBAWQ_ChlFluor  LKSBAWQ_Temp  LKSPOMET_WSpd  \\\n",
       "0       6       14.470833          9.479167     14.061458       1.895833   \n",
       "1       6       15.936458          8.915625     14.568750       2.660417   \n",
       "2       6       12.998958          8.331250     15.028125       3.745833   \n",
       "3       6       16.417708          9.055208     15.969792       1.981250   \n",
       "4       6        9.801042          9.984375     16.790625       1.476042   \n",
       "..    ...             ...               ...           ...            ...   \n",
       "95      7       20.105319         11.703191     20.542553       1.888298   \n",
       "96      7       19.385417         16.098958     23.468750       0.998958   \n",
       "97      7       17.477083          9.151042     20.442708       2.838542   \n",
       "98      7       20.420833         17.806250     23.337500       1.109375   \n",
       "99      7       18.556250         10.325000     20.798958       1.627083   \n",
       "\n",
       "    LKSBAWQ_Depth  LKSBAWQ_pH Turbidity_Range  \n",
       "0        1.229271    7.500000           </=20  \n",
       "1        1.188958    7.477083           </=20  \n",
       "2        1.208750    7.522917           </=20  \n",
       "3        1.231667    7.500000           </=10  \n",
       "4        1.223125    7.493750           </=10  \n",
       "..            ...         ...             ...  \n",
       "95       1.264362    7.651064           </=10  \n",
       "96       1.380208    8.315625           </=10  \n",
       "97       1.285313    7.660417           </=10  \n",
       "98       1.403229    8.241667           </=10  \n",
       "99       1.351979    7.704167           </=10  \n",
       "\n",
       "[100 rows x 8 columns]"
      ]
     },
     "execution_count": 3,
     "metadata": {},
     "output_type": "execute_result"
    }
   ],
   "source": [
    " \n",
    "df = df_old[[       'Month',\n",
    "                     'LKSPOMET_ATemp', \n",
    "                    'LKSBAWQ_ChlFluor',\n",
    "                    'LKSBAWQ_Temp', \n",
    "                    'LKSPOMET_WSpd', \n",
    "                    'LKSBAWQ_Depth',\n",
    "                    'LKSBAWQ_pH',\n",
    "                     'Turbidity_Range',\n",
    "                   ]]\n",
    "df.head(100)"
   ]
  },
  {
   "cell_type": "code",
   "execution_count": 4,
   "metadata": {},
   "outputs": [
    {
     "data": {
      "text/html": [
       "<div>\n",
       "<style scoped>\n",
       "    .dataframe tbody tr th:only-of-type {\n",
       "        vertical-align: middle;\n",
       "    }\n",
       "\n",
       "    .dataframe tbody tr th {\n",
       "        vertical-align: top;\n",
       "    }\n",
       "\n",
       "    .dataframe thead th {\n",
       "        text-align: right;\n",
       "    }\n",
       "</style>\n",
       "<table border=\"1\" class=\"dataframe\">\n",
       "  <thead>\n",
       "    <tr style=\"text-align: right;\">\n",
       "      <th></th>\n",
       "      <th>Month</th>\n",
       "      <th>LKSPOMET_ATemp</th>\n",
       "      <th>LKSBAWQ_ChlFluor</th>\n",
       "      <th>LKSBAWQ_Temp</th>\n",
       "      <th>LKSPOMET_WSpd</th>\n",
       "      <th>LKSBAWQ_Depth</th>\n",
       "      <th>LKSBAWQ_pH</th>\n",
       "    </tr>\n",
       "  </thead>\n",
       "  <tbody>\n",
       "    <tr>\n",
       "      <th>0</th>\n",
       "      <td>6</td>\n",
       "      <td>14.470833</td>\n",
       "      <td>9.479167</td>\n",
       "      <td>14.061458</td>\n",
       "      <td>1.895833</td>\n",
       "      <td>1.229271</td>\n",
       "      <td>7.500000</td>\n",
       "    </tr>\n",
       "    <tr>\n",
       "      <th>1</th>\n",
       "      <td>6</td>\n",
       "      <td>15.936458</td>\n",
       "      <td>8.915625</td>\n",
       "      <td>14.568750</td>\n",
       "      <td>2.660417</td>\n",
       "      <td>1.188958</td>\n",
       "      <td>7.477083</td>\n",
       "    </tr>\n",
       "    <tr>\n",
       "      <th>2</th>\n",
       "      <td>6</td>\n",
       "      <td>12.998958</td>\n",
       "      <td>8.331250</td>\n",
       "      <td>15.028125</td>\n",
       "      <td>3.745833</td>\n",
       "      <td>1.208750</td>\n",
       "      <td>7.522917</td>\n",
       "    </tr>\n",
       "    <tr>\n",
       "      <th>3</th>\n",
       "      <td>6</td>\n",
       "      <td>16.417708</td>\n",
       "      <td>9.055208</td>\n",
       "      <td>15.969792</td>\n",
       "      <td>1.981250</td>\n",
       "      <td>1.231667</td>\n",
       "      <td>7.500000</td>\n",
       "    </tr>\n",
       "    <tr>\n",
       "      <th>4</th>\n",
       "      <td>6</td>\n",
       "      <td>9.801042</td>\n",
       "      <td>9.984375</td>\n",
       "      <td>16.790625</td>\n",
       "      <td>1.476042</td>\n",
       "      <td>1.223125</td>\n",
       "      <td>7.493750</td>\n",
       "    </tr>\n",
       "  </tbody>\n",
       "</table>\n",
       "</div>"
      ],
      "text/plain": [
       "   Month  LKSPOMET_ATemp  LKSBAWQ_ChlFluor  LKSBAWQ_Temp  LKSPOMET_WSpd  \\\n",
       "0      6       14.470833          9.479167     14.061458       1.895833   \n",
       "1      6       15.936458          8.915625     14.568750       2.660417   \n",
       "2      6       12.998958          8.331250     15.028125       3.745833   \n",
       "3      6       16.417708          9.055208     15.969792       1.981250   \n",
       "4      6        9.801042          9.984375     16.790625       1.476042   \n",
       "\n",
       "   LKSBAWQ_Depth  LKSBAWQ_pH  \n",
       "0       1.229271    7.500000  \n",
       "1       1.188958    7.477083  \n",
       "2       1.208750    7.522917  \n",
       "3       1.231667    7.500000  \n",
       "4       1.223125    7.493750  "
      ]
     },
     "execution_count": 4,
     "metadata": {},
     "output_type": "execute_result"
    }
   ],
   "source": [
    "# Define features set\n",
    "X = df.copy()\n",
    "X.drop(\"Turbidity_Range\", axis=1, inplace=True)\n",
    "X.head()"
   ]
  },
  {
   "cell_type": "code",
   "execution_count": 5,
   "metadata": {},
   "outputs": [
    {
     "data": {
      "text/plain": [
       "array(['</=20', '</=20', '</=20', '</=10', '</=10', '</=10', '</=10',\n",
       "       '</=20', '</=20', '</=20', '</=20', '</=20', '</=20', '</=20',\n",
       "       '</=20', '</=20', '</=20', '</=20', '</=20', '</=20', '</=10',\n",
       "       '</=20', '</=10', '</=20', '</=10', '</=20', '</=10', '</=20',\n",
       "       '</=10', '</=20', '</=20', '</=20', '</=10', '</=20', '</=10',\n",
       "       '</=20', '</=20', '</=20', '</=20', '</=20', '</=20', '</=20',\n",
       "       '</=20', '</=20', '</=10', '</=20', '</=10', '</=20', '</=10',\n",
       "       '</=20'], dtype=object)"
      ]
     },
     "execution_count": 5,
     "metadata": {},
     "output_type": "execute_result"
    }
   ],
   "source": [
    "# Define target vector\n",
    "y = df[\"Turbidity_Range\"].ravel()\n",
    "y[:50]"
   ]
  },
  {
   "cell_type": "code",
   "execution_count": 6,
   "metadata": {},
   "outputs": [],
   "source": [
    "# Splitting into Train and Test sets\n",
    "X_train, X_test, y_train, y_test = train_test_split(X, y, random_state=78)"
   ]
  },
  {
   "cell_type": "code",
   "execution_count": 7,
   "metadata": {},
   "outputs": [],
   "source": [
    "# Creating StandardScaler instance\n",
    "scaler = StandardScaler()"
   ]
  },
  {
   "cell_type": "code",
   "execution_count": 8,
   "metadata": {},
   "outputs": [],
   "source": [
    "# Fitting Standard Scaller\n",
    "X_scaler = scaler.fit(X_train)"
   ]
  },
  {
   "cell_type": "code",
   "execution_count": 9,
   "metadata": {},
   "outputs": [],
   "source": [
    "# Scaling data\n",
    "X_train_scaled = X_scaler.transform(X_train)\n",
    "X_test_scaled = X_scaler.transform(X_test)"
   ]
  },
  {
   "cell_type": "markdown",
   "metadata": {},
   "source": [
    "## Fitting the Random Forest Model"
   ]
  },
  {
   "cell_type": "code",
   "execution_count": 10,
   "metadata": {},
   "outputs": [],
   "source": [
    "# Create a random forest classifier\n",
    "rf_model = RandomForestClassifier(n_estimators=500, random_state=78)"
   ]
  },
  {
   "cell_type": "code",
   "execution_count": 11,
   "metadata": {},
   "outputs": [],
   "source": [
    "# Fitting the model\n",
    "rf_model = rf_model.fit(X_train_scaled, y_train)"
   ]
  },
  {
   "cell_type": "markdown",
   "metadata": {},
   "source": [
    "## Making Predictions Using the Random Forest Model"
   ]
  },
  {
   "cell_type": "code",
   "execution_count": 12,
   "metadata": {},
   "outputs": [],
   "source": [
    "# Making predictions using the testing data\n",
    "predictions = rf_model.predict(X_test_scaled)"
   ]
  },
  {
   "cell_type": "markdown",
   "metadata": {},
   "source": [
    "## Model Evaluation"
   ]
  },
  {
   "cell_type": "code",
   "execution_count": 13,
   "metadata": {},
   "outputs": [],
   "source": [
    "# Calculating the confusion matrix\n",
    "cm = confusion_matrix(y_test, predictions)\n",
    "cm_df = pd.DataFrame(\n",
    "    cm, index=[\"Actual </=10\", \"Actual </=20\"], \n",
    "        columns=[\"Predicted </=10\", \"Predicted </=20\"])\n",
    "# Calculating the accuracy score\n",
    "acc_score = accuracy_score(y_test, predictions)"
   ]
  },
  {
   "cell_type": "code",
   "execution_count": 14,
   "metadata": {},
   "outputs": [
    {
     "name": "stdout",
     "output_type": "stream",
     "text": [
      "Confusion Matrix\n"
     ]
    },
    {
     "data": {
      "text/html": [
       "<div>\n",
       "<style scoped>\n",
       "    .dataframe tbody tr th:only-of-type {\n",
       "        vertical-align: middle;\n",
       "    }\n",
       "\n",
       "    .dataframe tbody tr th {\n",
       "        vertical-align: top;\n",
       "    }\n",
       "\n",
       "    .dataframe thead th {\n",
       "        text-align: right;\n",
       "    }\n",
       "</style>\n",
       "<table border=\"1\" class=\"dataframe\">\n",
       "  <thead>\n",
       "    <tr style=\"text-align: right;\">\n",
       "      <th></th>\n",
       "      <th>Predicted &lt;/=10</th>\n",
       "      <th>Predicted &lt;/=20</th>\n",
       "    </tr>\n",
       "  </thead>\n",
       "  <tbody>\n",
       "    <tr>\n",
       "      <th>Actual &lt;/=10</th>\n",
       "      <td>23</td>\n",
       "      <td>1</td>\n",
       "    </tr>\n",
       "    <tr>\n",
       "      <th>Actual &lt;/=20</th>\n",
       "      <td>1</td>\n",
       "      <td>12</td>\n",
       "    </tr>\n",
       "  </tbody>\n",
       "</table>\n",
       "</div>"
      ],
      "text/plain": [
       "              Predicted </=10  Predicted </=20\n",
       "Actual </=10               23                1\n",
       "Actual </=20                1               12"
      ]
     },
     "metadata": {},
     "output_type": "display_data"
    },
    {
     "name": "stdout",
     "output_type": "stream",
     "text": [
      "Accuracy Score : 0.9459459459459459\n",
      "Classification Report\n",
      "              precision    recall  f1-score   support\n",
      "\n",
      "       </=10       0.96      0.96      0.96        24\n",
      "       </=20       0.92      0.92      0.92        13\n",
      "\n",
      "    accuracy                           0.95        37\n",
      "   macro avg       0.94      0.94      0.94        37\n",
      "weighted avg       0.95      0.95      0.95        37\n",
      "\n"
     ]
    }
   ],
   "source": [
    "# Displaying results\n",
    "print(\"Confusion Matrix\")\n",
    "display(cm_df)\n",
    "print(f\"Accuracy Score : {acc_score}\")\n",
    "print(\"Classification Report\")\n",
    "print(classification_report(y_test, predictions))"
   ]
  },
  {
   "cell_type": "markdown",
   "metadata": {},
   "source": [
    "## Feature Importance"
   ]
  },
  {
   "cell_type": "code",
   "execution_count": 15,
   "metadata": {},
   "outputs": [
    {
     "data": {
      "text/plain": [
       "[(0.21050806785377985, 'LKSBAWQ_pH'),\n",
       " (0.1774212249408942, 'LKSBAWQ_Temp'),\n",
       " (0.16639144467086506, 'LKSBAWQ_Depth'),\n",
       " (0.16202211272518421, 'Month'),\n",
       " (0.1315036985169625, 'LKSBAWQ_ChlFluor'),\n",
       " (0.07859713850832761, 'LKSPOMET_WSpd'),\n",
       " (0.0735563127839865, 'LKSPOMET_ATemp')]"
      ]
     },
     "execution_count": 15,
     "metadata": {},
     "output_type": "execute_result"
    }
   ],
   "source": [
    "# Random Forests in sklearn will automatically calculate feature importance\n",
    "importances = rf_model.feature_importances_\n",
    "# We can sort the features by their importance\n",
    "sorted(zip(rf_model.feature_importances_, X.columns), reverse=True)"
   ]
  },
  {
   "cell_type": "code",
   "execution_count": 16,
   "metadata": {},
   "outputs": [
    {
     "data": {
      "text/plain": [
       "<Axes: title={'center': 'Features Importances'}, ylabel='1'>"
      ]
     },
     "execution_count": 16,
     "metadata": {},
     "output_type": "execute_result"
    },
    {
     "data": {
      "image/png": "[encoded data removed]",
      "text/plain": [
       "<Figure size 640x480 with 1 Axes>"
      ]
     },
     "metadata": {},
     "output_type": "display_data"
    }
   ],
   "source": [
    "# Visualize the features by importance\n",
    "importances_df = pd.DataFrame(sorted(zip(rf_model.feature_importances_, X.columns), reverse=True))\n",
    "importances_df.set_index(importances_df[1], inplace=True)\n",
    "importances_df.drop(columns=1, inplace=True)\n",
    "importances_df.rename(columns={0: 'Feature Importances'}, inplace=True)\n",
    "importances_sorted = importances_df.sort_values(by='Feature Importances')\n",
    "importances_sorted.plot(kind='barh', color='lightgreen', title= 'Features Importances', legend=False)"
   ]
  },
  {
   "cell_type": "code",
   "execution_count": null,
   "metadata": {},
   "outputs": [],
   "source": []
  },
  {
   "cell_type": "code",
   "execution_count": null,
   "metadata": {},
   "outputs": [],
   "source": []
  }
 ],
 "metadata": {
  "file_extension": ".py",
  "kernelspec": {
   "display_name": "Python 3 (ipykernel)",
   "language": "python",
   "name": "python3"
  },
  "language_info": {
   "codemirror_mode": {
    "name": "ipython",
    "version": 3
   },
   "file_extension": ".py",
   "mimetype": "text/x-python",
   "name": "python",
   "nbconvert_exporter": "python",
   "pygments_lexer": "ipython3",
   "version": "3.10.11"
  },
  "mimetype": "text/x-python",
  "name": "python",
  "npconvert_exporter": "python",
  "pygments_lexer": "ipython3",
  "version": 3
 },
 "nbformat": 4,
 "nbformat_minor": 4
}
