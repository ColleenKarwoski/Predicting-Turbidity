{
 "cells": [
  {
   "cell_type": "code",
   "execution_count": 16,
   "metadata": {},
   "outputs": [],
   "source": [
    "# Import modules\n",
    "from warnings import simplefilter\n",
    "simplefilter(action='ignore', category=FutureWarning)\n",
    "import pandas as pd\n",
    "from pathlib import Path\n",
    "from sklearn.model_selection import train_test_split\n",
    "from sklearn.metrics import classification_report\n",
    "from sklearn.preprocessing import StandardScaler"
   ]
  },
  {
   "cell_type": "code",
   "execution_count": 17,
   "metadata": {
    "scrolled": true
   },
   "outputs": [
    {
     "data": {
      "text/html": [
       "<div>\n",
       "<style scoped>\n",
       "    .dataframe tbody tr th:only-of-type {\n",
       "        vertical-align: middle;\n",
       "    }\n",
       "\n",
       "    .dataframe tbody tr th {\n",
       "        vertical-align: top;\n",
       "    }\n",
       "\n",
       "    .dataframe thead th {\n",
       "        text-align: right;\n",
       "    }\n",
       "</style>\n",
       "<table border=\"1\" class=\"dataframe\">\n",
       "  <thead>\n",
       "    <tr style=\"text-align: right;\">\n",
       "      <th></th>\n",
       "      <th>Unnamed: 0</th>\n",
       "      <th>Date</th>\n",
       "      <th>LKSPOMET_ATemp</th>\n",
       "      <th>LKSPOMET_TotPrcp</th>\n",
       "      <th>LKSBAWQ_Temp</th>\n",
       "      <th>LKSBAWQ_Sal</th>\n",
       "      <th>LKSBAWQ_Depth</th>\n",
       "      <th>LKSBAWQ_pH</th>\n",
       "      <th>LKSBAWQ_Turb</th>\n",
       "      <th>Turbidity_Range</th>\n",
       "      <th>Month</th>\n",
       "      <th>Day</th>\n",
       "      <th>Year</th>\n",
       "    </tr>\n",
       "  </thead>\n",
       "  <tbody>\n",
       "    <tr>\n",
       "      <th>0</th>\n",
       "      <td>0</td>\n",
       "      <td>06/01/2018</td>\n",
       "      <td>7.012903</td>\n",
       "      <td>0.000000</td>\n",
       "      <td>16.662366</td>\n",
       "      <td>0.1</td>\n",
       "      <td>1.673441</td>\n",
       "      <td>7.896774</td>\n",
       "      <td>14.473118</td>\n",
       "      <td>&lt;/=15</td>\n",
       "      <td>6</td>\n",
       "      <td>1</td>\n",
       "      <td>2018</td>\n",
       "    </tr>\n",
       "    <tr>\n",
       "      <th>1</th>\n",
       "      <td>1</td>\n",
       "      <td>06/01/2019</td>\n",
       "      <td>12.393750</td>\n",
       "      <td>0.000000</td>\n",
       "      <td>15.069792</td>\n",
       "      <td>0.1</td>\n",
       "      <td>2.066562</td>\n",
       "      <td>7.795833</td>\n",
       "      <td>8.875000</td>\n",
       "      <td>&lt;/=10</td>\n",
       "      <td>6</td>\n",
       "      <td>1</td>\n",
       "      <td>2019</td>\n",
       "    </tr>\n",
       "    <tr>\n",
       "      <th>2</th>\n",
       "      <td>2</td>\n",
       "      <td>06/01/2022</td>\n",
       "      <td>14.470833</td>\n",
       "      <td>0.000000</td>\n",
       "      <td>14.061458</td>\n",
       "      <td>0.1</td>\n",
       "      <td>1.229271</td>\n",
       "      <td>7.500000</td>\n",
       "      <td>13.218750</td>\n",
       "      <td>&lt;/=15</td>\n",
       "      <td>6</td>\n",
       "      <td>1</td>\n",
       "      <td>2022</td>\n",
       "    </tr>\n",
       "    <tr>\n",
       "      <th>3</th>\n",
       "      <td>3</td>\n",
       "      <td>06/02/2018</td>\n",
       "      <td>5.244792</td>\n",
       "      <td>0.217708</td>\n",
       "      <td>14.355208</td>\n",
       "      <td>0.1</td>\n",
       "      <td>1.607708</td>\n",
       "      <td>7.893750</td>\n",
       "      <td>10.937500</td>\n",
       "      <td>&lt;/=10</td>\n",
       "      <td>6</td>\n",
       "      <td>2</td>\n",
       "      <td>2018</td>\n",
       "    </tr>\n",
       "    <tr>\n",
       "      <th>4</th>\n",
       "      <td>4</td>\n",
       "      <td>06/02/2019</td>\n",
       "      <td>10.332292</td>\n",
       "      <td>0.000000</td>\n",
       "      <td>15.451042</td>\n",
       "      <td>0.1</td>\n",
       "      <td>2.112500</td>\n",
       "      <td>7.760417</td>\n",
       "      <td>7.916667</td>\n",
       "      <td>&lt;/=10</td>\n",
       "      <td>6</td>\n",
       "      <td>2</td>\n",
       "      <td>2019</td>\n",
       "    </tr>\n",
       "  </tbody>\n",
       "</table>\n",
       "</div>"
      ],
      "text/plain": [
       "   Unnamed: 0        Date  LKSPOMET_ATemp  LKSPOMET_TotPrcp  LKSBAWQ_Temp  \\\n",
       "0           0  06/01/2018        7.012903          0.000000     16.662366   \n",
       "1           1  06/01/2019       12.393750          0.000000     15.069792   \n",
       "2           2  06/01/2022       14.470833          0.000000     14.061458   \n",
       "3           3  06/02/2018        5.244792          0.217708     14.355208   \n",
       "4           4  06/02/2019       10.332292          0.000000     15.451042   \n",
       "\n",
       "   LKSBAWQ_Sal  LKSBAWQ_Depth  LKSBAWQ_pH  LKSBAWQ_Turb Turbidity_Range  \\\n",
       "0          0.1       1.673441    7.896774     14.473118           </=15   \n",
       "1          0.1       2.066562    7.795833      8.875000           </=10   \n",
       "2          0.1       1.229271    7.500000     13.218750           </=15   \n",
       "3          0.1       1.607708    7.893750     10.937500           </=10   \n",
       "4          0.1       2.112500    7.760417      7.916667           </=10   \n",
       "\n",
       "   Month  Day  Year  \n",
       "0      6    1  2018  \n",
       "1      6    1  2019  \n",
       "2      6    1  2022  \n",
       "3      6    2  2018  \n",
       "4      6    2  2019  "
      ]
     },
     "execution_count": 17,
     "metadata": {},
     "output_type": "execute_result"
    }
   ],
   "source": [
    "# Read the CSV file into a Pandas DataFrame\n",
    "old_df = pd.read_csv(\n",
    "    Path('8_summer_turbidity.csv')   \n",
    ")\n",
    "\n",
    "# Review the DataFrame\n",
    "old_df.head()"
   ]
  },
  {
   "cell_type": "code",
   "execution_count": 18,
   "metadata": {},
   "outputs": [
    {
     "data": {
      "text/html": [
       "<div>\n",
       "<style scoped>\n",
       "    .dataframe tbody tr th:only-of-type {\n",
       "        vertical-align: middle;\n",
       "    }\n",
       "\n",
       "    .dataframe tbody tr th {\n",
       "        vertical-align: top;\n",
       "    }\n",
       "\n",
       "    .dataframe thead th {\n",
       "        text-align: right;\n",
       "    }\n",
       "</style>\n",
       "<table border=\"1\" class=\"dataframe\">\n",
       "  <thead>\n",
       "    <tr style=\"text-align: right;\">\n",
       "      <th></th>\n",
       "      <th>Date</th>\n",
       "      <th>LKSPOMET_ATemp</th>\n",
       "      <th>LKSPOMET_TotPrcp</th>\n",
       "      <th>LKSBAWQ_Temp</th>\n",
       "      <th>LKSBAWQ_Depth</th>\n",
       "      <th>Turbidity_Range</th>\n",
       "    </tr>\n",
       "  </thead>\n",
       "  <tbody>\n",
       "    <tr>\n",
       "      <th>0</th>\n",
       "      <td>06/01/2018</td>\n",
       "      <td>7.012903</td>\n",
       "      <td>0.000000</td>\n",
       "      <td>16.662366</td>\n",
       "      <td>1.673441</td>\n",
       "      <td>&lt;/=15</td>\n",
       "    </tr>\n",
       "    <tr>\n",
       "      <th>1</th>\n",
       "      <td>06/01/2019</td>\n",
       "      <td>12.393750</td>\n",
       "      <td>0.000000</td>\n",
       "      <td>15.069792</td>\n",
       "      <td>2.066562</td>\n",
       "      <td>&lt;/=10</td>\n",
       "    </tr>\n",
       "    <tr>\n",
       "      <th>2</th>\n",
       "      <td>06/01/2022</td>\n",
       "      <td>14.470833</td>\n",
       "      <td>0.000000</td>\n",
       "      <td>14.061458</td>\n",
       "      <td>1.229271</td>\n",
       "      <td>&lt;/=15</td>\n",
       "    </tr>\n",
       "    <tr>\n",
       "      <th>3</th>\n",
       "      <td>06/02/2018</td>\n",
       "      <td>5.244792</td>\n",
       "      <td>0.217708</td>\n",
       "      <td>14.355208</td>\n",
       "      <td>1.607708</td>\n",
       "      <td>&lt;/=10</td>\n",
       "    </tr>\n",
       "    <tr>\n",
       "      <th>4</th>\n",
       "      <td>06/02/2019</td>\n",
       "      <td>10.332292</td>\n",
       "      <td>0.000000</td>\n",
       "      <td>15.451042</td>\n",
       "      <td>2.112500</td>\n",
       "      <td>&lt;/=10</td>\n",
       "    </tr>\n",
       "  </tbody>\n",
       "</table>\n",
       "</div>"
      ],
      "text/plain": [
       "         Date  LKSPOMET_ATemp  LKSPOMET_TotPrcp  LKSBAWQ_Temp  LKSBAWQ_Depth  \\\n",
       "0  06/01/2018        7.012903          0.000000     16.662366       1.673441   \n",
       "1  06/01/2019       12.393750          0.000000     15.069792       2.066562   \n",
       "2  06/01/2022       14.470833          0.000000     14.061458       1.229271   \n",
       "3  06/02/2018        5.244792          0.217708     14.355208       1.607708   \n",
       "4  06/02/2019       10.332292          0.000000     15.451042       2.112500   \n",
       "\n",
       "  Turbidity_Range  \n",
       "0           </=15  \n",
       "1           </=10  \n",
       "2           </=15  \n",
       "3           </=10  \n",
       "4           </=10  "
      ]
     },
     "execution_count": 18,
     "metadata": {},
     "output_type": "execute_result"
    }
   ],
   "source": [
    "df = old_df[['Date',\n",
    "                    'LKSPOMET_ATemp', \n",
    "                    'LKSPOMET_TotPrcp',\n",
    "                    'LKSBAWQ_Temp', \n",
    "                    'LKSBAWQ_Depth',\n",
    "                    'Turbidity_Range',\n",
    "                   ]]\n",
    "df.head()"
   ]
  },
  {
   "cell_type": "code",
   "execution_count": 19,
   "metadata": {
    "scrolled": false
   },
   "outputs": [],
   "source": [
    "#print(df['Month'].to_list())"
   ]
  },
  {
   "cell_type": "markdown",
   "metadata": {},
   "source": [
    "### 2. Separate the features `X` from the target `y`"
   ]
  },
  {
   "cell_type": "code",
   "execution_count": 20,
   "metadata": {},
   "outputs": [],
   "source": [
    "# Seperate the features, X,  from the target variable, y\n",
    "y = df['Turbidity_Range']\n",
    "X = df.drop(columns='Turbidity_Range')"
   ]
  },
  {
   "cell_type": "code",
   "execution_count": 21,
   "metadata": {},
   "outputs": [
    {
     "data": {
      "text/html": [
       "<div>\n",
       "<style scoped>\n",
       "    .dataframe tbody tr th:only-of-type {\n",
       "        vertical-align: middle;\n",
       "    }\n",
       "\n",
       "    .dataframe tbody tr th {\n",
       "        vertical-align: top;\n",
       "    }\n",
       "\n",
       "    .dataframe thead th {\n",
       "        text-align: right;\n",
       "    }\n",
       "</style>\n",
       "<table border=\"1\" class=\"dataframe\">\n",
       "  <thead>\n",
       "    <tr style=\"text-align: right;\">\n",
       "      <th></th>\n",
       "      <th>Date</th>\n",
       "      <th>LKSPOMET_ATemp</th>\n",
       "      <th>LKSPOMET_TotPrcp</th>\n",
       "      <th>LKSBAWQ_Temp</th>\n",
       "      <th>LKSBAWQ_Depth</th>\n",
       "    </tr>\n",
       "  </thead>\n",
       "  <tbody>\n",
       "    <tr>\n",
       "      <th>0</th>\n",
       "      <td>06/01/2018</td>\n",
       "      <td>7.012903</td>\n",
       "      <td>0.000000</td>\n",
       "      <td>16.662366</td>\n",
       "      <td>1.673441</td>\n",
       "    </tr>\n",
       "    <tr>\n",
       "      <th>1</th>\n",
       "      <td>06/01/2019</td>\n",
       "      <td>12.393750</td>\n",
       "      <td>0.000000</td>\n",
       "      <td>15.069792</td>\n",
       "      <td>2.066562</td>\n",
       "    </tr>\n",
       "    <tr>\n",
       "      <th>2</th>\n",
       "      <td>06/01/2022</td>\n",
       "      <td>14.470833</td>\n",
       "      <td>0.000000</td>\n",
       "      <td>14.061458</td>\n",
       "      <td>1.229271</td>\n",
       "    </tr>\n",
       "    <tr>\n",
       "      <th>3</th>\n",
       "      <td>06/02/2018</td>\n",
       "      <td>5.244792</td>\n",
       "      <td>0.217708</td>\n",
       "      <td>14.355208</td>\n",
       "      <td>1.607708</td>\n",
       "    </tr>\n",
       "    <tr>\n",
       "      <th>4</th>\n",
       "      <td>06/02/2019</td>\n",
       "      <td>10.332292</td>\n",
       "      <td>0.000000</td>\n",
       "      <td>15.451042</td>\n",
       "      <td>2.112500</td>\n",
       "    </tr>\n",
       "  </tbody>\n",
       "</table>\n",
       "</div>"
      ],
      "text/plain": [
       "         Date  LKSPOMET_ATemp  LKSPOMET_TotPrcp  LKSBAWQ_Temp  LKSBAWQ_Depth\n",
       "0  06/01/2018        7.012903          0.000000     16.662366       1.673441\n",
       "1  06/01/2019       12.393750          0.000000     15.069792       2.066562\n",
       "2  06/01/2022       14.470833          0.000000     14.061458       1.229271\n",
       "3  06/02/2018        5.244792          0.217708     14.355208       1.607708\n",
       "4  06/02/2019       10.332292          0.000000     15.451042       2.112500"
      ]
     },
     "execution_count": 21,
     "metadata": {},
     "output_type": "execute_result"
    }
   ],
   "source": [
    "# Preview the features data\n",
    "X.head()"
   ]
  },
  {
   "cell_type": "code",
   "execution_count": 22,
   "metadata": {},
   "outputs": [
    {
     "data": {
      "text/plain": [
       "0    </=15\n",
       "1    </=10\n",
       "2    </=15\n",
       "3    </=10\n",
       "4    </=10\n",
       "Name: Turbidity_Range, dtype: object"
      ]
     },
     "execution_count": 22,
     "metadata": {},
     "output_type": "execute_result"
    }
   ],
   "source": [
    "# Preview the first five entries for the target variable\n",
    "y[:5]"
   ]
  },
  {
   "cell_type": "markdown",
   "metadata": {},
   "source": [
    "### 3. Encode the categorical variables from the features data using `get_dummies`."
   ]
  },
  {
   "cell_type": "code",
   "execution_count": 23,
   "metadata": {},
   "outputs": [],
   "source": [
    "# Encode the categorical variables using get_dummies\n",
    "X = pd.get_dummies(X)"
   ]
  },
  {
   "cell_type": "code",
   "execution_count": 24,
   "metadata": {},
   "outputs": [
    {
     "data": {
      "text/html": [
       "<div>\n",
       "<style scoped>\n",
       "    .dataframe tbody tr th:only-of-type {\n",
       "        vertical-align: middle;\n",
       "    }\n",
       "\n",
       "    .dataframe tbody tr th {\n",
       "        vertical-align: top;\n",
       "    }\n",
       "\n",
       "    .dataframe thead th {\n",
       "        text-align: right;\n",
       "    }\n",
       "</style>\n",
       "<table border=\"1\" class=\"dataframe\">\n",
       "  <thead>\n",
       "    <tr style=\"text-align: right;\">\n",
       "      <th></th>\n",
       "      <th>LKSPOMET_ATemp</th>\n",
       "      <th>LKSPOMET_TotPrcp</th>\n",
       "      <th>LKSBAWQ_Temp</th>\n",
       "      <th>LKSBAWQ_Depth</th>\n",
       "      <th>Date_06/01/2018</th>\n",
       "      <th>Date_06/01/2019</th>\n",
       "      <th>Date_06/01/2022</th>\n",
       "      <th>Date_06/02/2018</th>\n",
       "      <th>Date_06/02/2019</th>\n",
       "      <th>Date_06/02/2022</th>\n",
       "      <th>...</th>\n",
       "      <th>Date_08/29/2020</th>\n",
       "      <th>Date_08/29/2021</th>\n",
       "      <th>Date_08/30/2018</th>\n",
       "      <th>Date_08/30/2019</th>\n",
       "      <th>Date_08/30/2020</th>\n",
       "      <th>Date_08/30/2021</th>\n",
       "      <th>Date_08/31/2018</th>\n",
       "      <th>Date_08/31/2019</th>\n",
       "      <th>Date_08/31/2020</th>\n",
       "      <th>Date_08/31/2021</th>\n",
       "    </tr>\n",
       "  </thead>\n",
       "  <tbody>\n",
       "    <tr>\n",
       "      <th>0</th>\n",
       "      <td>7.012903</td>\n",
       "      <td>0.000000</td>\n",
       "      <td>16.662366</td>\n",
       "      <td>1.673441</td>\n",
       "      <td>1</td>\n",
       "      <td>0</td>\n",
       "      <td>0</td>\n",
       "      <td>0</td>\n",
       "      <td>0</td>\n",
       "      <td>0</td>\n",
       "      <td>...</td>\n",
       "      <td>0</td>\n",
       "      <td>0</td>\n",
       "      <td>0</td>\n",
       "      <td>0</td>\n",
       "      <td>0</td>\n",
       "      <td>0</td>\n",
       "      <td>0</td>\n",
       "      <td>0</td>\n",
       "      <td>0</td>\n",
       "      <td>0</td>\n",
       "    </tr>\n",
       "    <tr>\n",
       "      <th>1</th>\n",
       "      <td>12.393750</td>\n",
       "      <td>0.000000</td>\n",
       "      <td>15.069792</td>\n",
       "      <td>2.066562</td>\n",
       "      <td>0</td>\n",
       "      <td>1</td>\n",
       "      <td>0</td>\n",
       "      <td>0</td>\n",
       "      <td>0</td>\n",
       "      <td>0</td>\n",
       "      <td>...</td>\n",
       "      <td>0</td>\n",
       "      <td>0</td>\n",
       "      <td>0</td>\n",
       "      <td>0</td>\n",
       "      <td>0</td>\n",
       "      <td>0</td>\n",
       "      <td>0</td>\n",
       "      <td>0</td>\n",
       "      <td>0</td>\n",
       "      <td>0</td>\n",
       "    </tr>\n",
       "    <tr>\n",
       "      <th>2</th>\n",
       "      <td>14.470833</td>\n",
       "      <td>0.000000</td>\n",
       "      <td>14.061458</td>\n",
       "      <td>1.229271</td>\n",
       "      <td>0</td>\n",
       "      <td>0</td>\n",
       "      <td>1</td>\n",
       "      <td>0</td>\n",
       "      <td>0</td>\n",
       "      <td>0</td>\n",
       "      <td>...</td>\n",
       "      <td>0</td>\n",
       "      <td>0</td>\n",
       "      <td>0</td>\n",
       "      <td>0</td>\n",
       "      <td>0</td>\n",
       "      <td>0</td>\n",
       "      <td>0</td>\n",
       "      <td>0</td>\n",
       "      <td>0</td>\n",
       "      <td>0</td>\n",
       "    </tr>\n",
       "    <tr>\n",
       "      <th>3</th>\n",
       "      <td>5.244792</td>\n",
       "      <td>0.217708</td>\n",
       "      <td>14.355208</td>\n",
       "      <td>1.607708</td>\n",
       "      <td>0</td>\n",
       "      <td>0</td>\n",
       "      <td>0</td>\n",
       "      <td>1</td>\n",
       "      <td>0</td>\n",
       "      <td>0</td>\n",
       "      <td>...</td>\n",
       "      <td>0</td>\n",
       "      <td>0</td>\n",
       "      <td>0</td>\n",
       "      <td>0</td>\n",
       "      <td>0</td>\n",
       "      <td>0</td>\n",
       "      <td>0</td>\n",
       "      <td>0</td>\n",
       "      <td>0</td>\n",
       "      <td>0</td>\n",
       "    </tr>\n",
       "    <tr>\n",
       "      <th>4</th>\n",
       "      <td>10.332292</td>\n",
       "      <td>0.000000</td>\n",
       "      <td>15.451042</td>\n",
       "      <td>2.112500</td>\n",
       "      <td>0</td>\n",
       "      <td>0</td>\n",
       "      <td>0</td>\n",
       "      <td>0</td>\n",
       "      <td>1</td>\n",
       "      <td>0</td>\n",
       "      <td>...</td>\n",
       "      <td>0</td>\n",
       "      <td>0</td>\n",
       "      <td>0</td>\n",
       "      <td>0</td>\n",
       "      <td>0</td>\n",
       "      <td>0</td>\n",
       "      <td>0</td>\n",
       "      <td>0</td>\n",
       "      <td>0</td>\n",
       "      <td>0</td>\n",
       "    </tr>\n",
       "  </tbody>\n",
       "</table>\n",
       "<p>5 rows × 367 columns</p>\n",
       "</div>"
      ],
      "text/plain": [
       "   LKSPOMET_ATemp  LKSPOMET_TotPrcp  LKSBAWQ_Temp  LKSBAWQ_Depth  \\\n",
       "0        7.012903          0.000000     16.662366       1.673441   \n",
       "1       12.393750          0.000000     15.069792       2.066562   \n",
       "2       14.470833          0.000000     14.061458       1.229271   \n",
       "3        5.244792          0.217708     14.355208       1.607708   \n",
       "4       10.332292          0.000000     15.451042       2.112500   \n",
       "\n",
       "   Date_06/01/2018  Date_06/01/2019  Date_06/01/2022  Date_06/02/2018  \\\n",
       "0                1                0                0                0   \n",
       "1                0                1                0                0   \n",
       "2                0                0                1                0   \n",
       "3                0                0                0                1   \n",
       "4                0                0                0                0   \n",
       "\n",
       "   Date_06/02/2019  Date_06/02/2022  ...  Date_08/29/2020  Date_08/29/2021  \\\n",
       "0                0                0  ...                0                0   \n",
       "1                0                0  ...                0                0   \n",
       "2                0                0  ...                0                0   \n",
       "3                0                0  ...                0                0   \n",
       "4                1                0  ...                0                0   \n",
       "\n",
       "   Date_08/30/2018  Date_08/30/2019  Date_08/30/2020  Date_08/30/2021  \\\n",
       "0                0                0                0                0   \n",
       "1                0                0                0                0   \n",
       "2                0                0                0                0   \n",
       "3                0                0                0                0   \n",
       "4                0                0                0                0   \n",
       "\n",
       "   Date_08/31/2018  Date_08/31/2019  Date_08/31/2020  Date_08/31/2021  \n",
       "0                0                0                0                0  \n",
       "1                0                0                0                0  \n",
       "2                0                0                0                0  \n",
       "3                0                0                0                0  \n",
       "4                0                0                0                0  \n",
       "\n",
       "[5 rows x 367 columns]"
      ]
     },
     "execution_count": 24,
     "metadata": {},
     "output_type": "execute_result"
    }
   ],
   "source": [
    "# Review the features data\n",
    "X.head()"
   ]
  },
  {
   "cell_type": "markdown",
   "metadata": {},
   "source": [
    "### 4. Separate the data into training and testing subsets."
   ]
  },
  {
   "cell_type": "code",
   "execution_count": 25,
   "metadata": {},
   "outputs": [],
   "source": [
    "# Split the dataset using train_test_split\n",
    "X_train, X_test, y_train, y_test = train_test_split(X, y, random_state=1)"
   ]
  },
  {
   "cell_type": "markdown",
   "metadata": {},
   "source": [
    "### 5. Scale the data using `StandardScaler`"
   ]
  },
  {
   "cell_type": "code",
   "execution_count": 26,
   "metadata": {},
   "outputs": [],
   "source": [
    "# Instantiate a StandardScaler instance\n",
    "scaler = StandardScaler()\n",
    "\n",
    "# Fit the training data to the standard scaler\n",
    "X_scaler = scaler.fit(X_train)\n",
    "\n",
    "# Transform the training data using the scaler\n",
    "X_train_scaled = X_scaler.transform(X_train)\n",
    "\n",
    "# Transform the testing data using the scaler\n",
    "X_test_scaled = X_scaler.transform(X_test)"
   ]
  },
  {
   "cell_type": "markdown",
   "metadata": {},
   "source": [
    "### 6. Instantiate an K Nearest Neighbor Classifier instance."
   ]
  },
  {
   "cell_type": "code",
   "execution_count": 27,
   "metadata": {},
   "outputs": [],
   "source": [
    "# Import the KNeighborsClassifier module from sklearn\n",
    "from sklearn.neighbors import KNeighborsClassifier\n",
    "\n",
    "# Instantiate the KNeighborsClassifier model with n_neighbors = 3 \n",
    "knn = KNeighborsClassifier(n_neighbors=3)"
   ]
  },
  {
   "cell_type": "markdown",
   "metadata": {},
   "source": [
    "### 7. Fit the model using the training data."
   ]
  },
  {
   "cell_type": "code",
   "execution_count": 28,
   "metadata": {},
   "outputs": [
    {
     "data": {
      "text/html": [
       "<style>#sk-container-id-2 {color: black;background-color: white;}#sk-container-id-2 pre{padding: 0;}#sk-container-id-2 div.sk-toggleable {background-color: white;}#sk-container-id-2 label.sk-toggleable__label {cursor: pointer;display: block;width: 100%;margin-bottom: 0;padding: 0.3em;box-sizing: border-box;text-align: center;}#sk-container-id-2 label.sk-toggleable__label-arrow:before {content: \"▸\";float: left;margin-right: 0.25em;color: #696969;}#sk-container-id-2 label.sk-toggleable__label-arrow:hover:before {color: black;}#sk-container-id-2 div.sk-estimator:hover label.sk-toggleable__label-arrow:before {color: black;}#sk-container-id-2 div.sk-toggleable__content {max-height: 0;max-width: 0;overflow: hidden;text-align: left;background-color: #f0f8ff;}#sk-container-id-2 div.sk-toggleable__content pre {margin: 0.2em;color: black;border-radius: 0.25em;background-color: #f0f8ff;}#sk-container-id-2 input.sk-toggleable__control:checked~div.sk-toggleable__content {max-height: 200px;max-width: 100%;overflow: auto;}#sk-container-id-2 input.sk-toggleable__control:checked~label.sk-toggleable__label-arrow:before {content: \"▾\";}#sk-container-id-2 div.sk-estimator input.sk-toggleable__control:checked~label.sk-toggleable__label {background-color: #d4ebff;}#sk-container-id-2 div.sk-label input.sk-toggleable__control:checked~label.sk-toggleable__label {background-color: #d4ebff;}#sk-container-id-2 input.sk-hidden--visually {border: 0;clip: rect(1px 1px 1px 1px);clip: rect(1px, 1px, 1px, 1px);height: 1px;margin: -1px;overflow: hidden;padding: 0;position: absolute;width: 1px;}#sk-container-id-2 div.sk-estimator {font-family: monospace;background-color: #f0f8ff;border: 1px dotted black;border-radius: 0.25em;box-sizing: border-box;margin-bottom: 0.5em;}#sk-container-id-2 div.sk-estimator:hover {background-color: #d4ebff;}#sk-container-id-2 div.sk-parallel-item::after {content: \"\";width: 100%;border-bottom: 1px solid gray;flex-grow: 1;}#sk-container-id-2 div.sk-label:hover label.sk-toggleable__label {background-color: #d4ebff;}#sk-container-id-2 div.sk-serial::before {content: \"\";position: absolute;border-left: 1px solid gray;box-sizing: border-box;top: 0;bottom: 0;left: 50%;z-index: 0;}#sk-container-id-2 div.sk-serial {display: flex;flex-direction: column;align-items: center;background-color: white;padding-right: 0.2em;padding-left: 0.2em;position: relative;}#sk-container-id-2 div.sk-item {position: relative;z-index: 1;}#sk-container-id-2 div.sk-parallel {display: flex;align-items: stretch;justify-content: center;background-color: white;position: relative;}#sk-container-id-2 div.sk-item::before, #sk-container-id-2 div.sk-parallel-item::before {content: \"\";position: absolute;border-left: 1px solid gray;box-sizing: border-box;top: 0;bottom: 0;left: 50%;z-index: -1;}#sk-container-id-2 div.sk-parallel-item {display: flex;flex-direction: column;z-index: 1;position: relative;background-color: white;}#sk-container-id-2 div.sk-parallel-item:first-child::after {align-self: flex-end;width: 50%;}#sk-container-id-2 div.sk-parallel-item:last-child::after {align-self: flex-start;width: 50%;}#sk-container-id-2 div.sk-parallel-item:only-child::after {width: 0;}#sk-container-id-2 div.sk-dashed-wrapped {border: 1px dashed gray;margin: 0 0.4em 0.5em 0.4em;box-sizing: border-box;padding-bottom: 0.4em;background-color: white;}#sk-container-id-2 div.sk-label label {font-family: monospace;font-weight: bold;display: inline-block;line-height: 1.2em;}#sk-container-id-2 div.sk-label-container {text-align: center;}#sk-container-id-2 div.sk-container {/* jupyter's `normalize.less` sets `[hidden] { display: none; }` but bootstrap.min.css set `[hidden] { display: none !important; }` so we also need the `!important` here to be able to override the default hidden behavior on the sphinx rendered scikit-learn.org. See: https://github.com/scikit-learn/scikit-learn/issues/21755 */display: inline-block !important;position: relative;}#sk-container-id-2 div.sk-text-repr-fallback {display: none;}</style><div id=\"sk-container-id-2\" class=\"sk-top-container\"><div class=\"sk-text-repr-fallback\"><pre>KNeighborsClassifier(n_neighbors=3)</pre><b>In a Jupyter environment, please rerun this cell to show the HTML representation or trust the notebook. <br />On GitHub, the HTML representation is unable to render, please try loading this page with nbviewer.org.</b></div><div class=\"sk-container\" hidden><div class=\"sk-item\"><div class=\"sk-estimator sk-toggleable\"><input class=\"sk-toggleable__control sk-hidden--visually\" id=\"sk-estimator-id-2\" type=\"checkbox\" checked><label for=\"sk-estimator-id-2\" class=\"sk-toggleable__label sk-toggleable__label-arrow\">KNeighborsClassifier</label><div class=\"sk-toggleable__content\"><pre>KNeighborsClassifier(n_neighbors=3)</pre></div></div></div></div></div>"
      ],
      "text/plain": [
       "KNeighborsClassifier(n_neighbors=3)"
      ]
     },
     "execution_count": 28,
     "metadata": {},
     "output_type": "execute_result"
    }
   ],
   "source": [
    "# Train the model using the training data\n",
    "knn.fit(X_train_scaled, y_train)"
   ]
  },
  {
   "cell_type": "markdown",
   "metadata": {},
   "source": [
    "### 8. Make predictions using the testing data."
   ]
  },
  {
   "cell_type": "code",
   "execution_count": 29,
   "metadata": {},
   "outputs": [],
   "source": [
    "# Create predictions using the testing data\n",
    "y_pred = knn.predict(X_test_scaled)"
   ]
  },
  {
   "cell_type": "markdown",
   "metadata": {},
   "source": [
    "### 9. Generate the classification report for the test data."
   ]
  },
  {
   "cell_type": "code",
   "execution_count": 30,
   "metadata": {},
   "outputs": [
    {
     "name": "stdout",
     "output_type": "stream",
     "text": [
      "              precision    recall  f1-score   support\n",
      "\n",
      "       </=10       0.51      0.46      0.49        41\n",
      "       </=15       0.43      0.64      0.52        25\n",
      "       </=20       0.00      0.00      0.00         5\n",
      "       </=25       1.00      0.00      0.00         1\n",
      "       </=30       0.00      0.00      0.00         2\n",
      "       </=35       1.00      0.00      0.00         3\n",
      "        </=5       0.42      0.36      0.38        14\n",
      "\n",
      "    accuracy                           0.44        91\n",
      "   macro avg       0.48      0.21      0.20        91\n",
      "weighted avg       0.46      0.44      0.42        91\n",
      "\n"
     ]
    }
   ],
   "source": [
    "# Print the classification report comparing the testing data to the model predictions\n",
    "print(classification_report(y_test, y_pred, zero_division=1))"
   ]
  },
  {
   "cell_type": "code",
   "execution_count": null,
   "metadata": {},
   "outputs": [],
   "source": []
  },
  {
   "cell_type": "code",
   "execution_count": null,
   "metadata": {},
   "outputs": [],
   "source": []
  }
 ],
 "metadata": {
  "kernelspec": {
   "display_name": "Python 3 (ipykernel)",
   "language": "python",
   "name": "python3"
  },
  "language_info": {
   "codemirror_mode": {
    "name": "ipython",
    "version": 3
   },
   "file_extension": ".py",
   "mimetype": "text/x-python",
   "name": "python",
   "nbconvert_exporter": "python",
   "pygments_lexer": "ipython3",
   "version": "3.10.11"
  }
 },
 "nbformat": 4,
 "nbformat_minor": 4
}
