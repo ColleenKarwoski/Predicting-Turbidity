{
 "cells": [
  {
   "cell_type": "markdown",
   "metadata": {},
   "source": [
    "# Instructor Do: Random Forests"
   ]
  },
  {
   "cell_type": "code",
   "execution_count": 3,
   "metadata": {},
   "outputs": [],
   "source": [
    "# Initial imports\n",
    "import pandas as pd\n",
    "from pathlib import Path\n",
    "from sklearn.ensemble import RandomForestClassifier\n",
    "from sklearn.preprocessing import StandardScaler\n",
    "from sklearn.model_selection import train_test_split\n",
    "from sklearn.metrics import confusion_matrix, accuracy_score, classification_report\n",
    "%matplotlib inline\n"
   ]
  },
  {
   "cell_type": "markdown",
   "metadata": {},
   "source": [
    "## Loading and Preprocessing Loans Encoded Data"
   ]
  },
  {
   "cell_type": "code",
   "execution_count": 4,
   "metadata": {},
   "outputs": [
    {
     "data": {
      "text/html": [
       "<div>\n",
       "<style scoped>\n",
       "    .dataframe tbody tr th:only-of-type {\n",
       "        vertical-align: middle;\n",
       "    }\n",
       "\n",
       "    .dataframe tbody tr th {\n",
       "        vertical-align: top;\n",
       "    }\n",
       "\n",
       "    .dataframe thead th {\n",
       "        text-align: right;\n",
       "    }\n",
       "</style>\n",
       "<table border=\"1\" class=\"dataframe\">\n",
       "  <thead>\n",
       "    <tr style=\"text-align: right;\">\n",
       "      <th></th>\n",
       "      <th>Unnamed: 0</th>\n",
       "      <th>_c0</th>\n",
       "      <th>Date</th>\n",
       "      <th>Time</th>\n",
       "      <th>LKSPOMET_ATemp</th>\n",
       "      <th>LKSPOMET_F_ATemp</th>\n",
       "      <th>LKSPOMET_TotPrcp</th>\n",
       "      <th>LKSPOMET_F_TotPrcp</th>\n",
       "      <th>LKSBAWQ_Temp</th>\n",
       "      <th>LKSBAWQ_F_Temp</th>\n",
       "      <th>...</th>\n",
       "      <th>LKSBAWQ_Depth</th>\n",
       "      <th>LKSBAWQ_F_Depth</th>\n",
       "      <th>LKSBAWQ_pH</th>\n",
       "      <th>LKSBAWQ_F_pH</th>\n",
       "      <th>LKSBAWQ_Turb</th>\n",
       "      <th>LKSBAWQ_F_Turb</th>\n",
       "      <th>Turbidity_Range</th>\n",
       "      <th>Month</th>\n",
       "      <th>Day</th>\n",
       "      <th>Year</th>\n",
       "    </tr>\n",
       "  </thead>\n",
       "  <tbody>\n",
       "    <tr>\n",
       "      <th>0</th>\n",
       "      <td>0</td>\n",
       "      <td>14498</td>\n",
       "      <td>06/01/2018</td>\n",
       "      <td>2023-06-05 00:00:00</td>\n",
       "      <td>10.3</td>\n",
       "      <td>&lt;0&gt;</td>\n",
       "      <td>0.0</td>\n",
       "      <td>&lt;0&gt;</td>\n",
       "      <td>18.0</td>\n",
       "      <td>&lt;0&gt;</td>\n",
       "      <td>...</td>\n",
       "      <td>1.67</td>\n",
       "      <td>&lt;0&gt;</td>\n",
       "      <td>7.8</td>\n",
       "      <td>&lt;0&gt;</td>\n",
       "      <td>12.0</td>\n",
       "      <td>&lt;0&gt;</td>\n",
       "      <td>&lt;/=20</td>\n",
       "      <td>6</td>\n",
       "      <td>1</td>\n",
       "      <td>2018</td>\n",
       "    </tr>\n",
       "    <tr>\n",
       "      <th>1</th>\n",
       "      <td>1</td>\n",
       "      <td>14499</td>\n",
       "      <td>06/01/2018</td>\n",
       "      <td>2023-06-05 00:15:00</td>\n",
       "      <td>10.0</td>\n",
       "      <td>&lt;0&gt;</td>\n",
       "      <td>0.0</td>\n",
       "      <td>&lt;0&gt;</td>\n",
       "      <td>17.9</td>\n",
       "      <td>&lt;0&gt;</td>\n",
       "      <td>...</td>\n",
       "      <td>1.69</td>\n",
       "      <td>&lt;0&gt;</td>\n",
       "      <td>7.9</td>\n",
       "      <td>&lt;0&gt;</td>\n",
       "      <td>16.0</td>\n",
       "      <td>&lt;0&gt;</td>\n",
       "      <td>&lt;/=20</td>\n",
       "      <td>6</td>\n",
       "      <td>1</td>\n",
       "      <td>2018</td>\n",
       "    </tr>\n",
       "    <tr>\n",
       "      <th>2</th>\n",
       "      <td>2</td>\n",
       "      <td>14500</td>\n",
       "      <td>06/01/2018</td>\n",
       "      <td>2023-06-05 00:30:00</td>\n",
       "      <td>9.5</td>\n",
       "      <td>&lt;0&gt;</td>\n",
       "      <td>0.0</td>\n",
       "      <td>&lt;0&gt;</td>\n",
       "      <td>17.8</td>\n",
       "      <td>&lt;0&gt;</td>\n",
       "      <td>...</td>\n",
       "      <td>1.71</td>\n",
       "      <td>&lt;0&gt;</td>\n",
       "      <td>7.9</td>\n",
       "      <td>&lt;0&gt;</td>\n",
       "      <td>17.0</td>\n",
       "      <td>&lt;0&gt;</td>\n",
       "      <td>&lt;/=20</td>\n",
       "      <td>6</td>\n",
       "      <td>1</td>\n",
       "      <td>2018</td>\n",
       "    </tr>\n",
       "    <tr>\n",
       "      <th>3</th>\n",
       "      <td>3</td>\n",
       "      <td>14501</td>\n",
       "      <td>06/01/2018</td>\n",
       "      <td>2023-06-05 00:45:00</td>\n",
       "      <td>9.2</td>\n",
       "      <td>&lt;0&gt;</td>\n",
       "      <td>0.0</td>\n",
       "      <td>&lt;0&gt;</td>\n",
       "      <td>17.7</td>\n",
       "      <td>&lt;0&gt;</td>\n",
       "      <td>...</td>\n",
       "      <td>1.70</td>\n",
       "      <td>&lt;0&gt;</td>\n",
       "      <td>7.9</td>\n",
       "      <td>&lt;0&gt;</td>\n",
       "      <td>18.0</td>\n",
       "      <td>&lt;0&gt;</td>\n",
       "      <td>&lt;/=20</td>\n",
       "      <td>6</td>\n",
       "      <td>1</td>\n",
       "      <td>2018</td>\n",
       "    </tr>\n",
       "    <tr>\n",
       "      <th>4</th>\n",
       "      <td>4</td>\n",
       "      <td>14502</td>\n",
       "      <td>06/01/2018</td>\n",
       "      <td>2023-06-05 01:00:00</td>\n",
       "      <td>9.1</td>\n",
       "      <td>&lt;0&gt;</td>\n",
       "      <td>0.0</td>\n",
       "      <td>&lt;0&gt;</td>\n",
       "      <td>17.7</td>\n",
       "      <td>&lt;0&gt;</td>\n",
       "      <td>...</td>\n",
       "      <td>1.68</td>\n",
       "      <td>&lt;0&gt;</td>\n",
       "      <td>7.9</td>\n",
       "      <td>&lt;0&gt;</td>\n",
       "      <td>25.0</td>\n",
       "      <td>&lt;0&gt;</td>\n",
       "      <td>&lt;/=30</td>\n",
       "      <td>6</td>\n",
       "      <td>1</td>\n",
       "      <td>2018</td>\n",
       "    </tr>\n",
       "  </tbody>\n",
       "</table>\n",
       "<p>5 rows × 22 columns</p>\n",
       "</div>"
      ],
      "text/plain": [
       "   Unnamed: 0    _c0        Date                 Time  LKSPOMET_ATemp  \\\n",
       "0           0  14498  06/01/2018  2023-06-05 00:00:00            10.3   \n",
       "1           1  14499  06/01/2018  2023-06-05 00:15:00            10.0   \n",
       "2           2  14500  06/01/2018  2023-06-05 00:30:00             9.5   \n",
       "3           3  14501  06/01/2018  2023-06-05 00:45:00             9.2   \n",
       "4           4  14502  06/01/2018  2023-06-05 01:00:00             9.1   \n",
       "\n",
       "  LKSPOMET_F_ATemp  LKSPOMET_TotPrcp LKSPOMET_F_TotPrcp  LKSBAWQ_Temp  \\\n",
       "0             <0>                0.0               <0>           18.0   \n",
       "1             <0>                0.0               <0>           17.9   \n",
       "2             <0>                0.0               <0>           17.8   \n",
       "3             <0>                0.0               <0>           17.7   \n",
       "4             <0>                0.0               <0>           17.7   \n",
       "\n",
       "  LKSBAWQ_F_Temp  ...  LKSBAWQ_Depth LKSBAWQ_F_Depth  LKSBAWQ_pH LKSBAWQ_F_pH  \\\n",
       "0           <0>   ...           1.67            <0>          7.8         <0>    \n",
       "1           <0>   ...           1.69            <0>          7.9         <0>    \n",
       "2           <0>   ...           1.71            <0>          7.9         <0>    \n",
       "3           <0>   ...           1.70            <0>          7.9         <0>    \n",
       "4           <0>   ...           1.68            <0>          7.9         <0>    \n",
       "\n",
       "   LKSBAWQ_Turb LKSBAWQ_F_Turb  Turbidity_Range Month Day  Year  \n",
       "0          12.0           <0>             </=20     6   1  2018  \n",
       "1          16.0           <0>             </=20     6   1  2018  \n",
       "2          17.0           <0>             </=20     6   1  2018  \n",
       "3          18.0           <0>             </=20     6   1  2018  \n",
       "4          25.0           <0>             </=30     6   1  2018  \n",
       "\n",
       "[5 rows x 22 columns]"
      ]
     },
     "execution_count": 4,
     "metadata": {},
     "output_type": "execute_result"
    }
   ],
   "source": [
    "# Loading data\n",
    "df_old = pd.read_csv(\"11_summer_turbidity.csv\")\n",
    "df_old.head()"
   ]
  },
  {
   "cell_type": "code",
   "execution_count": 5,
   "metadata": {},
   "outputs": [
    {
     "ename": "SyntaxError",
     "evalue": "'[' was never closed (2168636476.py, line 1)",
     "output_type": "error",
     "traceback": [
      "\u001b[1;36m  Cell \u001b[1;32mIn[5], line 1\u001b[1;36m\u001b[0m\n\u001b[1;33m    df = df_old[[\u001b[0m\n\u001b[1;37m                ^\u001b[0m\n\u001b[1;31mSyntaxError\u001b[0m\u001b[1;31m:\u001b[0m '[' was never closed\n"
     ]
    }
   ],
   "source": [
    "df = df_old[[      \n",
    "df = df_old[[       'Month', 'Month',\n",
    "                    'LKSPOMET_ATemp', \n",
    "                    'LKSPOMET_TotPrcp',\n",
    "                    'LKSBAWQ_Temp', \n",
    "                    'LKSPOMET_WSpd', \n",
    "                    'LKSBAWQ_Depth',\n",
    "                    'LKSBAWQ_pH',\n",
    "                     'Turbidity_Range',\n",
    "                   ]]\n",
    "df.head(100)"
   ]
  },
  {
   "cell_type": "code",
   "execution_count": 69,
   "metadata": {},
   "outputs": [
    {
     "data": {
      "text/html": [
       "<div>\n",
       "<style scoped>\n",
       "    .dataframe tbody tr th:only-of-type {\n",
       "        vertical-align: middle;\n",
       "    }\n",
       "\n",
       "    .dataframe tbody tr th {\n",
       "        vertical-align: top;\n",
       "    }\n",
       "\n",
       "    .dataframe thead th {\n",
       "        text-align: right;\n",
       "    }\n",
       "</style>\n",
       "<table border=\"1\" class=\"dataframe\">\n",
       "  <thead>\n",
       "    <tr style=\"text-align: right;\">\n",
       "      <th></th>\n",
       "      <th>Month</th>\n",
       "      <th>LKSPOMET_ATemp</th>\n",
       "      <th>LKSPOMET_TotPrcp</th>\n",
       "      <th>LKSBAWQ_Temp</th>\n",
       "      <th>LKSBAWQ_Sal</th>\n",
       "      <th>LKSBAWQ_Depth</th>\n",
       "      <th>LKSBAWQ_pH</th>\n",
       "    </tr>\n",
       "  </thead>\n",
       "  <tbody>\n",
       "    <tr>\n",
       "      <th>0</th>\n",
       "      <td>6</td>\n",
       "      <td>7.012903</td>\n",
       "      <td>0.000000</td>\n",
       "      <td>16.662366</td>\n",
       "      <td>0.1</td>\n",
       "      <td>1.673441</td>\n",
       "      <td>7.896774</td>\n",
       "    </tr>\n",
       "    <tr>\n",
       "      <th>1</th>\n",
       "      <td>6</td>\n",
       "      <td>12.393750</td>\n",
       "      <td>0.000000</td>\n",
       "      <td>15.069792</td>\n",
       "      <td>0.1</td>\n",
       "      <td>2.066562</td>\n",
       "      <td>7.795833</td>\n",
       "    </tr>\n",
       "    <tr>\n",
       "      <th>2</th>\n",
       "      <td>6</td>\n",
       "      <td>14.470833</td>\n",
       "      <td>0.000000</td>\n",
       "      <td>14.061458</td>\n",
       "      <td>0.1</td>\n",
       "      <td>1.229271</td>\n",
       "      <td>7.500000</td>\n",
       "    </tr>\n",
       "    <tr>\n",
       "      <th>3</th>\n",
       "      <td>6</td>\n",
       "      <td>5.244792</td>\n",
       "      <td>0.217708</td>\n",
       "      <td>14.355208</td>\n",
       "      <td>0.1</td>\n",
       "      <td>1.607708</td>\n",
       "      <td>7.893750</td>\n",
       "    </tr>\n",
       "    <tr>\n",
       "      <th>4</th>\n",
       "      <td>6</td>\n",
       "      <td>10.332292</td>\n",
       "      <td>0.000000</td>\n",
       "      <td>15.451042</td>\n",
       "      <td>0.1</td>\n",
       "      <td>2.112500</td>\n",
       "      <td>7.760417</td>\n",
       "    </tr>\n",
       "  </tbody>\n",
       "</table>\n",
       "</div>"
      ],
      "text/plain": [
       "   Month  LKSPOMET_ATemp  LKSPOMET_TotPrcp  LKSBAWQ_Temp  LKSBAWQ_Sal  \\\n",
       "0      6        7.012903          0.000000     16.662366          0.1   \n",
       "1      6       12.393750          0.000000     15.069792          0.1   \n",
       "2      6       14.470833          0.000000     14.061458          0.1   \n",
       "3      6        5.244792          0.217708     14.355208          0.1   \n",
       "4      6       10.332292          0.000000     15.451042          0.1   \n",
       "\n",
       "   LKSBAWQ_Depth  LKSBAWQ_pH  \n",
       "0       1.673441    7.896774  \n",
       "1       2.066562    7.795833  \n",
       "2       1.229271    7.500000  \n",
       "3       1.607708    7.893750  \n",
       "4       2.112500    7.760417  "
      ]
     },
     "execution_count": 69,
     "metadata": {},
     "output_type": "execute_result"
    }
   ],
   "source": [
    "# Define features set\n",
    "X = df.copy()\n",
    "X.drop(\"Turbidity_Range\", axis=1, inplace=True)\n",
    "X.head()"
   ]
  },
  {
   "cell_type": "code",
   "execution_count": 70,
   "metadata": {},
   "outputs": [
    {
     "data": {
      "text/plain": [
       "array(['</=20', '</=10', '</=20', '</=10', '</=10'], dtype=object)"
      ]
     },
     "execution_count": 70,
     "metadata": {},
     "output_type": "execute_result"
    }
   ],
   "source": [
    "# Define target vector\n",
    "y = df[\"Turbidity_Range\"].ravel()\n",
    "y[:5]"
   ]
  },
  {
   "cell_type": "code",
   "execution_count": 71,
   "metadata": {},
   "outputs": [],
   "source": [
    "# Splitting into Train and Test sets\n",
    "X_train, X_test, y_train, y_test = train_test_split(X, y, random_state=78)"
   ]
  },
  {
   "cell_type": "code",
   "execution_count": 72,
   "metadata": {},
   "outputs": [],
   "source": [
    "# Creating StandardScaler instance\n",
    "scaler = StandardScaler()"
   ]
  },
  {
   "cell_type": "code",
   "execution_count": 73,
   "metadata": {},
   "outputs": [],
   "source": [
    "# Fitting Standard Scaller\n",
    "X_scaler = scaler.fit(X_train)"
   ]
  },
  {
   "cell_type": "code",
   "execution_count": 74,
   "metadata": {},
   "outputs": [],
   "source": [
    "# Scaling data\n",
    "X_train_scaled = X_scaler.transform(X_train)\n",
    "X_test_scaled = X_scaler.transform(X_test)"
   ]
  },
  {
   "cell_type": "markdown",
   "metadata": {},
   "source": [
    "## Fitting the Random Forest Model"
   ]
  },
  {
   "cell_type": "code",
   "execution_count": 75,
   "metadata": {},
   "outputs": [],
   "source": [
    "# Create a random forest classifier\n",
    "rf_model = RandomForestClassifier(n_estimators=200, random_state=78)"
   ]
  },
  {
   "cell_type": "code",
   "execution_count": 76,
   "metadata": {},
   "outputs": [],
   "source": [
    "# Fitting the model\n",
    "rf_model = rf_model.fit(X_train_scaled, y_train)"
   ]
  },
  {
   "cell_type": "markdown",
   "metadata": {},
   "source": [
    "## Making Predictions Using the Random Forest Model"
   ]
  },
  {
   "cell_type": "code",
   "execution_count": 77,
   "metadata": {},
   "outputs": [],
   "source": [
    "# Making predictions using the testing data\n",
    "predictions = rf_model.predict(X_test_scaled)"
   ]
  },
  {
   "cell_type": "markdown",
   "metadata": {},
   "source": [
    "## Model Evaluation"
   ]
  },
  {
   "cell_type": "code",
   "execution_count": 78,
   "metadata": {},
   "outputs": [],
   "source": [
    "# Calculating the confusion matrix\n",
    "cm = confusion_matrix(y_test, predictions)\n",
    "cm_df = pd.DataFrame(\n",
    "    cm, index=[\"Actual </=10\", \"Actual </=20\", \" Actual </=30\", \"Actual </=40\"], \n",
    "        columns=[\"Predicted </=10\", \"Predicted </=20\", \"Predicted </=30\", \"Predicted </=40\"])\n",
    "# Calculating the accuracy score\n",
    "acc_score = accuracy_score(y_test, predictions)"
   ]
  },
  {
   "cell_type": "code",
   "execution_count": 79,
   "metadata": {},
   "outputs": [
    {
     "name": "stdout",
     "output_type": "stream",
     "text": [
      "Confusion Matrix\n"
     ]
    },
    {
     "data": {
      "text/html": [
       "<div>\n",
       "<style scoped>\n",
       "    .dataframe tbody tr th:only-of-type {\n",
       "        vertical-align: middle;\n",
       "    }\n",
       "\n",
       "    .dataframe tbody tr th {\n",
       "        vertical-align: top;\n",
       "    }\n",
       "\n",
       "    .dataframe thead th {\n",
       "        text-align: right;\n",
       "    }\n",
       "</style>\n",
       "<table border=\"1\" class=\"dataframe\">\n",
       "  <thead>\n",
       "    <tr style=\"text-align: right;\">\n",
       "      <th></th>\n",
       "      <th>Predicted &lt;/=10</th>\n",
       "      <th>Predicted &lt;/=20</th>\n",
       "      <th>Predicted &lt;/=30</th>\n",
       "      <th>Predicted &lt;/=40</th>\n",
       "    </tr>\n",
       "  </thead>\n",
       "  <tbody>\n",
       "    <tr>\n",
       "      <th>Actual &lt;/=10</th>\n",
       "      <td>46</td>\n",
       "      <td>8</td>\n",
       "      <td>0</td>\n",
       "      <td>0</td>\n",
       "    </tr>\n",
       "    <tr>\n",
       "      <th>Actual &lt;/=20</th>\n",
       "      <td>11</td>\n",
       "      <td>20</td>\n",
       "      <td>0</td>\n",
       "      <td>0</td>\n",
       "    </tr>\n",
       "    <tr>\n",
       "      <th>Actual &lt;/=30</th>\n",
       "      <td>1</td>\n",
       "      <td>4</td>\n",
       "      <td>0</td>\n",
       "      <td>0</td>\n",
       "    </tr>\n",
       "    <tr>\n",
       "      <th>Actual &lt;/=40</th>\n",
       "      <td>0</td>\n",
       "      <td>0</td>\n",
       "      <td>0</td>\n",
       "      <td>1</td>\n",
       "    </tr>\n",
       "  </tbody>\n",
       "</table>\n",
       "</div>"
      ],
      "text/plain": [
       "               Predicted </=10  Predicted </=20  Predicted </=30  \\\n",
       "Actual </=10                46                8                0   \n",
       "Actual </=20                11               20                0   \n",
       " Actual </=30                1                4                0   \n",
       "Actual </=40                 0                0                0   \n",
       "\n",
       "               Predicted </=40  \n",
       "Actual </=10                 0  \n",
       "Actual </=20                 0  \n",
       " Actual </=30                0  \n",
       "Actual </=40                 1  "
      ]
     },
     "metadata": {},
     "output_type": "display_data"
    },
    {
     "name": "stdout",
     "output_type": "stream",
     "text": [
      "Accuracy Score : 0.7362637362637363\n",
      "Classification Report\n",
      "              precision    recall  f1-score   support\n",
      "\n",
      "       </=10       0.79      0.85      0.82        54\n",
      "       </=20       0.62      0.65      0.63        31\n",
      "       </=30       0.00      0.00      0.00         5\n",
      "       </=40       1.00      1.00      1.00         1\n",
      "\n",
      "    accuracy                           0.74        91\n",
      "   macro avg       0.60      0.62      0.61        91\n",
      "weighted avg       0.69      0.74      0.71        91\n",
      "\n"
     ]
    },
    {
     "name": "stderr",
     "output_type": "stream",
     "text": [
      "C:\\Users\\katel\\anaconda3\\envs\\dev\\lib\\site-packages\\sklearn\\metrics\\_classification.py:1344: UndefinedMetricWarning: Precision and F-score are ill-defined and being set to 0.0 in labels with no predicted samples. Use `zero_division` parameter to control this behavior.\n",
      "  _warn_prf(average, modifier, msg_start, len(result))\n",
      "C:\\Users\\katel\\anaconda3\\envs\\dev\\lib\\site-packages\\sklearn\\metrics\\_classification.py:1344: UndefinedMetricWarning: Precision and F-score are ill-defined and being set to 0.0 in labels with no predicted samples. Use `zero_division` parameter to control this behavior.\n",
      "  _warn_prf(average, modifier, msg_start, len(result))\n",
      "C:\\Users\\katel\\anaconda3\\envs\\dev\\lib\\site-packages\\sklearn\\metrics\\_classification.py:1344: UndefinedMetricWarning: Precision and F-score are ill-defined and being set to 0.0 in labels with no predicted samples. Use `zero_division` parameter to control this behavior.\n",
      "  _warn_prf(average, modifier, msg_start, len(result))\n"
     ]
    }
   ],
   "source": [
    "# Displaying results\n",
    "print(\"Confusion Matrix\")\n",
    "display(cm_df)\n",
    "print(f\"Accuracy Score : {acc_score}\")\n",
    "print(\"Classification Report\")\n",
    "print(classification_report(y_test, predictions))"
   ]
  },
  {
   "cell_type": "markdown",
   "metadata": {},
   "source": [
    "## Feature Importance"
   ]
  },
  {
   "cell_type": "code",
   "execution_count": 80,
   "metadata": {},
   "outputs": [
    {
     "data": {
      "text/plain": [
       "[(0.2736427694056429, 'LKSBAWQ_pH'),\n",
       " (0.23603230217973345, 'LKSBAWQ_Depth'),\n",
       " (0.1649928627261768, 'LKSBAWQ_Temp'),\n",
       " (0.14671136772847287, 'LKSPOMET_ATemp'),\n",
       " (0.10880220614802244, 'Month'),\n",
       " (0.06981849181195164, 'LKSPOMET_TotPrcp'),\n",
       " (0.0, 'LKSBAWQ_Sal')]"
      ]
     },
     "execution_count": 80,
     "metadata": {},
     "output_type": "execute_result"
    }
   ],
   "source": [
    "# Random Forests in sklearn will automatically calculate feature importance\n",
    "importances = rf_model.feature_importances_\n",
    "# We can sort the features by their importance\n",
    "sorted(zip(rf_model.feature_importances_, X.columns), reverse=True)"
   ]
  },
  {
   "cell_type": "code",
   "execution_count": 81,
   "metadata": {},
   "outputs": [
    {
     "data": {
      "text/plain": [
       "<Axes: title={'center': 'Features Importances'}, ylabel='1'>"
      ]
     },
     "execution_count": 81,
     "metadata": {},
     "output_type": "execute_result"
    },
    {
     "data": {
      "image/png": "[encoded data removed]",
      "text/plain": [
       "<Figure size 640x480 with 1 Axes>"
      ]
     },
     "metadata": {},
     "output_type": "display_data"
    }
   ],
   "source": [
    "# Visualize the features by importance\n",
    "importances_df = pd.DataFrame(sorted(zip(rf_model.feature_importances_, X.columns), reverse=True))\n",
    "importances_df.set_index(importances_df[1], inplace=True)\n",
    "importances_df.drop(columns=1, inplace=True)\n",
    "importances_df.rename(columns={0: 'Feature Importances'}, inplace=True)\n",
    "importances_sorted = importances_df.sort_values(by='Feature Importances')\n",
    "importances_sorted.plot(kind='barh', color='lightgreen', title= 'Features Importances', legend=False)"
   ]
  },
  {
   "cell_type": "code",
   "execution_count": null,
   "metadata": {},
   "outputs": [],
   "source": []
  },
  {
   "cell_type": "code",
   "execution_count": null,
   "metadata": {},
   "outputs": [],
   "source": []
  }
 ],
 "metadata": {
  "file_extension": ".py",
  "kernelspec": {
   "display_name": "Python 3 (ipykernel)",
   "language": "python",
   "name": "python3"
  },
  "language_info": {
   "codemirror_mode": {
    "name": "ipython",
    "version": 3
   },
   "file_extension": ".py",
   "mimetype": "text/x-python",
   "name": "python",
   "nbconvert_exporter": "python",
   "pygments_lexer": "ipython3",
   "version": "3.10.11"
  },
  "mimetype": "text/x-python",
  "name": "python",
  "npconvert_exporter": "python",
  "pygments_lexer": "ipython3",
  "version": 3
 },
 "nbformat": 4,
 "nbformat_minor": 4
}
