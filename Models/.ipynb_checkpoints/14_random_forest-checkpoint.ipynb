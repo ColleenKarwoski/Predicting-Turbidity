{
 "cells": [
  {
   "cell_type": "markdown",
   "metadata": {},
   "source": [
    "# Instructor Do: Random Forests"
   ]
  },
  {
   "cell_type": "code",
   "execution_count": 1,
   "metadata": {},
   "outputs": [],
   "source": [
    "# Initial imports\n",
    "import pandas as pd\n",
    "from pathlib import Path\n",
    "from sklearn.ensemble import RandomForestClassifier\n",
    "from sklearn.preprocessing import StandardScaler\n",
    "from sklearn.model_selection import train_test_split\n",
    "from sklearn.metrics import confusion_matrix, accuracy_score, classification_report\n",
    "%matplotlib inline\n"
   ]
  },
  {
   "cell_type": "markdown",
   "metadata": {},
   "source": [
    "## Loading and Preprocessing Loans Encoded Data"
   ]
  },
  {
   "cell_type": "code",
   "execution_count": 2,
   "metadata": {},
   "outputs": [
    {
     "data": {
      "text/html": [
       "<div>\n",
       "<style scoped>\n",
       "    .dataframe tbody tr th:only-of-type {\n",
       "        vertical-align: middle;\n",
       "    }\n",
       "\n",
       "    .dataframe tbody tr th {\n",
       "        vertical-align: top;\n",
       "    }\n",
       "\n",
       "    .dataframe thead th {\n",
       "        text-align: right;\n",
       "    }\n",
       "</style>\n",
       "<table border=\"1\" class=\"dataframe\">\n",
       "  <thead>\n",
       "    <tr style=\"text-align: right;\">\n",
       "      <th></th>\n",
       "      <th>Unnamed: 0</th>\n",
       "      <th>Date</th>\n",
       "      <th>LKSPOMET_ATemp</th>\n",
       "      <th>LKSBAWQ_ChlFluor</th>\n",
       "      <th>LKSBAWQ_Temp</th>\n",
       "      <th>LKSPOMET_WSpd</th>\n",
       "      <th>LKSBAWQ_Depth</th>\n",
       "      <th>LKSBAWQ_pH</th>\n",
       "      <th>LKSBAWQ_Turb</th>\n",
       "      <th>Turbidity_Range</th>\n",
       "      <th>Month</th>\n",
       "      <th>Day</th>\n",
       "      <th>Year</th>\n",
       "    </tr>\n",
       "  </thead>\n",
       "  <tbody>\n",
       "    <tr>\n",
       "      <th>0</th>\n",
       "      <td>0</td>\n",
       "      <td>06/01/2022</td>\n",
       "      <td>14.470833</td>\n",
       "      <td>9.479167</td>\n",
       "      <td>14.061458</td>\n",
       "      <td>1.895833</td>\n",
       "      <td>1.229271</td>\n",
       "      <td>7.500000</td>\n",
       "      <td>13.218750</td>\n",
       "      <td>&lt;/=20</td>\n",
       "      <td>6</td>\n",
       "      <td>1</td>\n",
       "      <td>2022</td>\n",
       "    </tr>\n",
       "    <tr>\n",
       "      <th>1</th>\n",
       "      <td>1</td>\n",
       "      <td>06/02/2022</td>\n",
       "      <td>15.936458</td>\n",
       "      <td>8.915625</td>\n",
       "      <td>14.568750</td>\n",
       "      <td>2.660417</td>\n",
       "      <td>1.188958</td>\n",
       "      <td>7.477083</td>\n",
       "      <td>11.458333</td>\n",
       "      <td>&lt;/=20</td>\n",
       "      <td>6</td>\n",
       "      <td>2</td>\n",
       "      <td>2022</td>\n",
       "    </tr>\n",
       "    <tr>\n",
       "      <th>2</th>\n",
       "      <td>2</td>\n",
       "      <td>06/03/2022</td>\n",
       "      <td>12.998958</td>\n",
       "      <td>8.331250</td>\n",
       "      <td>15.028125</td>\n",
       "      <td>3.745833</td>\n",
       "      <td>1.208750</td>\n",
       "      <td>7.522917</td>\n",
       "      <td>11.062500</td>\n",
       "      <td>&lt;/=20</td>\n",
       "      <td>6</td>\n",
       "      <td>3</td>\n",
       "      <td>2022</td>\n",
       "    </tr>\n",
       "    <tr>\n",
       "      <th>3</th>\n",
       "      <td>3</td>\n",
       "      <td>06/04/2022</td>\n",
       "      <td>16.417708</td>\n",
       "      <td>9.055208</td>\n",
       "      <td>15.969792</td>\n",
       "      <td>1.981250</td>\n",
       "      <td>1.231667</td>\n",
       "      <td>7.500000</td>\n",
       "      <td>10.197917</td>\n",
       "      <td>&lt;/=10</td>\n",
       "      <td>6</td>\n",
       "      <td>4</td>\n",
       "      <td>2022</td>\n",
       "    </tr>\n",
       "    <tr>\n",
       "      <th>4</th>\n",
       "      <td>4</td>\n",
       "      <td>06/05/2022</td>\n",
       "      <td>9.801042</td>\n",
       "      <td>9.984375</td>\n",
       "      <td>16.790625</td>\n",
       "      <td>1.476042</td>\n",
       "      <td>1.223125</td>\n",
       "      <td>7.493750</td>\n",
       "      <td>9.395833</td>\n",
       "      <td>&lt;/=10</td>\n",
       "      <td>6</td>\n",
       "      <td>5</td>\n",
       "      <td>2022</td>\n",
       "    </tr>\n",
       "  </tbody>\n",
       "</table>\n",
       "</div>"
      ],
      "text/plain": [
       "   Unnamed: 0        Date  LKSPOMET_ATemp  LKSBAWQ_ChlFluor  LKSBAWQ_Temp  \\\n",
       "0           0  06/01/2022       14.470833          9.479167     14.061458   \n",
       "1           1  06/02/2022       15.936458          8.915625     14.568750   \n",
       "2           2  06/03/2022       12.998958          8.331250     15.028125   \n",
       "3           3  06/04/2022       16.417708          9.055208     15.969792   \n",
       "4           4  06/05/2022        9.801042          9.984375     16.790625   \n",
       "\n",
       "   LKSPOMET_WSpd  LKSBAWQ_Depth  LKSBAWQ_pH  LKSBAWQ_Turb Turbidity_Range  \\\n",
       "0       1.895833       1.229271    7.500000     13.218750           </=20   \n",
       "1       2.660417       1.188958    7.477083     11.458333           </=20   \n",
       "2       3.745833       1.208750    7.522917     11.062500           </=20   \n",
       "3       1.981250       1.231667    7.500000     10.197917           </=10   \n",
       "4       1.476042       1.223125    7.493750      9.395833           </=10   \n",
       "\n",
       "   Month  Day  Year  \n",
       "0      6    1  2022  \n",
       "1      6    2  2022  \n",
       "2      6    3  2022  \n",
       "3      6    4  2022  \n",
       "4      6    5  2022  "
      ]
     },
     "execution_count": 2,
     "metadata": {},
     "output_type": "execute_result"
    }
   ],
   "source": [
    "# Loading data\n",
    "df_old = pd.read_csv(\"14_summer_turbidity.csv\")\n",
    "df_old.head()"
   ]
  },
  {
   "cell_type": "code",
   "execution_count": 3,
   "metadata": {},
   "outputs": [
    {
     "data": {
      "text/html": [
       "<div>\n",
       "<style scoped>\n",
       "    .dataframe tbody tr th:only-of-type {\n",
       "        vertical-align: middle;\n",
       "    }\n",
       "\n",
       "    .dataframe tbody tr th {\n",
       "        vertical-align: top;\n",
       "    }\n",
       "\n",
       "    .dataframe thead th {\n",
       "        text-align: right;\n",
       "    }\n",
       "</style>\n",
       "<table border=\"1\" class=\"dataframe\">\n",
       "  <thead>\n",
       "    <tr style=\"text-align: right;\">\n",
       "      <th></th>\n",
       "      <th>LKSPOMET_ATemp</th>\n",
       "      <th>LKSBAWQ_ChlFluor</th>\n",
       "      <th>LKSBAWQ_Temp</th>\n",
       "      <th>LKSPOMET_WSpd</th>\n",
       "      <th>LKSBAWQ_Depth</th>\n",
       "      <th>LKSBAWQ_pH</th>\n",
       "      <th>Turbidity_Range</th>\n",
       "    </tr>\n",
       "  </thead>\n",
       "  <tbody>\n",
       "    <tr>\n",
       "      <th>0</th>\n",
       "      <td>14.470833</td>\n",
       "      <td>9.479167</td>\n",
       "      <td>14.061458</td>\n",
       "      <td>1.895833</td>\n",
       "      <td>1.229271</td>\n",
       "      <td>7.500000</td>\n",
       "      <td>&lt;/=20</td>\n",
       "    </tr>\n",
       "    <tr>\n",
       "      <th>1</th>\n",
       "      <td>15.936458</td>\n",
       "      <td>8.915625</td>\n",
       "      <td>14.568750</td>\n",
       "      <td>2.660417</td>\n",
       "      <td>1.188958</td>\n",
       "      <td>7.477083</td>\n",
       "      <td>&lt;/=20</td>\n",
       "    </tr>\n",
       "    <tr>\n",
       "      <th>2</th>\n",
       "      <td>12.998958</td>\n",
       "      <td>8.331250</td>\n",
       "      <td>15.028125</td>\n",
       "      <td>3.745833</td>\n",
       "      <td>1.208750</td>\n",
       "      <td>7.522917</td>\n",
       "      <td>&lt;/=20</td>\n",
       "    </tr>\n",
       "    <tr>\n",
       "      <th>3</th>\n",
       "      <td>16.417708</td>\n",
       "      <td>9.055208</td>\n",
       "      <td>15.969792</td>\n",
       "      <td>1.981250</td>\n",
       "      <td>1.231667</td>\n",
       "      <td>7.500000</td>\n",
       "      <td>&lt;/=10</td>\n",
       "    </tr>\n",
       "    <tr>\n",
       "      <th>4</th>\n",
       "      <td>9.801042</td>\n",
       "      <td>9.984375</td>\n",
       "      <td>16.790625</td>\n",
       "      <td>1.476042</td>\n",
       "      <td>1.223125</td>\n",
       "      <td>7.493750</td>\n",
       "      <td>&lt;/=10</td>\n",
       "    </tr>\n",
       "    <tr>\n",
       "      <th>...</th>\n",
       "      <td>...</td>\n",
       "      <td>...</td>\n",
       "      <td>...</td>\n",
       "      <td>...</td>\n",
       "      <td>...</td>\n",
       "      <td>...</td>\n",
       "      <td>...</td>\n",
       "    </tr>\n",
       "    <tr>\n",
       "      <th>95</th>\n",
       "      <td>20.105319</td>\n",
       "      <td>11.703191</td>\n",
       "      <td>20.542553</td>\n",
       "      <td>1.888298</td>\n",
       "      <td>1.264362</td>\n",
       "      <td>7.651064</td>\n",
       "      <td>&lt;/=10</td>\n",
       "    </tr>\n",
       "    <tr>\n",
       "      <th>96</th>\n",
       "      <td>19.385417</td>\n",
       "      <td>16.098958</td>\n",
       "      <td>23.468750</td>\n",
       "      <td>0.998958</td>\n",
       "      <td>1.380208</td>\n",
       "      <td>8.315625</td>\n",
       "      <td>&lt;/=10</td>\n",
       "    </tr>\n",
       "    <tr>\n",
       "      <th>97</th>\n",
       "      <td>17.477083</td>\n",
       "      <td>9.151042</td>\n",
       "      <td>20.442708</td>\n",
       "      <td>2.838542</td>\n",
       "      <td>1.285313</td>\n",
       "      <td>7.660417</td>\n",
       "      <td>&lt;/=10</td>\n",
       "    </tr>\n",
       "    <tr>\n",
       "      <th>98</th>\n",
       "      <td>20.420833</td>\n",
       "      <td>17.806250</td>\n",
       "      <td>23.337500</td>\n",
       "      <td>1.109375</td>\n",
       "      <td>1.403229</td>\n",
       "      <td>8.241667</td>\n",
       "      <td>&lt;/=10</td>\n",
       "    </tr>\n",
       "    <tr>\n",
       "      <th>99</th>\n",
       "      <td>18.556250</td>\n",
       "      <td>10.325000</td>\n",
       "      <td>20.798958</td>\n",
       "      <td>1.627083</td>\n",
       "      <td>1.351979</td>\n",
       "      <td>7.704167</td>\n",
       "      <td>&lt;/=10</td>\n",
       "    </tr>\n",
       "  </tbody>\n",
       "</table>\n",
       "<p>100 rows × 7 columns</p>\n",
       "</div>"
      ],
      "text/plain": [
       "    LKSPOMET_ATemp  LKSBAWQ_ChlFluor  LKSBAWQ_Temp  LKSPOMET_WSpd  \\\n",
       "0        14.470833          9.479167     14.061458       1.895833   \n",
       "1        15.936458          8.915625     14.568750       2.660417   \n",
       "2        12.998958          8.331250     15.028125       3.745833   \n",
       "3        16.417708          9.055208     15.969792       1.981250   \n",
       "4         9.801042          9.984375     16.790625       1.476042   \n",
       "..             ...               ...           ...            ...   \n",
       "95       20.105319         11.703191     20.542553       1.888298   \n",
       "96       19.385417         16.098958     23.468750       0.998958   \n",
       "97       17.477083          9.151042     20.442708       2.838542   \n",
       "98       20.420833         17.806250     23.337500       1.109375   \n",
       "99       18.556250         10.325000     20.798958       1.627083   \n",
       "\n",
       "    LKSBAWQ_Depth  LKSBAWQ_pH Turbidity_Range  \n",
       "0        1.229271    7.500000           </=20  \n",
       "1        1.188958    7.477083           </=20  \n",
       "2        1.208750    7.522917           </=20  \n",
       "3        1.231667    7.500000           </=10  \n",
       "4        1.223125    7.493750           </=10  \n",
       "..            ...         ...             ...  \n",
       "95       1.264362    7.651064           </=10  \n",
       "96       1.380208    8.315625           </=10  \n",
       "97       1.285313    7.660417           </=10  \n",
       "98       1.403229    8.241667           </=10  \n",
       "99       1.351979    7.704167           </=10  \n",
       "\n",
       "[100 rows x 7 columns]"
      ]
     },
     "execution_count": 3,
     "metadata": {},
     "output_type": "execute_result"
    }
   ],
   "source": [
    " \n",
    "df = df_old[[       'LKSPOMET_ATemp', \n",
    "                    'LKSBAWQ_ChlFluor',\n",
    "                    'LKSBAWQ_Temp', \n",
    "                    'LKSPOMET_WSpd', \n",
    "                    'LKSBAWQ_Depth',\n",
    "                    'LKSBAWQ_pH',\n",
    "                     'Turbidity_Range',\n",
    "                   ]]\n",
    "df.head(100)"
   ]
  },
  {
   "cell_type": "code",
   "execution_count": 4,
   "metadata": {},
   "outputs": [
    {
     "data": {
      "text/html": [
       "<div>\n",
       "<style scoped>\n",
       "    .dataframe tbody tr th:only-of-type {\n",
       "        vertical-align: middle;\n",
       "    }\n",
       "\n",
       "    .dataframe tbody tr th {\n",
       "        vertical-align: top;\n",
       "    }\n",
       "\n",
       "    .dataframe thead th {\n",
       "        text-align: right;\n",
       "    }\n",
       "</style>\n",
       "<table border=\"1\" class=\"dataframe\">\n",
       "  <thead>\n",
       "    <tr style=\"text-align: right;\">\n",
       "      <th></th>\n",
       "      <th>LKSPOMET_ATemp</th>\n",
       "      <th>LKSBAWQ_ChlFluor</th>\n",
       "      <th>LKSBAWQ_Temp</th>\n",
       "      <th>LKSPOMET_WSpd</th>\n",
       "      <th>LKSBAWQ_Depth</th>\n",
       "      <th>LKSBAWQ_pH</th>\n",
       "    </tr>\n",
       "  </thead>\n",
       "  <tbody>\n",
       "    <tr>\n",
       "      <th>0</th>\n",
       "      <td>14.470833</td>\n",
       "      <td>9.479167</td>\n",
       "      <td>14.061458</td>\n",
       "      <td>1.895833</td>\n",
       "      <td>1.229271</td>\n",
       "      <td>7.500000</td>\n",
       "    </tr>\n",
       "    <tr>\n",
       "      <th>1</th>\n",
       "      <td>15.936458</td>\n",
       "      <td>8.915625</td>\n",
       "      <td>14.568750</td>\n",
       "      <td>2.660417</td>\n",
       "      <td>1.188958</td>\n",
       "      <td>7.477083</td>\n",
       "    </tr>\n",
       "    <tr>\n",
       "      <th>2</th>\n",
       "      <td>12.998958</td>\n",
       "      <td>8.331250</td>\n",
       "      <td>15.028125</td>\n",
       "      <td>3.745833</td>\n",
       "      <td>1.208750</td>\n",
       "      <td>7.522917</td>\n",
       "    </tr>\n",
       "    <tr>\n",
       "      <th>3</th>\n",
       "      <td>16.417708</td>\n",
       "      <td>9.055208</td>\n",
       "      <td>15.969792</td>\n",
       "      <td>1.981250</td>\n",
       "      <td>1.231667</td>\n",
       "      <td>7.500000</td>\n",
       "    </tr>\n",
       "    <tr>\n",
       "      <th>4</th>\n",
       "      <td>9.801042</td>\n",
       "      <td>9.984375</td>\n",
       "      <td>16.790625</td>\n",
       "      <td>1.476042</td>\n",
       "      <td>1.223125</td>\n",
       "      <td>7.493750</td>\n",
       "    </tr>\n",
       "  </tbody>\n",
       "</table>\n",
       "</div>"
      ],
      "text/plain": [
       "   LKSPOMET_ATemp  LKSBAWQ_ChlFluor  LKSBAWQ_Temp  LKSPOMET_WSpd  \\\n",
       "0       14.470833          9.479167     14.061458       1.895833   \n",
       "1       15.936458          8.915625     14.568750       2.660417   \n",
       "2       12.998958          8.331250     15.028125       3.745833   \n",
       "3       16.417708          9.055208     15.969792       1.981250   \n",
       "4        9.801042          9.984375     16.790625       1.476042   \n",
       "\n",
       "   LKSBAWQ_Depth  LKSBAWQ_pH  \n",
       "0       1.229271    7.500000  \n",
       "1       1.188958    7.477083  \n",
       "2       1.208750    7.522917  \n",
       "3       1.231667    7.500000  \n",
       "4       1.223125    7.493750  "
      ]
     },
     "execution_count": 4,
     "metadata": {},
     "output_type": "execute_result"
    }
   ],
   "source": [
    "# Define features set\n",
    "X = df.copy()\n",
    "X.drop(\"Turbidity_Range\", axis=1, inplace=True)\n",
    "X.head()"
   ]
  },
  {
   "cell_type": "code",
   "execution_count": 5,
   "metadata": {},
   "outputs": [
    {
     "data": {
      "text/plain": [
       "array(['</=20', '</=20', '</=20', '</=10', '</=10', '</=10', '</=10',\n",
       "       '</=20', '</=20', '</=20', '</=20', '</=20', '</=20', '</=20',\n",
       "       '</=20', '</=20', '</=20', '</=20', '</=20', '</=20', '</=10',\n",
       "       '</=20', '</=10', '</=20', '</=10', '</=20', '</=10', '</=20',\n",
       "       '</=10', '</=20', '</=20', '</=20', '</=10', '</=20', '</=10',\n",
       "       '</=20', '</=20', '</=20', '</=20', '</=20', '</=20', '</=20',\n",
       "       '</=20', '</=20', '</=10', '</=20', '</=10', '</=20', '</=10',\n",
       "       '</=20'], dtype=object)"
      ]
     },
     "execution_count": 5,
     "metadata": {},
     "output_type": "execute_result"
    }
   ],
   "source": [
    "# Define target vector\n",
    "y = df[\"Turbidity_Range\"].ravel()\n",
    "y[:50]"
   ]
  },
  {
   "cell_type": "code",
   "execution_count": 6,
   "metadata": {},
   "outputs": [],
   "source": [
    "# Splitting into Train and Test sets\n",
    "X_train, X_test, y_train, y_test = train_test_split(X, y, random_state=78)"
   ]
  },
  {
   "cell_type": "code",
   "execution_count": 7,
   "metadata": {},
   "outputs": [],
   "source": [
    "# Creating StandardScaler instance\n",
    "scaler = StandardScaler()"
   ]
  },
  {
   "cell_type": "code",
   "execution_count": 8,
   "metadata": {},
   "outputs": [],
   "source": [
    "# Fitting Standard Scaller\n",
    "X_scaler = scaler.fit(X_train)"
   ]
  },
  {
   "cell_type": "code",
   "execution_count": 9,
   "metadata": {},
   "outputs": [],
   "source": [
    "# Scaling data\n",
    "X_train_scaled = X_scaler.transform(X_train)\n",
    "X_test_scaled = X_scaler.transform(X_test)"
   ]
  },
  {
   "cell_type": "markdown",
   "metadata": {},
   "source": [
    "## Fitting the Random Forest Model"
   ]
  },
  {
   "cell_type": "code",
   "execution_count": 10,
   "metadata": {},
   "outputs": [],
   "source": [
    "# Create a random forest classifier\n",
    "rf_model = RandomForestClassifier(n_estimators=500, random_state=78)"
   ]
  },
  {
   "cell_type": "code",
   "execution_count": 11,
   "metadata": {},
   "outputs": [],
   "source": [
    "# Fitting the model\n",
    "rf_model = rf_model.fit(X_train_scaled, y_train)"
   ]
  },
  {
   "cell_type": "markdown",
   "metadata": {},
   "source": [
    "## Making Predictions Using the Random Forest Model"
   ]
  },
  {
   "cell_type": "code",
   "execution_count": 12,
   "metadata": {},
   "outputs": [],
   "source": [
    "# Making predictions using the testing data\n",
    "predictions = rf_model.predict(X_test_scaled)"
   ]
  },
  {
   "cell_type": "markdown",
   "metadata": {},
   "source": [
    "## Model Evaluation"
   ]
  },
  {
   "cell_type": "code",
   "execution_count": 13,
   "metadata": {},
   "outputs": [
    {
     "ename": "ValueError",
     "evalue": "Shape of passed values is (2, 2), indices imply (4, 4)",
     "output_type": "error",
     "traceback": [
      "\u001b[1;31m---------------------------------------------------------------------------\u001b[0m",
      "\u001b[1;31mValueError\u001b[0m                                Traceback (most recent call last)",
      "Cell \u001b[1;32mIn[13], line 3\u001b[0m\n\u001b[0;32m      1\u001b[0m \u001b[38;5;66;03m# Calculating the confusion matrix\u001b[39;00m\n\u001b[0;32m      2\u001b[0m cm \u001b[38;5;241m=\u001b[39m confusion_matrix(y_test, predictions)\n\u001b[1;32m----> 3\u001b[0m cm_df \u001b[38;5;241m=\u001b[39m \u001b[43mpd\u001b[49m\u001b[38;5;241;43m.\u001b[39;49m\u001b[43mDataFrame\u001b[49m\u001b[43m(\u001b[49m\n\u001b[0;32m      4\u001b[0m \u001b[43m    \u001b[49m\u001b[43mcm\u001b[49m\u001b[43m,\u001b[49m\u001b[43m \u001b[49m\u001b[43mindex\u001b[49m\u001b[38;5;241;43m=\u001b[39;49m\u001b[43m[\u001b[49m\u001b[38;5;124;43m\"\u001b[39;49m\u001b[38;5;124;43mActual </=10\u001b[39;49m\u001b[38;5;124;43m\"\u001b[39;49m\u001b[43m,\u001b[49m\u001b[43m \u001b[49m\u001b[38;5;124;43m\"\u001b[39;49m\u001b[38;5;124;43mActual </=20\u001b[39;49m\u001b[38;5;124;43m\"\u001b[39;49m\u001b[43m,\u001b[49m\u001b[43m \u001b[49m\u001b[38;5;124;43m\"\u001b[39;49m\u001b[38;5;124;43m Actual </=30\u001b[39;49m\u001b[38;5;124;43m\"\u001b[39;49m\u001b[43m,\u001b[49m\u001b[43m \u001b[49m\u001b[38;5;124;43m\"\u001b[39;49m\u001b[38;5;124;43mActual </=40\u001b[39;49m\u001b[38;5;124;43m\"\u001b[39;49m\u001b[43m]\u001b[49m\u001b[43m,\u001b[49m\u001b[43m \u001b[49m\n\u001b[0;32m      5\u001b[0m \u001b[43m        \u001b[49m\u001b[43mcolumns\u001b[49m\u001b[38;5;241;43m=\u001b[39;49m\u001b[43m[\u001b[49m\u001b[38;5;124;43m\"\u001b[39;49m\u001b[38;5;124;43mPredicted </=10\u001b[39;49m\u001b[38;5;124;43m\"\u001b[39;49m\u001b[43m,\u001b[49m\u001b[43m \u001b[49m\u001b[38;5;124;43m\"\u001b[39;49m\u001b[38;5;124;43mPredicted </=20\u001b[39;49m\u001b[38;5;124;43m\"\u001b[39;49m\u001b[43m,\u001b[49m\u001b[43m \u001b[49m\u001b[38;5;124;43m\"\u001b[39;49m\u001b[38;5;124;43mPredicted </=30\u001b[39;49m\u001b[38;5;124;43m\"\u001b[39;49m\u001b[43m,\u001b[49m\u001b[43m \u001b[49m\u001b[38;5;124;43m\"\u001b[39;49m\u001b[38;5;124;43mPredicted </=40\u001b[39;49m\u001b[38;5;124;43m\"\u001b[39;49m\u001b[43m]\u001b[49m\u001b[43m)\u001b[49m\n\u001b[0;32m      6\u001b[0m \u001b[38;5;66;03m# Calculating the accuracy score\u001b[39;00m\n\u001b[0;32m      7\u001b[0m acc_score \u001b[38;5;241m=\u001b[39m accuracy_score(y_test, predictions)\n",
      "File \u001b[1;32m~\\anaconda3\\envs\\dev\\lib\\site-packages\\pandas\\core\\frame.py:722\u001b[0m, in \u001b[0;36mDataFrame.__init__\u001b[1;34m(self, data, index, columns, dtype, copy)\u001b[0m\n\u001b[0;32m    712\u001b[0m         mgr \u001b[38;5;241m=\u001b[39m dict_to_mgr(\n\u001b[0;32m    713\u001b[0m             \u001b[38;5;66;03m# error: Item \"ndarray\" of \"Union[ndarray, Series, Index]\" has no\u001b[39;00m\n\u001b[0;32m    714\u001b[0m             \u001b[38;5;66;03m# attribute \"name\"\u001b[39;00m\n\u001b[1;32m   (...)\u001b[0m\n\u001b[0;32m    719\u001b[0m             typ\u001b[38;5;241m=\u001b[39mmanager,\n\u001b[0;32m    720\u001b[0m         )\n\u001b[0;32m    721\u001b[0m     \u001b[38;5;28;01melse\u001b[39;00m:\n\u001b[1;32m--> 722\u001b[0m         mgr \u001b[38;5;241m=\u001b[39m \u001b[43mndarray_to_mgr\u001b[49m\u001b[43m(\u001b[49m\n\u001b[0;32m    723\u001b[0m \u001b[43m            \u001b[49m\u001b[43mdata\u001b[49m\u001b[43m,\u001b[49m\n\u001b[0;32m    724\u001b[0m \u001b[43m            \u001b[49m\u001b[43mindex\u001b[49m\u001b[43m,\u001b[49m\n\u001b[0;32m    725\u001b[0m \u001b[43m            \u001b[49m\u001b[43mcolumns\u001b[49m\u001b[43m,\u001b[49m\n\u001b[0;32m    726\u001b[0m \u001b[43m            \u001b[49m\u001b[43mdtype\u001b[49m\u001b[38;5;241;43m=\u001b[39;49m\u001b[43mdtype\u001b[49m\u001b[43m,\u001b[49m\n\u001b[0;32m    727\u001b[0m \u001b[43m            \u001b[49m\u001b[43mcopy\u001b[49m\u001b[38;5;241;43m=\u001b[39;49m\u001b[43mcopy\u001b[49m\u001b[43m,\u001b[49m\n\u001b[0;32m    728\u001b[0m \u001b[43m            \u001b[49m\u001b[43mtyp\u001b[49m\u001b[38;5;241;43m=\u001b[39;49m\u001b[43mmanager\u001b[49m\u001b[43m,\u001b[49m\n\u001b[0;32m    729\u001b[0m \u001b[43m        \u001b[49m\u001b[43m)\u001b[49m\n\u001b[0;32m    731\u001b[0m \u001b[38;5;66;03m# For data is list-like, or Iterable (will consume into list)\u001b[39;00m\n\u001b[0;32m    732\u001b[0m \u001b[38;5;28;01melif\u001b[39;00m is_list_like(data):\n",
      "File \u001b[1;32m~\\anaconda3\\envs\\dev\\lib\\site-packages\\pandas\\core\\internals\\construction.py:349\u001b[0m, in \u001b[0;36mndarray_to_mgr\u001b[1;34m(values, index, columns, dtype, copy, typ)\u001b[0m\n\u001b[0;32m    344\u001b[0m \u001b[38;5;66;03m# _prep_ndarraylike ensures that values.ndim == 2 at this point\u001b[39;00m\n\u001b[0;32m    345\u001b[0m index, columns \u001b[38;5;241m=\u001b[39m _get_axes(\n\u001b[0;32m    346\u001b[0m     values\u001b[38;5;241m.\u001b[39mshape[\u001b[38;5;241m0\u001b[39m], values\u001b[38;5;241m.\u001b[39mshape[\u001b[38;5;241m1\u001b[39m], index\u001b[38;5;241m=\u001b[39mindex, columns\u001b[38;5;241m=\u001b[39mcolumns\n\u001b[0;32m    347\u001b[0m )\n\u001b[1;32m--> 349\u001b[0m \u001b[43m_check_values_indices_shape_match\u001b[49m\u001b[43m(\u001b[49m\u001b[43mvalues\u001b[49m\u001b[43m,\u001b[49m\u001b[43m \u001b[49m\u001b[43mindex\u001b[49m\u001b[43m,\u001b[49m\u001b[43m \u001b[49m\u001b[43mcolumns\u001b[49m\u001b[43m)\u001b[49m\n\u001b[0;32m    351\u001b[0m \u001b[38;5;28;01mif\u001b[39;00m typ \u001b[38;5;241m==\u001b[39m \u001b[38;5;124m\"\u001b[39m\u001b[38;5;124marray\u001b[39m\u001b[38;5;124m\"\u001b[39m:\n\u001b[0;32m    353\u001b[0m     \u001b[38;5;28;01mif\u001b[39;00m \u001b[38;5;28missubclass\u001b[39m(values\u001b[38;5;241m.\u001b[39mdtype\u001b[38;5;241m.\u001b[39mtype, \u001b[38;5;28mstr\u001b[39m):\n",
      "File \u001b[1;32m~\\anaconda3\\envs\\dev\\lib\\site-packages\\pandas\\core\\internals\\construction.py:420\u001b[0m, in \u001b[0;36m_check_values_indices_shape_match\u001b[1;34m(values, index, columns)\u001b[0m\n\u001b[0;32m    418\u001b[0m passed \u001b[38;5;241m=\u001b[39m values\u001b[38;5;241m.\u001b[39mshape\n\u001b[0;32m    419\u001b[0m implied \u001b[38;5;241m=\u001b[39m (\u001b[38;5;28mlen\u001b[39m(index), \u001b[38;5;28mlen\u001b[39m(columns))\n\u001b[1;32m--> 420\u001b[0m \u001b[38;5;28;01mraise\u001b[39;00m \u001b[38;5;167;01mValueError\u001b[39;00m(\u001b[38;5;124mf\u001b[39m\u001b[38;5;124m\"\u001b[39m\u001b[38;5;124mShape of passed values is \u001b[39m\u001b[38;5;132;01m{\u001b[39;00mpassed\u001b[38;5;132;01m}\u001b[39;00m\u001b[38;5;124m, indices imply \u001b[39m\u001b[38;5;132;01m{\u001b[39;00mimplied\u001b[38;5;132;01m}\u001b[39;00m\u001b[38;5;124m\"\u001b[39m)\n",
      "\u001b[1;31mValueError\u001b[0m: Shape of passed values is (2, 2), indices imply (4, 4)"
     ]
    }
   ],
   "source": [
    "# Calculating the confusion matrix\n",
    "cm = confusion_matrix(y_test, predictions)\n",
    "cm_df = pd.DataFrame(\n",
    "    cm, index=[\"Actual </=10\", \"Actual </=20\", \" Actual </=30\", \"Actual </=40\"], \n",
    "        columns=[\"Predicted </=10\", \"Predicted </=20\", \"Predicted </=30\", \"Predicted </=40\"])\n",
    "# Calculating the accuracy score\n",
    "acc_score = accuracy_score(y_test, predictions)"
   ]
  },
  {
   "cell_type": "code",
   "execution_count": 18,
   "metadata": {},
   "outputs": [
    {
     "name": "stdout",
     "output_type": "stream",
     "text": [
      "Confusion Matrix\n"
     ]
    },
    {
     "data": {
      "text/html": [
       "<div>\n",
       "<style scoped>\n",
       "    .dataframe tbody tr th:only-of-type {\n",
       "        vertical-align: middle;\n",
       "    }\n",
       "\n",
       "    .dataframe tbody tr th {\n",
       "        vertical-align: top;\n",
       "    }\n",
       "\n",
       "    .dataframe thead th {\n",
       "        text-align: right;\n",
       "    }\n",
       "</style>\n",
       "<table border=\"1\" class=\"dataframe\">\n",
       "  <thead>\n",
       "    <tr style=\"text-align: right;\">\n",
       "      <th></th>\n",
       "      <th>Predicted &lt;/=10</th>\n",
       "      <th>Predicted &lt;/=20</th>\n",
       "      <th>Predicted &lt;/=30</th>\n",
       "      <th>Predicted &lt;/=40</th>\n",
       "    </tr>\n",
       "  </thead>\n",
       "  <tbody>\n",
       "    <tr>\n",
       "      <th>Actual &lt;/=10</th>\n",
       "      <td>47</td>\n",
       "      <td>7</td>\n",
       "      <td>0</td>\n",
       "      <td>0</td>\n",
       "    </tr>\n",
       "    <tr>\n",
       "      <th>Actual &lt;/=20</th>\n",
       "      <td>10</td>\n",
       "      <td>21</td>\n",
       "      <td>0</td>\n",
       "      <td>0</td>\n",
       "    </tr>\n",
       "    <tr>\n",
       "      <th>Actual &lt;/=30</th>\n",
       "      <td>1</td>\n",
       "      <td>4</td>\n",
       "      <td>0</td>\n",
       "      <td>0</td>\n",
       "    </tr>\n",
       "    <tr>\n",
       "      <th>Actual &lt;/=40</th>\n",
       "      <td>0</td>\n",
       "      <td>1</td>\n",
       "      <td>0</td>\n",
       "      <td>0</td>\n",
       "    </tr>\n",
       "  </tbody>\n",
       "</table>\n",
       "</div>"
      ],
      "text/plain": [
       "               Predicted </=10  Predicted </=20  Predicted </=30  \\\n",
       "Actual </=10                47                7                0   \n",
       "Actual </=20                10               21                0   \n",
       " Actual </=30                1                4                0   \n",
       "Actual </=40                 0                1                0   \n",
       "\n",
       "               Predicted </=40  \n",
       "Actual </=10                 0  \n",
       "Actual </=20                 0  \n",
       " Actual </=30                0  \n",
       "Actual </=40                 0  "
      ]
     },
     "metadata": {},
     "output_type": "display_data"
    },
    {
     "name": "stdout",
     "output_type": "stream",
     "text": [
      "Accuracy Score : 0.7472527472527473\n",
      "Classification Report\n",
      "              precision    recall  f1-score   support\n",
      "\n",
      "       </=10       0.81      0.87      0.84        54\n",
      "       </=20       0.64      0.68      0.66        31\n",
      "       </=30       0.00      0.00      0.00         5\n",
      "       </=40       0.00      0.00      0.00         1\n",
      "\n",
      "    accuracy                           0.75        91\n",
      "   macro avg       0.36      0.39      0.37        91\n",
      "weighted avg       0.70      0.75      0.72        91\n",
      "\n"
     ]
    },
    {
     "name": "stderr",
     "output_type": "stream",
     "text": [
      "C:\\Users\\katel\\anaconda3\\envs\\dev\\lib\\site-packages\\sklearn\\metrics\\_classification.py:1344: UndefinedMetricWarning: Precision and F-score are ill-defined and being set to 0.0 in labels with no predicted samples. Use `zero_division` parameter to control this behavior.\n",
      "  _warn_prf(average, modifier, msg_start, len(result))\n",
      "C:\\Users\\katel\\anaconda3\\envs\\dev\\lib\\site-packages\\sklearn\\metrics\\_classification.py:1344: UndefinedMetricWarning: Precision and F-score are ill-defined and being set to 0.0 in labels with no predicted samples. Use `zero_division` parameter to control this behavior.\n",
      "  _warn_prf(average, modifier, msg_start, len(result))\n",
      "C:\\Users\\katel\\anaconda3\\envs\\dev\\lib\\site-packages\\sklearn\\metrics\\_classification.py:1344: UndefinedMetricWarning: Precision and F-score are ill-defined and being set to 0.0 in labels with no predicted samples. Use `zero_division` parameter to control this behavior.\n",
      "  _warn_prf(average, modifier, msg_start, len(result))\n"
     ]
    }
   ],
   "source": [
    "# Displaying results\n",
    "print(\"Confusion Matrix\")\n",
    "display(cm_df)\n",
    "print(f\"Accuracy Score : {acc_score}\")\n",
    "print(\"Classification Report\")\n",
    "print(classification_report(y_test, predictions))"
   ]
  },
  {
   "cell_type": "markdown",
   "metadata": {},
   "source": [
    "## Feature Importance"
   ]
  },
  {
   "cell_type": "code",
   "execution_count": 19,
   "metadata": {},
   "outputs": [
    {
     "data": {
      "text/plain": [
       "[(0.2488199274246963, 'LKSBAWQ_pH'),\n",
       " (0.2025256235117527, 'LKSBAWQ_Depth'),\n",
       " (0.13519484837630105, 'LKSBAWQ_Temp'),\n",
       " (0.12944551083144726, 'LKSPOMET_WSpd'),\n",
       " (0.12033588833144604, 'LKSPOMET_ATemp'),\n",
       " (0.10410765593908826, 'Month'),\n",
       " (0.0595705455852684, 'LKSPOMET_TotPrcp')]"
      ]
     },
     "execution_count": 19,
     "metadata": {},
     "output_type": "execute_result"
    }
   ],
   "source": [
    "# Random Forests in sklearn will automatically calculate feature importance\n",
    "importances = rf_model.feature_importances_\n",
    "# We can sort the features by their importance\n",
    "sorted(zip(rf_model.feature_importances_, X.columns), reverse=True)"
   ]
  },
  {
   "cell_type": "code",
   "execution_count": 20,
   "metadata": {},
   "outputs": [
    {
     "data": {
      "text/plain": [
       "<Axes: title={'center': 'Features Importances'}, ylabel='1'>"
      ]
     },
     "execution_count": 20,
     "metadata": {},
     "output_type": "execute_result"
    },
    {
     "data": {
      "image/png": "[encoded data removed]",
      "text/plain": [
       "<Figure size 640x480 with 1 Axes>"
      ]
     },
     "metadata": {},
     "output_type": "display_data"
    }
   ],
   "source": [
    "# Visualize the features by importance\n",
    "importances_df = pd.DataFrame(sorted(zip(rf_model.feature_importances_, X.columns), reverse=True))\n",
    "importances_df.set_index(importances_df[1], inplace=True)\n",
    "importances_df.drop(columns=1, inplace=True)\n",
    "importances_df.rename(columns={0: 'Feature Importances'}, inplace=True)\n",
    "importances_sorted = importances_df.sort_values(by='Feature Importances')\n",
    "importances_sorted.plot(kind='barh', color='lightgreen', title= 'Features Importances', legend=False)"
   ]
  },
  {
   "cell_type": "code",
   "execution_count": null,
   "metadata": {},
   "outputs": [],
   "source": []
  },
  {
   "cell_type": "code",
   "execution_count": null,
   "metadata": {},
   "outputs": [],
   "source": []
  }
 ],
 "metadata": {
  "file_extension": ".py",
  "kernelspec": {
   "display_name": "Python 3 (ipykernel)",
   "language": "python",
   "name": "python3"
  },
  "language_info": {
   "codemirror_mode": {
    "name": "ipython",
    "version": 3
   },
   "file_extension": ".py",
   "mimetype": "text/x-python",
   "name": "python",
   "nbconvert_exporter": "python",
   "pygments_lexer": "ipython3",
   "version": "3.10.11"
  },
  "mimetype": "text/x-python",
  "name": "python",
  "npconvert_exporter": "python",
  "pygments_lexer": "ipython3",
  "version": 3
 },
 "nbformat": 4,
 "nbformat_minor": 4
}
