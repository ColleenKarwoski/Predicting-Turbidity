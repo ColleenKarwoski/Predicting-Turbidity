{
 "cells": [
  {
   "cell_type": "code",
   "execution_count": 1,
   "metadata": {},
   "outputs": [],
   "source": [
    "import pandas as pd"
   ]
  },
  {
   "cell_type": "code",
   "execution_count": 2,
   "metadata": {},
   "outputs": [
    {
     "name": "stderr",
     "output_type": "stream",
     "text": [
      "C:\\Users\\katel\\AppData\\Local\\Temp\\ipykernel_34104\\462669636.py:5: FutureWarning: The error_bad_lines argument has been deprecated and will be removed in a future version. Use on_bad_lines in the future.\n",
      "\n",
      "\n",
      "  merged_df = pd.read_csv(merged_data, error_bad_lines=False)\n",
      "Skipping line 8643: expected 65 fields, saw 66\n",
      "\n",
      "Skipping line 17382: expected 65 fields, saw 66\n",
      "\n",
      "Skipping line 26216: expected 65 fields, saw 66\n",
      "\n",
      "Skipping line 35049: expected 65 fields, saw 66\n",
      "\n",
      "Skipping line 43689: expected 65 fields, saw 66\n",
      "\n",
      "Skipping line 52429: expected 65 fields, saw 66\n",
      "\n",
      "Skipping line 61264: expected 65 fields, saw 66\n",
      "\n",
      "Skipping line 70096: expected 65 fields, saw 66\n",
      "\n",
      "Skipping line 78832: expected 65 fields, saw 66\n",
      "\n",
      "Skipping line 87568: expected 65 fields, saw 66\n",
      "\n",
      "Skipping line 96404: expected 65 fields, saw 66\n",
      "\n",
      "Skipping line 105236: expected 65 fields, saw 66\n",
      "\n",
      "Skipping line 113876: expected 65 fields, saw 66\n",
      "\n",
      "Skipping line 122615: expected 65 fields, saw 66\n",
      "\n",
      "Skipping line 131451: expected 65 fields, saw 66\n",
      "\n",
      "Skipping line 140286: expected 65 fields, saw 66\n",
      "\n",
      "Skipping line 148926: expected 65 fields, saw 66\n",
      "\n",
      "Skipping line 157663: expected 65 fields, saw 66\n",
      "\n",
      "Skipping line 166498: expected 65 fields, saw 66\n",
      "\n",
      "C:\\Users\\katel\\AppData\\Local\\Temp\\ipykernel_34104\\462669636.py:5: DtypeWarning: Columns (3,17,24,25,27,29,31,33,35,37,39,41,43,45,47,51,53,55,57,59,61,63) have mixed types. Specify dtype option on import or set low_memory=False.\n",
      "  merged_df = pd.read_csv(merged_data, error_bad_lines=False)\n"
     ]
    },
    {
     "data": {
      "text/plain": [
       "175310"
      ]
     },
     "execution_count": 2,
     "metadata": {},
     "output_type": "execute_result"
    }
   ],
   "source": [
    "# The path to our CSV file\n",
    "merged_data = \"Bakers_Island_Data/221315.csv\"\n",
    "\n",
    "# Read our Crowdfunding data into pandas\n",
    "merged_df = pd.read_csv(merged_data, error_bad_lines=False)\n",
    "merged_df.head()\n",
    "len(merged_df)"
   ]
  },
  {
   "cell_type": "code",
   "execution_count": 3,
   "metadata": {},
   "outputs": [
    {
     "data": {
      "text/plain": [
       "Index(['DateTimeStamp', 'LKSPOMET_Station_Code', 'LKSPOMET_isSWMP',\n",
       "       'LKSPOMET_F_Record', 'LKSPOMET_ATemp', 'LKSPOMET_F_ATemp',\n",
       "       'LKSPOMET_RH', 'LKSPOMET_F_RH', 'LKSPOMET_BP', 'LKSPOMET_F_BP',\n",
       "       'LKSPOMET_WSpd', 'LKSPOMET_F_WSpd', 'LKSPOMET_MaxWSpd', 'LKSPOMET_Wdir',\n",
       "       'LKSPOMET_F_Wdir', 'LKSPOMET_SDWDir', 'LKSPOMET_F_SDWDir',\n",
       "       'LKSPOMET_TotPAR', 'LKSPOMET_F_TotPAR', 'LKSPOMET_TotPrcp',\n",
       "       'LKSPOMET_F_TotPrcp', 'LKSPOMET_TotSoRad', 'LKSPOMET_F_TotSoRad',\n",
       "       'LKSBAWQ_Station_Code', 'LKSBAWQ_isSWMP', 'LKSBAWQ_F_Record',\n",
       "       'LKSBAWQ_Temp', 'LKSBAWQ_F_Temp', 'LKSBAWQ_SpCond', 'LKSBAWQ_F_SpCond',\n",
       "       'LKSBAWQ_Sal', 'LKSBAWQ_F_Sal', 'LKSBAWQ_DO_pct', 'LKSBAWQ_F_DO_pct',\n",
       "       'LKSBAWQ_DO_mgl', 'LKSBAWQ_F_DO_mgl', 'LKSBAWQ_Depth',\n",
       "       'LKSBAWQ_F_Depth', 'LKSBAWQ_cDepth', 'LKSBAWQ_F_cDepth', 'LKSBAWQ_pH',\n",
       "       'LKSBAWQ_F_pH', 'LKSBAWQ_Turb', 'LKSBAWQ_F_Turb', 'LKSBAWQ_ChlFluor',\n",
       "       'LKSBAWQ_F_ChlFluor', 'LKSBANUT_Station_Code', 'LKSBANUT_isSWMP',\n",
       "       'LKSBANUT_DateTimeStamp', 'LKSBANUT_CollMethd', 'LKSBANUT_REP',\n",
       "       'LKSBANUT_F_Record', 'LKSBANUT_PO4F', 'LKSBANUT_F_PO4F',\n",
       "       'LKSBANUT_NH4F', 'LKSBANUT_F_NH4F', 'LKSBANUT_NO2F', 'LKSBANUT_F_NO2F',\n",
       "       'LKSBANUT_NO3F', 'LKSBANUT_F_NO3F', 'LKSBANUT_NO23F',\n",
       "       'LKSBANUT_F_NO23F', 'LKSBANUT_CHLA_N', 'LKSBANUT_F_CHLA_N',\n",
       "       'Unnamed: 64'],\n",
       "      dtype='object')"
      ]
     },
     "execution_count": 3,
     "metadata": {},
     "output_type": "execute_result"
    }
   ],
   "source": [
    "# Get a list of all of our columns for easy reference\n",
    "merged_df.columns"
   ]
  },
  {
   "cell_type": "code",
   "execution_count": 4,
   "metadata": {},
   "outputs": [
    {
     "data": {
      "text/html": [
       "<div>\n",
       "<style scoped>\n",
       "    .dataframe tbody tr th:only-of-type {\n",
       "        vertical-align: middle;\n",
       "    }\n",
       "\n",
       "    .dataframe tbody tr th {\n",
       "        vertical-align: top;\n",
       "    }\n",
       "\n",
       "    .dataframe thead th {\n",
       "        text-align: right;\n",
       "    }\n",
       "</style>\n",
       "<table border=\"1\" class=\"dataframe\">\n",
       "  <thead>\n",
       "    <tr style=\"text-align: right;\">\n",
       "      <th></th>\n",
       "      <th>LKSPOMET_ATemp</th>\n",
       "      <th>LKSPOMET_F_ATemp</th>\n",
       "      <th>LKSBAWQ_Temp</th>\n",
       "      <th>LKSBAWQ_F_Temp</th>\n",
       "      <th>LKSBAWQ_Sal</th>\n",
       "      <th>LKSBAWQ_F_Sal</th>\n",
       "      <th>LKSBAWQ_Depth</th>\n",
       "      <th>LKSBAWQ_F_Depth</th>\n",
       "      <th>LKSBAWQ_pH</th>\n",
       "      <th>LKSBAWQ_F_pH</th>\n",
       "      <th>LKSPOMET_TotPrcp</th>\n",
       "      <th>LKSPOMET_F_TotPrcp</th>\n",
       "      <th>LKSBAWQ_Turb</th>\n",
       "      <th>LKSBAWQ_F_Turb</th>\n",
       "    </tr>\n",
       "  </thead>\n",
       "  <tbody>\n",
       "    <tr>\n",
       "      <th>0</th>\n",
       "      <td>-24.5</td>\n",
       "      <td>&lt;0&gt;</td>\n",
       "      <td>NaN</td>\n",
       "      <td>&lt;-2&gt; [GIC]</td>\n",
       "      <td>NaN</td>\n",
       "      <td>&lt;-2&gt; [GIC]</td>\n",
       "      <td>NaN</td>\n",
       "      <td>&lt;-2&gt; [GIC]</td>\n",
       "      <td>NaN</td>\n",
       "      <td>&lt;-2&gt; [GIC]</td>\n",
       "      <td>0.0</td>\n",
       "      <td>&lt;-3&gt; (CSM)</td>\n",
       "      <td>NaN</td>\n",
       "      <td>&lt;-2&gt; [GIC]</td>\n",
       "    </tr>\n",
       "    <tr>\n",
       "      <th>1</th>\n",
       "      <td>-24.7</td>\n",
       "      <td>&lt;0&gt;</td>\n",
       "      <td>NaN</td>\n",
       "      <td>&lt;-2&gt; [GIC]</td>\n",
       "      <td>NaN</td>\n",
       "      <td>&lt;-2&gt; [GIC]</td>\n",
       "      <td>NaN</td>\n",
       "      <td>&lt;-2&gt; [GIC]</td>\n",
       "      <td>NaN</td>\n",
       "      <td>&lt;-2&gt; [GIC]</td>\n",
       "      <td>0.0</td>\n",
       "      <td>&lt;-3&gt; (CSM)</td>\n",
       "      <td>NaN</td>\n",
       "      <td>&lt;-2&gt; [GIC]</td>\n",
       "    </tr>\n",
       "    <tr>\n",
       "      <th>2</th>\n",
       "      <td>-24.8</td>\n",
       "      <td>&lt;0&gt;</td>\n",
       "      <td>NaN</td>\n",
       "      <td>&lt;-2&gt; [GIC]</td>\n",
       "      <td>NaN</td>\n",
       "      <td>&lt;-2&gt; [GIC]</td>\n",
       "      <td>NaN</td>\n",
       "      <td>&lt;-2&gt; [GIC]</td>\n",
       "      <td>NaN</td>\n",
       "      <td>&lt;-2&gt; [GIC]</td>\n",
       "      <td>0.0</td>\n",
       "      <td>&lt;-3&gt; (CSM)</td>\n",
       "      <td>NaN</td>\n",
       "      <td>&lt;-2&gt; [GIC]</td>\n",
       "    </tr>\n",
       "    <tr>\n",
       "      <th>3</th>\n",
       "      <td>-25.0</td>\n",
       "      <td>&lt;0&gt;</td>\n",
       "      <td>NaN</td>\n",
       "      <td>&lt;-2&gt; [GIC]</td>\n",
       "      <td>NaN</td>\n",
       "      <td>&lt;-2&gt; [GIC]</td>\n",
       "      <td>NaN</td>\n",
       "      <td>&lt;-2&gt; [GIC]</td>\n",
       "      <td>NaN</td>\n",
       "      <td>&lt;-2&gt; [GIC]</td>\n",
       "      <td>0.0</td>\n",
       "      <td>&lt;-3&gt; (CSM)</td>\n",
       "      <td>NaN</td>\n",
       "      <td>&lt;-2&gt; [GIC]</td>\n",
       "    </tr>\n",
       "    <tr>\n",
       "      <th>4</th>\n",
       "      <td>-25.2</td>\n",
       "      <td>&lt;0&gt;</td>\n",
       "      <td>NaN</td>\n",
       "      <td>&lt;-2&gt; [GIC]</td>\n",
       "      <td>NaN</td>\n",
       "      <td>&lt;-2&gt; [GIC]</td>\n",
       "      <td>NaN</td>\n",
       "      <td>&lt;-2&gt; [GIC]</td>\n",
       "      <td>NaN</td>\n",
       "      <td>&lt;-2&gt; [GIC]</td>\n",
       "      <td>0.0</td>\n",
       "      <td>&lt;-3&gt; (CSM)</td>\n",
       "      <td>NaN</td>\n",
       "      <td>&lt;-2&gt; [GIC]</td>\n",
       "    </tr>\n",
       "  </tbody>\n",
       "</table>\n",
       "</div>"
      ],
      "text/plain": [
       "   LKSPOMET_ATemp LKSPOMET_F_ATemp  LKSBAWQ_Temp LKSBAWQ_F_Temp  LKSBAWQ_Sal  \\\n",
       "0           -24.5             <0>            NaN     <-2> [GIC]          NaN   \n",
       "1           -24.7             <0>            NaN     <-2> [GIC]          NaN   \n",
       "2           -24.8             <0>            NaN     <-2> [GIC]          NaN   \n",
       "3           -25.0             <0>            NaN     <-2> [GIC]          NaN   \n",
       "4           -25.2             <0>            NaN     <-2> [GIC]          NaN   \n",
       "\n",
       "  LKSBAWQ_F_Sal  LKSBAWQ_Depth LKSBAWQ_F_Depth  LKSBAWQ_pH LKSBAWQ_F_pH  \\\n",
       "0    <-2> [GIC]            NaN      <-2> [GIC]         NaN   <-2> [GIC]   \n",
       "1    <-2> [GIC]            NaN      <-2> [GIC]         NaN   <-2> [GIC]   \n",
       "2    <-2> [GIC]            NaN      <-2> [GIC]         NaN   <-2> [GIC]   \n",
       "3    <-2> [GIC]            NaN      <-2> [GIC]         NaN   <-2> [GIC]   \n",
       "4    <-2> [GIC]            NaN      <-2> [GIC]         NaN   <-2> [GIC]   \n",
       "\n",
       "   LKSPOMET_TotPrcp LKSPOMET_F_TotPrcp  LKSBAWQ_Turb LKSBAWQ_F_Turb  \n",
       "0               0.0         <-3> (CSM)           NaN     <-2> [GIC]  \n",
       "1               0.0         <-3> (CSM)           NaN     <-2> [GIC]  \n",
       "2               0.0         <-3> (CSM)           NaN     <-2> [GIC]  \n",
       "3               0.0         <-3> (CSM)           NaN     <-2> [GIC]  \n",
       "4               0.0         <-3> (CSM)           NaN     <-2> [GIC]  "
      ]
     },
     "execution_count": 4,
     "metadata": {},
     "output_type": "execute_result"
    }
   ],
   "source": [
    "#Create data frame of prioritized data elements for analysis (water temp, water salinitiy, water depth, water pH, and total precipitation)\n",
    "new_df = merged_df[['LKSPOMET_ATemp', 'LKSPOMET_F_ATemp', \n",
    "                    'LKSBAWQ_Temp', 'LKSBAWQ_F_Temp',\n",
    "                    'LKSBAWQ_Sal', 'LKSBAWQ_F_Sal',\n",
    "                   'LKSBAWQ_Depth','LKSBAWQ_F_Depth', \n",
    "                    'LKSBAWQ_pH','LKSBAWQ_F_pH', \n",
    "                   'LKSPOMET_TotPrcp','LKSPOMET_F_TotPrcp',\n",
    "                    'LKSBAWQ_Turb', 'LKSBAWQ_F_Turb'\n",
    "                   ]]\n",
    "new_df.head()"
   ]
  },
  {
   "cell_type": "code",
   "execution_count": 5,
   "metadata": {},
   "outputs": [],
   "source": [
    "# Check air temperature column values \n",
    "\n",
    "#metTemp_Values = new_df['LKSPOMET_F_ATemp'].values.tolist()\n",
    "#print(metTemp_Values)"
   ]
  },
  {
   "cell_type": "code",
   "execution_count": 6,
   "metadata": {},
   "outputs": [
    {
     "data": {
      "text/plain": [
       "159772"
      ]
     },
     "execution_count": 6,
     "metadata": {},
     "output_type": "execute_result"
    }
   ],
   "source": [
    "#Exclude data that was flagged (0=Passed Initial QAQC Checks,  5=Corrected Data)\n",
    "quality_codes = ['<0> ', '<0> [GMT]','<5> '];\n",
    "filtered_mettemp_df = new_df[new_df['LKSPOMET_F_ATemp'].isin(quality_codes)]\n",
    "#filtered_mettemp_df.head()\n",
    "len(filtered_mettemp_df)"
   ]
  },
  {
   "cell_type": "code",
   "execution_count": 7,
   "metadata": {},
   "outputs": [
    {
     "data": {
      "text/plain": [
       "90441"
      ]
     },
     "execution_count": 7,
     "metadata": {},
     "output_type": "execute_result"
    }
   ],
   "source": [
    "#Exclude data that was flagged (0=Passed Initial QAQC Checks,  5=Corrected Data)\n",
    "quality_codes = ['<0> ', '<0> [GMT]','<5> '];\n",
    "wqtemp_df = filtered_mettemp_df[filtered_mettemp_df['LKSBAWQ_F_Temp'].isin(quality_codes)]\n",
    "#wqtemp_df.head()\n",
    "len(wqtemp_df)"
   ]
  },
  {
   "cell_type": "code",
   "execution_count": 10,
   "metadata": {},
   "outputs": [
    {
     "data": {
      "text/plain": [
       "84272"
      ]
     },
     "execution_count": 10,
     "metadata": {},
     "output_type": "execute_result"
    }
   ],
   "source": [
    "#Exclude data that was flagged (0=Passed Initial QAQC Checks,  5=Corrected Data) LKSBAWQ_F_Depth\n",
    "quality_codes = ['<0> ', '<0> [GMT]','<5> '];\n",
    "depth_df = sal_df[sal_df['LKSBAWQ_F_Depth'].isin(quality_codes)]\n",
    "#depth_df.head()\n",
    "len(depth_df)"
   ]
  },
  {
   "cell_type": "code",
   "execution_count": 11,
   "metadata": {},
   "outputs": [
    {
     "data": {
      "text/plain": [
       "80417"
      ]
     },
     "execution_count": 11,
     "metadata": {},
     "output_type": "execute_result"
    }
   ],
   "source": [
    "#Exclude data that was flagged (0=Passed Initial QAQC Checks,  5=Corrected Data) LKSBAWQ_F_pH\n",
    "quality_codes = ['<0> ', '<0> [GMT]','<5> '];\n",
    "pH_df = depth_df[depth_df['LKSBAWQ_F_pH'].isin(quality_codes)]\n",
    "#pH_df.head()\n",
    "len(pH_df)"
   ]
  },
  {
   "cell_type": "code",
   "execution_count": 13,
   "metadata": {},
   "outputs": [
    {
     "data": {
      "text/plain": [
       "63711"
      ]
     },
     "execution_count": 13,
     "metadata": {},
     "output_type": "execute_result"
    }
   ],
   "source": [
    "#Exclude data that was flagged (0=Passed Initial QAQC Checks,  5=Corrected Data) LKSPOMET_F_TotPrcp\n",
    "quality_codes = ['<0> ', '<0> [GMT]','<5> '];\n",
    "precip_df = pH_df[pH_df['LKSPOMET_F_TotPrcp'].isin(quality_codes)]\n",
    "#precip_df.head()\n",
    "len(precip_df)"
   ]
  },
  {
   "cell_type": "code",
   "execution_count": 14,
   "metadata": {},
   "outputs": [
    {
     "data": {
      "text/plain": [
       "59231"
      ]
     },
     "execution_count": 14,
     "metadata": {},
     "output_type": "execute_result"
    }
   ],
   "source": [
    "#Exclude data that was flagged (0=Passed Initial QAQC Checks,  5=Corrected Data) LKSBAWQ_F_Turb\n",
    "quality_codes = ['<0> ', '<0> [GMT]','<5> '];\n",
    "turbidity_df = precip_df[precip_df['LKSBAWQ_F_Turb'].isin(quality_codes)]\n",
    "#turbidity_df.head()\n",
    "len(turbidity_df)"
   ]
  },
  {
   "cell_type": "code",
   "execution_count": 15,
   "metadata": {},
   "outputs": [
    {
     "data": {
      "text/html": [
       "<div>\n",
       "<style scoped>\n",
       "    .dataframe tbody tr th:only-of-type {\n",
       "        vertical-align: middle;\n",
       "    }\n",
       "\n",
       "    .dataframe tbody tr th {\n",
       "        vertical-align: top;\n",
       "    }\n",
       "\n",
       "    .dataframe thead th {\n",
       "        text-align: right;\n",
       "    }\n",
       "</style>\n",
       "<table border=\"1\" class=\"dataframe\">\n",
       "  <thead>\n",
       "    <tr style=\"text-align: right;\">\n",
       "      <th></th>\n",
       "      <th>LKSPOMET_ATemp</th>\n",
       "      <th>LKSPOMET_F_ATemp</th>\n",
       "      <th>LKSBAWQ_Temp</th>\n",
       "      <th>LKSBAWQ_F_Temp</th>\n",
       "      <th>LKSBAWQ_Sal</th>\n",
       "      <th>LKSBAWQ_F_Sal</th>\n",
       "      <th>LKSBAWQ_Depth</th>\n",
       "      <th>LKSBAWQ_F_Depth</th>\n",
       "      <th>LKSBAWQ_pH</th>\n",
       "      <th>LKSBAWQ_F_pH</th>\n",
       "      <th>LKSPOMET_TotPrcp</th>\n",
       "      <th>LKSPOMET_F_TotPrcp</th>\n",
       "      <th>LKSBAWQ_Turb</th>\n",
       "      <th>LKSBAWQ_F_Turb</th>\n",
       "    </tr>\n",
       "  </thead>\n",
       "  <tbody>\n",
       "    <tr>\n",
       "      <th>14454</th>\n",
       "      <td>23.9</td>\n",
       "      <td>&lt;0&gt;</td>\n",
       "      <td>17.2</td>\n",
       "      <td>&lt;0&gt;</td>\n",
       "      <td>0.1</td>\n",
       "      <td>&lt;0&gt;</td>\n",
       "      <td>1.49</td>\n",
       "      <td>&lt;0&gt;</td>\n",
       "      <td>7.8</td>\n",
       "      <td>&lt;0&gt;</td>\n",
       "      <td>0.0</td>\n",
       "      <td>&lt;0&gt;</td>\n",
       "      <td>15.0</td>\n",
       "      <td>&lt;0&gt;</td>\n",
       "    </tr>\n",
       "    <tr>\n",
       "      <th>14455</th>\n",
       "      <td>24.0</td>\n",
       "      <td>&lt;0&gt;</td>\n",
       "      <td>17.2</td>\n",
       "      <td>&lt;0&gt;</td>\n",
       "      <td>0.1</td>\n",
       "      <td>&lt;0&gt;</td>\n",
       "      <td>1.51</td>\n",
       "      <td>&lt;0&gt;</td>\n",
       "      <td>7.8</td>\n",
       "      <td>&lt;0&gt;</td>\n",
       "      <td>0.0</td>\n",
       "      <td>&lt;0&gt;</td>\n",
       "      <td>15.0</td>\n",
       "      <td>&lt;0&gt;</td>\n",
       "    </tr>\n",
       "    <tr>\n",
       "      <th>14456</th>\n",
       "      <td>23.9</td>\n",
       "      <td>&lt;0&gt;</td>\n",
       "      <td>17.3</td>\n",
       "      <td>&lt;0&gt;</td>\n",
       "      <td>0.1</td>\n",
       "      <td>&lt;0&gt;</td>\n",
       "      <td>1.53</td>\n",
       "      <td>&lt;0&gt;</td>\n",
       "      <td>7.8</td>\n",
       "      <td>&lt;0&gt;</td>\n",
       "      <td>0.0</td>\n",
       "      <td>&lt;0&gt;</td>\n",
       "      <td>15.0</td>\n",
       "      <td>&lt;0&gt;</td>\n",
       "    </tr>\n",
       "    <tr>\n",
       "      <th>14457</th>\n",
       "      <td>24.2</td>\n",
       "      <td>&lt;0&gt;</td>\n",
       "      <td>17.4</td>\n",
       "      <td>&lt;0&gt;</td>\n",
       "      <td>0.1</td>\n",
       "      <td>&lt;0&gt;</td>\n",
       "      <td>1.55</td>\n",
       "      <td>&lt;0&gt;</td>\n",
       "      <td>7.8</td>\n",
       "      <td>&lt;0&gt;</td>\n",
       "      <td>0.0</td>\n",
       "      <td>&lt;0&gt;</td>\n",
       "      <td>14.0</td>\n",
       "      <td>&lt;0&gt;</td>\n",
       "    </tr>\n",
       "    <tr>\n",
       "      <th>14458</th>\n",
       "      <td>24.4</td>\n",
       "      <td>&lt;0&gt;</td>\n",
       "      <td>17.4</td>\n",
       "      <td>&lt;0&gt;</td>\n",
       "      <td>0.1</td>\n",
       "      <td>&lt;0&gt;</td>\n",
       "      <td>1.58</td>\n",
       "      <td>&lt;0&gt;</td>\n",
       "      <td>7.8</td>\n",
       "      <td>&lt;0&gt;</td>\n",
       "      <td>0.0</td>\n",
       "      <td>&lt;0&gt;</td>\n",
       "      <td>15.0</td>\n",
       "      <td>&lt;0&gt;</td>\n",
       "    </tr>\n",
       "  </tbody>\n",
       "</table>\n",
       "</div>"
      ],
      "text/plain": [
       "       LKSPOMET_ATemp LKSPOMET_F_ATemp  LKSBAWQ_Temp LKSBAWQ_F_Temp  \\\n",
       "14454            23.9             <0>           17.2           <0>    \n",
       "14455            24.0             <0>           17.2           <0>    \n",
       "14456            23.9             <0>           17.3           <0>    \n",
       "14457            24.2             <0>           17.4           <0>    \n",
       "14458            24.4             <0>           17.4           <0>    \n",
       "\n",
       "       LKSBAWQ_Sal LKSBAWQ_F_Sal  LKSBAWQ_Depth LKSBAWQ_F_Depth  LKSBAWQ_pH  \\\n",
       "14454          0.1          <0>            1.49            <0>          7.8   \n",
       "14455          0.1          <0>            1.51            <0>          7.8   \n",
       "14456          0.1          <0>            1.53            <0>          7.8   \n",
       "14457          0.1          <0>            1.55            <0>          7.8   \n",
       "14458          0.1          <0>            1.58            <0>          7.8   \n",
       "\n",
       "      LKSBAWQ_F_pH  LKSPOMET_TotPrcp LKSPOMET_F_TotPrcp  LKSBAWQ_Turb  \\\n",
       "14454         <0>                0.0               <0>           15.0   \n",
       "14455         <0>                0.0               <0>           15.0   \n",
       "14456         <0>                0.0               <0>           15.0   \n",
       "14457         <0>                0.0               <0>           14.0   \n",
       "14458         <0>                0.0               <0>           15.0   \n",
       "\n",
       "      LKSBAWQ_F_Turb  \n",
       "14454           <0>   \n",
       "14455           <0>   \n",
       "14456           <0>   \n",
       "14457           <0>   \n",
       "14458           <0>   "
      ]
     },
     "execution_count": 15,
     "metadata": {},
     "output_type": "execute_result"
    }
   ],
   "source": [
    "#Check dataframe\n",
    "turbidity_df.head()"
   ]
  },
  {
   "cell_type": "code",
   "execution_count": 19,
   "metadata": {},
   "outputs": [
    {
     "data": {
      "text/html": [
       "<div>\n",
       "<style scoped>\n",
       "    .dataframe tbody tr th:only-of-type {\n",
       "        vertical-align: middle;\n",
       "    }\n",
       "\n",
       "    .dataframe tbody tr th {\n",
       "        vertical-align: top;\n",
       "    }\n",
       "\n",
       "    .dataframe thead th {\n",
       "        text-align: right;\n",
       "    }\n",
       "</style>\n",
       "<table border=\"1\" class=\"dataframe\">\n",
       "  <thead>\n",
       "    <tr style=\"text-align: right;\">\n",
       "      <th></th>\n",
       "      <th>LKSPOMET_TotPrcp</th>\n",
       "      <th>LKSPOMET_ATemp</th>\n",
       "      <th>LKSBAWQ_Temp</th>\n",
       "      <th>LKSBAWQ_Sal</th>\n",
       "      <th>LKSBAWQ_Depth</th>\n",
       "      <th>LKSBAWQ_pH</th>\n",
       "      <th>LKSBAWQ_Turb</th>\n",
       "    </tr>\n",
       "  </thead>\n",
       "  <tbody>\n",
       "    <tr>\n",
       "      <th>0</th>\n",
       "      <td>0.0</td>\n",
       "      <td>-24.5</td>\n",
       "      <td>NaN</td>\n",
       "      <td>NaN</td>\n",
       "      <td>NaN</td>\n",
       "      <td>NaN</td>\n",
       "      <td>NaN</td>\n",
       "    </tr>\n",
       "    <tr>\n",
       "      <th>1</th>\n",
       "      <td>0.0</td>\n",
       "      <td>-24.7</td>\n",
       "      <td>NaN</td>\n",
       "      <td>NaN</td>\n",
       "      <td>NaN</td>\n",
       "      <td>NaN</td>\n",
       "      <td>NaN</td>\n",
       "    </tr>\n",
       "    <tr>\n",
       "      <th>2</th>\n",
       "      <td>0.0</td>\n",
       "      <td>-24.8</td>\n",
       "      <td>NaN</td>\n",
       "      <td>NaN</td>\n",
       "      <td>NaN</td>\n",
       "      <td>NaN</td>\n",
       "      <td>NaN</td>\n",
       "    </tr>\n",
       "    <tr>\n",
       "      <th>3</th>\n",
       "      <td>0.0</td>\n",
       "      <td>-25.0</td>\n",
       "      <td>NaN</td>\n",
       "      <td>NaN</td>\n",
       "      <td>NaN</td>\n",
       "      <td>NaN</td>\n",
       "      <td>NaN</td>\n",
       "    </tr>\n",
       "    <tr>\n",
       "      <th>4</th>\n",
       "      <td>0.0</td>\n",
       "      <td>-25.2</td>\n",
       "      <td>NaN</td>\n",
       "      <td>NaN</td>\n",
       "      <td>NaN</td>\n",
       "      <td>NaN</td>\n",
       "      <td>NaN</td>\n",
       "    </tr>\n",
       "    <tr>\n",
       "      <th>...</th>\n",
       "      <td>...</td>\n",
       "      <td>...</td>\n",
       "      <td>...</td>\n",
       "      <td>...</td>\n",
       "      <td>...</td>\n",
       "      <td>...</td>\n",
       "      <td>...</td>\n",
       "    </tr>\n",
       "    <tr>\n",
       "      <th>95</th>\n",
       "      <td>0.0</td>\n",
       "      <td>-18.2</td>\n",
       "      <td>NaN</td>\n",
       "      <td>NaN</td>\n",
       "      <td>NaN</td>\n",
       "      <td>NaN</td>\n",
       "      <td>NaN</td>\n",
       "    </tr>\n",
       "    <tr>\n",
       "      <th>96</th>\n",
       "      <td>0.0</td>\n",
       "      <td>-18.1</td>\n",
       "      <td>NaN</td>\n",
       "      <td>NaN</td>\n",
       "      <td>NaN</td>\n",
       "      <td>NaN</td>\n",
       "      <td>NaN</td>\n",
       "    </tr>\n",
       "    <tr>\n",
       "      <th>97</th>\n",
       "      <td>0.0</td>\n",
       "      <td>-18.2</td>\n",
       "      <td>NaN</td>\n",
       "      <td>NaN</td>\n",
       "      <td>NaN</td>\n",
       "      <td>NaN</td>\n",
       "      <td>NaN</td>\n",
       "    </tr>\n",
       "    <tr>\n",
       "      <th>98</th>\n",
       "      <td>0.0</td>\n",
       "      <td>-18.0</td>\n",
       "      <td>NaN</td>\n",
       "      <td>NaN</td>\n",
       "      <td>NaN</td>\n",
       "      <td>NaN</td>\n",
       "      <td>NaN</td>\n",
       "    </tr>\n",
       "    <tr>\n",
       "      <th>99</th>\n",
       "      <td>0.0</td>\n",
       "      <td>-17.8</td>\n",
       "      <td>NaN</td>\n",
       "      <td>NaN</td>\n",
       "      <td>NaN</td>\n",
       "      <td>NaN</td>\n",
       "      <td>NaN</td>\n",
       "    </tr>\n",
       "  </tbody>\n",
       "</table>\n",
       "<p>100 rows × 7 columns</p>\n",
       "</div>"
      ],
      "text/plain": [
       "    LKSPOMET_TotPrcp  LKSPOMET_ATemp  LKSBAWQ_Temp  LKSBAWQ_Sal  \\\n",
       "0                0.0           -24.5           NaN          NaN   \n",
       "1                0.0           -24.7           NaN          NaN   \n",
       "2                0.0           -24.8           NaN          NaN   \n",
       "3                0.0           -25.0           NaN          NaN   \n",
       "4                0.0           -25.2           NaN          NaN   \n",
       "..               ...             ...           ...          ...   \n",
       "95               0.0           -18.2           NaN          NaN   \n",
       "96               0.0           -18.1           NaN          NaN   \n",
       "97               0.0           -18.2           NaN          NaN   \n",
       "98               0.0           -18.0           NaN          NaN   \n",
       "99               0.0           -17.8           NaN          NaN   \n",
       "\n",
       "    LKSBAWQ_Depth  LKSBAWQ_pH  LKSBAWQ_Turb  \n",
       "0             NaN         NaN           NaN  \n",
       "1             NaN         NaN           NaN  \n",
       "2             NaN         NaN           NaN  \n",
       "3             NaN         NaN           NaN  \n",
       "4             NaN         NaN           NaN  \n",
       "..            ...         ...           ...  \n",
       "95            NaN         NaN           NaN  \n",
       "96            NaN         NaN           NaN  \n",
       "97            NaN         NaN           NaN  \n",
       "98            NaN         NaN           NaN  \n",
       "99            NaN         NaN           NaN  \n",
       "\n",
       "[100 rows x 7 columns]"
      ]
     },
     "execution_count": 19,
     "metadata": {},
     "output_type": "execute_result"
    }
   ],
   "source": [
    "#Establish new dataframe dropping the metadata values which are no longer needed\n",
    "new_turbidity_df = merged_df[[\n",
    "                    'LKSPOMET_TotPrcp',\n",
    "                    'LKSPOMET_ATemp', \n",
    "                    'LKSBAWQ_Temp', \n",
    "                    'LKSBAWQ_Sal', \n",
    "                   'LKSBAWQ_Depth',\n",
    "                    'LKSBAWQ_pH',\n",
    "                    'LKSBAWQ_Turb', \n",
    "                   ]]\n",
    "new_turbidity_df.head(100)"
   ]
  },
  {
   "cell_type": "code",
   "execution_count": 20,
   "metadata": {},
   "outputs": [],
   "source": [
    "#Export cleaned filtered data to new csv\n",
    "new_turbidity_df.to_csv('turbidity_df.csv')"
   ]
  }
 ],
 "metadata": {
  "kernelspec": {
   "display_name": "Python 3 (ipykernel)",
   "language": "python",
   "name": "python3"
  },
  "language_info": {
   "codemirror_mode": {
    "name": "ipython",
    "version": 3
   },
   "file_extension": ".py",
   "mimetype": "text/x-python",
   "name": "python",
   "nbconvert_exporter": "python",
   "pygments_lexer": "ipython3",
   "version": "3.10.11"
  },
  "varInspector": {
   "cols": {
    "lenName": 16,
    "lenType": 16,
    "lenVar": 40
   },
   "kernels_config": {
    "python": {
     "delete_cmd_postfix": "",
     "delete_cmd_prefix": "del ",
     "library": "var_list.py",
     "varRefreshCmd": "print(var_dic_list())"
    },
    "r": {
     "delete_cmd_postfix": ") ",
     "delete_cmd_prefix": "rm(",
     "library": "var_list.r",
     "varRefreshCmd": "cat(var_dic_list()) "
    }
   },
   "types_to_exclude": [
    "module",
    "function",
    "builtin_function_or_method",
    "instance",
    "_Feature"
   ],
   "window_display": false
  }
 },
 "nbformat": 4,
 "nbformat_minor": 2
}
